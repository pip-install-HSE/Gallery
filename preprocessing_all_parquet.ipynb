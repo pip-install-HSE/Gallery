{
 "cells": [
  {
   "cell_type": "code",
   "execution_count": 25,
   "id": "0bbd4113",
   "metadata": {},
   "outputs": [
    {
     "name": "stdout",
     "output_type": "stream",
     "text": [
      "\"/root/data/RowData/player_log/player=2684/month=2021-6.parquet\",\n",
      "\"/root/data/RowData/player_log/player=342/month=2021-2.parquet\",\n",
      "\"/root/data/RowData/player_log/player=342/month=2020-12.parquet\",\n",
      "\"/root/data/RowData/player_log/player=342/month=2021-4.parquet\",\n",
      "\"/root/data/RowData/player_log/player=342/month=2021-3.parquet\",\n",
      "\"/root/data/RowData/player_log/player=342/month=2021-6.parquet\",\n",
      "\"/root/data/RowData/player_log/player=342/month=2020-11.parquet\",\n",
      "\"/root/data/RowData/player_log/player=342/month=2021-5.parquet\",\n",
      "\"/root/data/RowData/player_log/player=342/month=2021-1.parquet\",\n",
      "\"/root/data/RowData/player_log/player=281/month=2021-2.parquet\",\n",
      "\"/root/data/RowData/player_log/player=281/month=2020-12.parquet\",\n",
      "\"/root/data/RowData/player_log/player=281/month=2021-4.parquet\",\n",
      "\"/root/data/RowData/player_log/player=281/month=2021-3.parquet\",\n",
      "\"/root/data/RowData/player_log/player=281/month=2021-6.parquet\",\n",
      "\"/root/data/RowData/player_log/player=281/month=2020-11.parquet\",\n",
      "\"/root/data/RowData/player_log/player=281/month=2021-5.parquet\",\n",
      "\"/root/data/RowData/player_log/player=281/month=2021-1.parquet\",\n",
      "\"/root/data/RowData/player_log/player=258/month=2021-2.parquet\",\n",
      "\"/root/data/RowData/player_log/player=258/month=2020-12.parquet\",\n",
      "\"/root/data/RowData/player_log/player=258/month=2021-4.parquet\",\n",
      "\"/root/data/RowData/player_log/player=258/month=2021-3.parquet\",\n",
      "\"/root/data/RowData/player_log/player=258/month=2021-6.parquet\",\n",
      "\"/root/data/RowData/player_log/player=258/month=2020-11.parquet\",\n",
      "\"/root/data/RowData/player_log/player=258/month=2021-5.parquet\",\n",
      "\"/root/data/RowData/player_log/player=258/month=2021-1.parquet\",\n",
      "\"/root/data/RowData/player_log/player=28/month=2021-2.parquet\",\n",
      "\"/root/data/RowData/player_log/player=28/month=2020-12.parquet\",\n",
      "\"/root/data/RowData/player_log/player=28/month=2021-4.parquet\",\n",
      "\"/root/data/RowData/player_log/player=28/month=2021-3.parquet\",\n",
      "\"/root/data/RowData/player_log/player=28/month=2021-6.parquet\",\n",
      "\"/root/data/RowData/player_log/player=28/month=2020-11.parquet\",\n",
      "\"/root/data/RowData/player_log/player=28/month=2021-5.parquet\",\n",
      "\"/root/data/RowData/player_log/player=28/month=2021-1.parquet\",\n",
      "\"/root/data/RowData/player_log/player=2669/month=2021-6.parquet\",\n",
      "\n",
      "\n",
      "\"/root/data/RowData/player_log/player=2669/month=2021-5.parquet\",\n",
      "\"/root/data/RowData/player_log/player=256/month=2021-2.parquet\",\n",
      "\"/root/data/RowData/player_log/player=256/month=2020-12.parquet\",\n",
      "\"/root/data/RowData/player_log/player=256/month=2021-4.parquet\",\n",
      "\"/root/data/RowData/player_log/player=256/month=2021-3.parquet\",\n",
      "\"/root/data/RowData/player_log/player=256/month=2021-6.parquet\",\n",
      "\"/root/data/RowData/player_log/player=256/month=2020-11.parquet\",\n",
      "\"/root/data/RowData/player_log/player=256/month=2021-5.parquet\",\n",
      "\"/root/data/RowData/player_log/player=256/month=2021-1.parquet\",\n",
      "\"/root/data/RowData/player_log/player=408/month=2021-2.parquet\",\n",
      "\"/root/data/RowData/player_log/player=408/month=2020-12.parquet\",\n",
      "\"/root/data/RowData/player_log/player=408/month=2021-4.parquet\",\n",
      "\"/root/data/RowData/player_log/player=408/month=2021-3.parquet\",\n",
      "\"/root/data/RowData/player_log/player=408/month=2021-6.parquet\",\n",
      "\"/root/data/RowData/player_log/player=408/month=2020-11.parquet\",\n",
      "\"/root/data/RowData/player_log/player=408/month=2021-5.parquet\",\n",
      "\"/root/data/RowData/player_log/player=408/month=2021-1.parquet\",\n",
      "\"/root/data/RowData/player_log/player=278/month=2021-2.parquet\",\n",
      "\"/root/data/RowData/player_log/player=278/month=2020-12.parquet\",\n",
      "\"/root/data/RowData/player_log/player=278/month=2021-4.parquet\",\n",
      "\"/root/data/RowData/player_log/player=278/month=2021-3.parquet\",\n",
      "\"/root/data/RowData/player_log/player=278/month=2021-6.parquet\",\n",
      "\"/root/data/RowData/player_log/player=278/month=2020-11.parquet\",\n",
      "\"/root/data/RowData/player_log/player=278/month=2021-5.parquet\",\n",
      "\"/root/data/RowData/player_log/player=278/month=2021-1.parquet\",\n",
      "\"/root/data/RowData/player_log/player=411/month=2021-2.parquet\",\n",
      "\"/root/data/RowData/player_log/player=411/month=2020-12.parquet\",\n",
      "\"/root/data/RowData/player_log/player=411/month=2021-4.parquet\",\n",
      "\"/root/data/RowData/player_log/player=411/month=2021-3.parquet\",\n",
      "\"/root/data/RowData/player_log/player=411/month=2021-6.parquet\",\n",
      "\"/root/data/RowData/player_log/player=411/month=2020-11.parquet\",\n",
      "\"/root/data/RowData/player_log/player=411/month=2021-5.parquet\",\n",
      "\"/root/data/RowData/player_log/player=411/month=2021-1.parquet\",\n",
      "\"/root/data/RowData/player_log/player=26/month=2021-2.parquet\",\n",
      "\n",
      "\n",
      "\"/root/data/RowData/player_log/player=26/month=2020-12.parquet\",\n",
      "\"/root/data/RowData/player_log/player=26/month=2021-4.parquet\",\n",
      "\"/root/data/RowData/player_log/player=26/month=2021-3.parquet\",\n",
      "\"/root/data/RowData/player_log/player=26/month=2021-6.parquet\",\n",
      "\"/root/data/RowData/player_log/player=26/month=2020-11.parquet\",\n",
      "\"/root/data/RowData/player_log/player=26/month=2021-5.parquet\",\n",
      "\"/root/data/RowData/player_log/player=26/month=2021-1.parquet\",\n",
      "\"/root/data/RowData/player_log/player=282/month=2021-2.parquet\",\n",
      "\"/root/data/RowData/player_log/player=282/month=2020-12.parquet\",\n",
      "\"/root/data/RowData/player_log/player=282/month=2021-4.parquet\",\n",
      "\"/root/data/RowData/player_log/player=282/month=2021-3.parquet\",\n",
      "\"/root/data/RowData/player_log/player=282/month=2021-6.parquet\",\n",
      "\"/root/data/RowData/player_log/player=282/month=2020-11.parquet\",\n",
      "\"/root/data/RowData/player_log/player=282/month=2021-5.parquet\",\n",
      "\"/root/data/RowData/player_log/player=282/month=2021-1.parquet\",\n",
      "\"/root/data/RowData/player_log/player=2629/month=2021-2.parquet\",\n",
      "\"/root/data/RowData/player_log/player=2629/month=2020-12.parquet\",\n",
      "\"/root/data/RowData/player_log/player=2629/month=2021-4.parquet\",\n",
      "\"/root/data/RowData/player_log/player=2629/month=2021-3.parquet\",\n",
      "\"/root/data/RowData/player_log/player=2629/month=2021-6.parquet\",\n",
      "\"/root/data/RowData/player_log/player=2629/month=2020-11.parquet\",\n",
      "\"/root/data/RowData/player_log/player=2629/month=2021-5.parquet\",\n",
      "\"/root/data/RowData/player_log/player=2629/month=2021-1.parquet\",\n",
      "\"/root/data/RowData/player_log/player=1571/month=2021-2.parquet\",\n",
      "\"/root/data/RowData/player_log/player=1571/month=2020-12.parquet\",\n",
      "\"/root/data/RowData/player_log/player=1571/month=2021-4.parquet\",\n",
      "\"/root/data/RowData/player_log/player=1571/month=2021-3.parquet\",\n",
      "\"/root/data/RowData/player_log/player=1571/month=2021-6.parquet\",\n",
      "\"/root/data/RowData/player_log/player=1571/month=2020-11.parquet\",\n",
      "\"/root/data/RowData/player_log/player=1571/month=2021-5.parquet\",\n",
      "\"/root/data/RowData/player_log/player=1571/month=2021-1.parquet\",\n",
      "\"/root/data/RowData/player_log/player=2660/month=2021-4.parquet\",\n",
      "\"/root/data/RowData/player_log/player=2660/month=2021-3.parquet\",\n",
      "\"/root/data/RowData/player_log/player=2660/month=2021-6.parquet\",\n",
      "\n",
      "\n",
      "\"/root/data/RowData/player_log/player=2660/month=2021-5.parquet\",\n",
      "\"/root/data/RowData/player_log/player=271/month=2021-2.parquet\",\n",
      "\"/root/data/RowData/player_log/player=271/month=2020-12.parquet\",\n",
      "\"/root/data/RowData/player_log/player=271/month=2021-4.parquet\",\n",
      "\"/root/data/RowData/player_log/player=271/month=2021-3.parquet\",\n",
      "\"/root/data/RowData/player_log/player=271/month=2021-6.parquet\",\n",
      "\"/root/data/RowData/player_log/player=271/month=2020-11.parquet\",\n",
      "\"/root/data/RowData/player_log/player=271/month=2021-5.parquet\",\n",
      "\"/root/data/RowData/player_log/player=271/month=2021-1.parquet\",\n",
      "\"/root/data/RowData/player_log/player=2619/month=2021-2.parquet\",\n",
      "\"/root/data/RowData/player_log/player=2619/month=2020-12.parquet\",\n",
      "\"/root/data/RowData/player_log/player=2619/month=2021-4.parquet\",\n",
      "\"/root/data/RowData/player_log/player=2619/month=2021-3.parquet\",\n",
      "\"/root/data/RowData/player_log/player=2619/month=2021-6.parquet\",\n",
      "\"/root/data/RowData/player_log/player=2619/month=2020-11.parquet\",\n",
      "\"/root/data/RowData/player_log/player=2619/month=2021-5.parquet\",\n",
      "\"/root/data/RowData/player_log/player=2619/month=2021-1.parquet\",\n",
      "\"/root/data/RowData/player_log/player=1548/month=2021-2.parquet\",\n",
      "\"/root/data/RowData/player_log/player=1548/month=2020-12.parquet\",\n",
      "\"/root/data/RowData/player_log/player=1548/month=2021-4.parquet\",\n",
      "\"/root/data/RowData/player_log/player=1548/month=2021-3.parquet\",\n",
      "\"/root/data/RowData/player_log/player=1548/month=2021-6.parquet\",\n",
      "\"/root/data/RowData/player_log/player=1548/month=2020-11.parquet\",\n",
      "\"/root/data/RowData/player_log/player=1548/month=2021-5.parquet\",\n",
      "\"/root/data/RowData/player_log/player=1548/month=2021-1.parquet\",\n",
      "\"/root/data/RowData/player_log/player=2651/month=2021-2.parquet\",\n",
      "\"/root/data/RowData/player_log/player=2651/month=2020-12.parquet\",\n",
      "\"/root/data/RowData/player_log/player=2651/month=2021-4.parquet\",\n",
      "\"/root/data/RowData/player_log/player=2651/month=2021-3.parquet\",\n",
      "\"/root/data/RowData/player_log/player=2651/month=2021-6.parquet\",\n",
      "\"/root/data/RowData/player_log/player=2651/month=2020-11.parquet\",\n",
      "\"/root/data/RowData/player_log/player=2651/month=2021-5.parquet\",\n",
      "\"/root/data/RowData/player_log/player=2651/month=2021-1.parquet\",\n",
      "\"/root/data/RowData/player_log/player=257/month=2021-2.parquet\",\n",
      "\n",
      "\n",
      "\"/root/data/RowData/player_log/player=257/month=2020-12.parquet\",\n",
      "\"/root/data/RowData/player_log/player=257/month=2021-4.parquet\",\n",
      "\"/root/data/RowData/player_log/player=257/month=2021-3.parquet\",\n",
      "\"/root/data/RowData/player_log/player=257/month=2021-6.parquet\",\n",
      "\"/root/data/RowData/player_log/player=257/month=2020-11.parquet\",\n",
      "\"/root/data/RowData/player_log/player=257/month=2021-5.parquet\",\n",
      "\"/root/data/RowData/player_log/player=257/month=2021-1.parquet\",\n",
      "\"/root/data/RowData/player_log/player=280/month=2021-2.parquet\",\n",
      "\"/root/data/RowData/player_log/player=280/month=2020-12.parquet\",\n",
      "\"/root/data/RowData/player_log/player=280/month=2021-4.parquet\",\n",
      "\"/root/data/RowData/player_log/player=280/month=2021-3.parquet\",\n",
      "\"/root/data/RowData/player_log/player=280/month=2021-6.parquet\",\n",
      "\"/root/data/RowData/player_log/player=280/month=2020-11.parquet\",\n",
      "\"/root/data/RowData/player_log/player=280/month=2021-5.parquet\",\n",
      "\"/root/data/RowData/player_log/player=280/month=2021-1.parquet\",\n",
      "\"/root/data/RowData/player_log/player=2609/month=2021-2.parquet\",\n",
      "\"/root/data/RowData/player_log/player=2609/month=2020-12.parquet\",\n",
      "\"/root/data/RowData/player_log/player=2609/month=2021-4.parquet\",\n",
      "\"/root/data/RowData/player_log/player=2609/month=2021-3.parquet\",\n",
      "\"/root/data/RowData/player_log/player=2609/month=2021-6.parquet\",\n",
      "\"/root/data/RowData/player_log/player=2609/month=2020-11.parquet\",\n",
      "\"/root/data/RowData/player_log/player=2609/month=2021-5.parquet\",\n",
      "\"/root/data/RowData/player_log/player=2609/month=2021-1.parquet\",\n",
      "\"/root/data/RowData/player_log/player=1547/month=2021-2.parquet\",\n",
      "\"/root/data/RowData/player_log/player=1547/month=2020-12.parquet\",\n",
      "\"/root/data/RowData/player_log/player=1547/month=2021-4.parquet\",\n",
      "\"/root/data/RowData/player_log/player=1547/month=2021-3.parquet\",\n",
      "\"/root/data/RowData/player_log/player=1547/month=2021-6.parquet\",\n",
      "\"/root/data/RowData/player_log/player=1547/month=2020-11.parquet\",\n",
      "\"/root/data/RowData/player_log/player=1547/month=2021-5.parquet\",\n",
      "\"/root/data/RowData/player_log/player=1547/month=2021-1.parquet\",\n",
      "\"/root/data/RowData/player_log/player=2673/month=2021-4.parquet\",\n",
      "\"/root/data/RowData/player_log/player=2673/month=2021-6.parquet\",\n",
      "\"/root/data/RowData/player_log/player=2673/month=2021-5.parquet\",\n",
      "\n",
      "\n"
     ]
    }
   ],
   "source": [
    "import os\n",
    "data_path = '/root/data/RowData/player_log'\n",
    "players = os.listdir(main_folder)\n",
    "parquets = []\n",
    "for player in players:\n",
    "    files = os.listdir(f\"{data_path}/{player}\")\n",
    "    for file in files:\n",
    "        if file.endswith('.parquet'):\n",
    "            parquets.append(f\"{data_path}/{player}/{file}\")\n",
    "one_thread = len(parquets) // 5\n",
    "for i, parquet in enumerate(parquets):\n",
    "    print(f'\"{parquet}\",')\n",
    "    if (i + 1) % one_thread == 0:\n",
    "        print()\n",
    "        print()"
   ]
  },
  {
   "cell_type": "code",
   "execution_count": 14,
   "id": "36b386bf",
   "metadata": {},
   "outputs": [
    {
     "name": "stdout",
     "output_type": "stream",
     "text": [
      "[]\n"
     ]
    }
   ],
   "source": [
    "import os\n",
    "result = [os.path.join(dp, f) for dp, dn, filenames in os.walk('./data') for f in filenames if os.path.splitext(f)[-1] == '.csv']\n",
    "print(result)"
   ]
  },
  {
   "cell_type": "code",
   "execution_count": 10,
   "id": "636cc744",
   "metadata": {},
   "outputs": [
    {
     "name": "stdout",
     "output_type": "stream",
     "text": [
      "player_details.csv\n"
     ]
    }
   ],
   "source": [
    "path = \"/root/data\"\n",
    "dir_list = os.listdir(path)\n",
    "for filename in fnmatch.filter(dir_list,'*.csv'):\n",
    "  print(filename)"
   ]
  },
  {
   "cell_type": "code",
   "execution_count": 6,
   "id": "5e13eed0",
   "metadata": {},
   "outputs": [
    {
     "ename": "TypeError",
     "evalue": "glob() takes 1 positional argument but 2 positional arguments (and 1 keyword-only argument) were given",
     "output_type": "error",
     "traceback": [
      "\u001b[0;31m---------------------------------------------------------------------------\u001b[0m",
      "\u001b[0;31mTypeError\u001b[0m                                 Traceback (most recent call last)",
      "\u001b[0;32m/tmp/ipykernel_1075/2382381707.py\u001b[0m in \u001b[0;36m<module>\u001b[0;34m\u001b[0m\n\u001b[0;32m----> 1\u001b[0;31m \u001b[0mmyFiles\u001b[0m \u001b[0;34m=\u001b[0m \u001b[0mglob\u001b[0m\u001b[0;34m.\u001b[0m\u001b[0mglob\u001b[0m\u001b[0;34m(\u001b[0m\u001b[0;34m'./data'\u001b[0m\u001b[0;34m,\u001b[0m \u001b[0;34m\"*\"\u001b[0m\u001b[0;34m,\u001b[0m \u001b[0mrecursive\u001b[0m\u001b[0;34m=\u001b[0m\u001b[0;32mTrue\u001b[0m\u001b[0;34m)\u001b[0m\u001b[0;34m\u001b[0m\u001b[0;34m\u001b[0m\u001b[0m\n\u001b[0m\u001b[1;32m      2\u001b[0m \u001b[0mprint\u001b[0m\u001b[0;34m(\u001b[0m\u001b[0mmyFiles\u001b[0m\u001b[0;34m)\u001b[0m\u001b[0;34m\u001b[0m\u001b[0;34m\u001b[0m\u001b[0m\n",
      "\u001b[0;31mTypeError\u001b[0m: glob() takes 1 positional argument but 2 positional arguments (and 1 keyword-only argument) were given"
     ]
    }
   ],
   "source": [
    "myFiles = glob.glob('./data', \"*\", recursive=True)\n",
    "print(myFiles)"
   ]
  },
  {
   "cell_type": "code",
   "execution_count": 4,
   "id": "a581c32b",
   "metadata": {},
   "outputs": [
    {
     "name": "stdout",
     "output_type": "stream",
     "text": [
      "[]\n"
     ]
    }
   ],
   "source": [
    "import fnmatch\n",
    "import os\n",
    "\n",
    "matches = []\n",
    "for root, dirnames, filenames in os.walk('./data'):\n",
    "    for filename in fnmatch.filter(filenames, '*.csv'):\n",
    "        matches.append(os.path.join(root, filename))\n",
    "print(matches)"
   ]
  },
  {
   "cell_type": "code",
   "execution_count": 2,
   "id": "cd9da175",
   "metadata": {},
   "outputs": [],
   "source": [
    "from pathlib import Path\n",
    "\n",
    "for path in Path('./data').rglob('*.csv'):\n",
    "    print(path.name)"
   ]
  },
  {
   "cell_type": "code",
   "execution_count": 1,
   "id": "f6ff2e64",
   "metadata": {},
   "outputs": [
    {
     "name": "stdout",
     "output_type": "stream",
     "text": [
      "['player_details.csv']\n"
     ]
    }
   ],
   "source": [
    "import glob\n",
    "import os\n",
    "\n",
    "os.chdir(r'./data')\n",
    "myFiles = glob.glob('*.csv')\n",
    "print(myFiles)"
   ]
  },
  {
   "cell_type": "code",
   "execution_count": null,
   "id": "03e0093f",
   "metadata": {},
   "outputs": [],
   "source": [
    "from os import listdir\n",
    "from os.path import isfile, join\n",
    "onlyfiles = [f for f in listdir(mypath) if isfile(join(mypath, f))]"
   ]
  }
 ],
 "metadata": {
  "kernelspec": {
   "display_name": "Python 3 (ipykernel)",
   "language": "python",
   "name": "python3"
  },
  "language_info": {
   "codemirror_mode": {
    "name": "ipython",
    "version": 3
   },
   "file_extension": ".py",
   "mimetype": "text/x-python",
   "name": "python",
   "nbconvert_exporter": "python",
   "pygments_lexer": "ipython3",
   "version": "3.9.6"
  }
 },
 "nbformat": 4,
 "nbformat_minor": 5
}
