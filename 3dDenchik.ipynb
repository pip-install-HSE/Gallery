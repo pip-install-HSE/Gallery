{
 "cells": [
  {
   "cell_type": "code",
   "execution_count": 37,
   "id": "1830d926",
   "metadata": {},
   "outputs": [
    {
     "name": "stderr",
     "output_type": "stream",
     "text": [
      "100%|██████████| 4044487/4044487 [01:01<00:00, 65334.09it/s]\n"
     ]
    },
    {
     "data": {
      "text/plain": [
       "array([[[   0.,    0.,    0., ...,    0.,    0.,    0.],\n",
       "        [   0.,    0.,    0., ...,    0.,    0.,    0.],\n",
       "        [   0.,    0.,    0., ...,    0.,    0.,    0.],\n",
       "        ...,\n",
       "        [   0.,    0.,    0., ...,    0.,    0.,    0.],\n",
       "        [   0.,    0.,    0., ...,    0.,    0.,    0.],\n",
       "        [   0.,    0.,    0., ...,    0.,    0.,    0.]],\n",
       "\n",
       "       [[   0.,    0.,    0., ...,    0.,    0.,    0.],\n",
       "        [   0., 1247., 1281., ..., 1420., 1219., 1123.],\n",
       "        [   0.,    0.,    0., ...,    0.,    0.,    0.],\n",
       "        ...,\n",
       "        [   0., 1898., 1485., ..., 2357., 2043., 2151.],\n",
       "        [   0., 1426., 1623., ..., 1599., 1617., 1636.],\n",
       "        [   0., 2392., 2095., ..., 1160.,  988., 1159.]],\n",
       "\n",
       "       [[   0.,    0.,    0., ...,    0.,    0.,    0.],\n",
       "        [   0., 1560., 1415., ..., 1870., 1666., 1603.],\n",
       "        [   0.,  883., 1182., ..., 1182., 1002.,  971.],\n",
       "        ...,\n",
       "        [   0.,    0.,    0., ...,    0.,    0.,    0.],\n",
       "        [   0.,    0.,    0., ...,    0.,    0.,    0.],\n",
       "        [   0., 1276., 1187., ...,    0.,    0.,    7.]],\n",
       "\n",
       "       ...,\n",
       "\n",
       "       [[   0.,    0.,    0., ...,    0.,    0.,    0.],\n",
       "        [   0.,    0.,    0., ...,    0.,    0.,    0.],\n",
       "        [   0.,    0.,    0., ...,    0.,    0.,    0.],\n",
       "        ...,\n",
       "        [   0.,    0.,    0., ...,    0.,    0.,    0.],\n",
       "        [   0.,    0.,    0., ...,    0.,    0.,    0.],\n",
       "        [   0.,    0.,    0., ...,    0.,    0.,    0.]],\n",
       "\n",
       "       [[   0.,    0.,    0., ...,    0.,    0.,    0.],\n",
       "        [   0., 1280., 1471., ..., 1295., 1313., 1403.],\n",
       "        [   0., 1135.,  979., ..., 1106., 1101., 1070.],\n",
       "        ...,\n",
       "        [   0.,  861.,  868., ..., 1318.,  750.,  750.],\n",
       "        [   0.,    0.,    0., ...,  993., 1205.,  873.],\n",
       "        [   0.,    0.,    0., ...,    0.,    0.,    0.]],\n",
       "\n",
       "       [[   0.,    0.,    0., ...,    0.,    0.,    0.],\n",
       "        [   0.,    0.,    0., ...,    0.,    0.,    0.],\n",
       "        [   0., 1809., 1496., ..., 1619., 1473., 1480.],\n",
       "        ...,\n",
       "        [   0., 1077., 1265., ..., 1807., 1519., 1292.],\n",
       "        [   0., 2139., 1767., ..., 1892., 1638., 1684.],\n",
       "        [   0.,    0.,    0., ..., 2294., 2105., 2229.]]])"
      ]
     },
     "execution_count": 37,
     "metadata": {},
     "output_type": "execute_result"
    }
   ],
   "source": [
    "import numpy as np\n",
    "from datetime import datetime\n",
    "import tqdm\n",
    "arr = np.zeros(shape=(13, 32, 49))\n",
    "with open('./data/RowData/player_log/player=257/holidays_new_mean_sum_dist_month.csv', 'r') as file:\n",
    "    for line in tqdm.tqdm(file.readlines()[1:]):\n",
    "        data = line.split(',')\n",
    "        day = int(datetime.utcfromtimestamp(int(data[4]) // 1000).strftime('%d'))\n",
    "        arr[int(data[0])][int(day)][int(data[2])] += int(data[5])\n",
    "#         print(line, end='')\n",
    "arr"
   ]
  },
  {
   "cell_type": "code",
   "execution_count": 38,
   "id": "3712eaf1",
   "metadata": {},
   "outputs": [],
   "source": [
    "np.save('./data/RowData/player_log/player=257/6a16ec_dump', arr)"
   ]
  },
  {
   "cell_type": "code",
   "execution_count": null,
   "id": "505ac680",
   "metadata": {},
   "outputs": [],
   "source": []
  }
 ],
 "metadata": {
  "kernelspec": {
   "display_name": "Python 3 (ipykernel)",
   "language": "python",
   "name": "python3"
  },
  "language_info": {
   "codemirror_mode": {
    "name": "ipython",
    "version": 3
   },
   "file_extension": ".py",
   "mimetype": "text/x-python",
   "name": "python",
   "nbconvert_exporter": "python",
   "pygments_lexer": "ipython3",
   "version": "3.9.6"
  }
 },
 "nbformat": 4,
 "nbformat_minor": 5
}
