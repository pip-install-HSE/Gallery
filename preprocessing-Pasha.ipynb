{
 "cells": [
  {
   "cell_type": "code",
   "execution_count": 9,
   "metadata": {},
   "outputs": [
    {
     "name": "stdout",
     "output_type": "stream",
     "text": [
      "pip install HSE\n"
     ]
    }
   ],
   "source": [
    "print('pip install HSE')\n",
    "# !pip install pandas\n",
    "# !pip install pyarrow\n",
    "# !pip install tqdm"
   ]
  },
  {
   "cell_type": "code",
   "execution_count": 5,
   "metadata": {
    "pycharm": {
     "name": "#%%\n"
    }
   },
   "outputs": [],
   "source": [
    "import pandas as pd\n",
    "import pyarrow.parquet as pq\n",
    "import datetime\n",
    "import time\n",
    "import tqdm\n",
    "from threading import Thread\n",
    "import re\n",
    "import os\n",
    "\n",
    "def parquet_to_csv(paths): # \"./data/RowData/player_log/player=1547/month=2020-11.parquet\"\n",
    "    for path in paths:\n",
    "        folder = re.sub(os.path.basename(path), '', path)\n",
    "        filename = re.sub('parquet', 'csv', os.path.basename(path))\n",
    "        df = pq.read_table(source=path).to_pandas()\n",
    "        file = open(f\"{folder}/{filename}\", 'w')\n",
    "        file.write('month,week_day,half_hour,efficiency,unix,views\\n')\n",
    "        for i in tqdm.tqdm(range(max(df.shape[0], 10))):\n",
    "#         for i in range(max(df.shape[0], 10)):\n",
    "            obj = df.loc[i]\n",
    "            in_t = datetime.datetime.fromtimestamp(obj['DateTimeInTick'] / 1000)\n",
    "            out_t = datetime.datetime.fromtimestamp(obj['DateTimeOutTick'] / 1000)\n",
    "            month_1 = in_t.month\n",
    "            month_2 = out_t.month\n",
    "            weekday_1 = in_t.weekday()\n",
    "            weekday_2 = out_t.weekday()\n",
    "            halfhour_1 = 2 * in_t.hour + 1 + int(in_t.minute >= 30)\n",
    "            halfhour_2 = 2 * in_t.hour + 1 + int(in_t.minute >= 30)\n",
    "            efficiency = obj['MacCountAll'] / obj['Duration']\n",
    "            file.write(f\"{month_1},{weekday_1},{halfhour_1},{round(efficiency, 2)},{obj['DateTimeOutTick']},{obj['MacCountAll']}\\n\")\n",
    "            if month_1 != month_2 or weekday_1 != weekday_2 or halfhour_1 != halfhour_2:\n",
    "                file.write(f\"{month_2},{weekday_2},{halfhour_2},{round(efficiency, 2)},{obj['DateTimeOutTick']},{obj['MacCountAll']}\\n\")\n",
    "        file.close()\n",
    "        os.rename(f\"{folder}/{filename}\", f\"{folder}/success_{filename}\")\n",
    "# parquet_to_csv([\"./data/RowData/player_log/player=1547/month=2020-11.parquet\"])\n",
    "# th1 = Thread(target=parquet_to_csv, args=([\n",
    "#     \"./data/RowData/player_log/player=1547/month=2020-11.parquet\",\n",
    "# ], ))\n",
    "\n",
    "# th2 = Thread(target=parquet_to_csv, args=([\n",
    "#     \"./data/RowData/player_log/player=1547/month=2020-12.parquet\",\n",
    "# ], ))\n",
    "# # th3 = Thread(target=parquet_to_csv, args=([\n",
    "# #     \"./data/RowData/player_log/player=1547/month=2020-11.parquet\",\n",
    "# # ], ))\n",
    "\n",
    "# # th4 = Thread(target=parquet_to_csv, args=([\n",
    "# #     \"./data/RowData/player_log/player=1547/month=2020-12.parquet\",\n",
    "# # ], ))\n",
    "# th1.start()\n",
    "# th2.start()"
   ]
  },
  {
   "cell_type": "code",
   "execution_count": null,
   "metadata": {},
   "outputs": [],
   "source": [
    "parquet_to_csv([\n",
    "    \"./data/RowData/player_log/player=1547/month=2021-01.parquet\",\n",
    "    \"./data/RowData/player_log/player=1547/month=2021-02.parquet\"\n",
    "])"
   ]
  },
  {
   "cell_type": "code",
   "execution_count": 169,
   "metadata": {},
   "outputs": [
    {
     "name": "stdout",
     "output_type": "stream",
     "text": [
      "dist_month=2020-11.csv\n",
      "dist_month=2020-12.csv\n",
      "dist_month=2021-1.csv\n",
      "dist_month=2021-2.csv\n",
      "dist_month=2021-3.csv\n",
      "dist_month=2021-4.csv\n",
      "dist_month=2021-5.csv\n",
      "dist_month=2021-6.csv\n"
     ]
    }
   ],
   "source": [
    "import re\n",
    "import os\n",
    "\n",
    "def getConstructionId(path):\n",
    "    num = re.search(r'player=\\d*', path)\n",
    "    return int(num[0][7:])\n",
    "\n",
    "def createDistances(path):\n",
    "    center_coords = 55.030167631283575, 82.92179748091942\n",
    "    longest_coords = 54.80053466086988, 83.11027315692883\n",
    "\n",
    "    num = getConstructionId(path)\n",
    "    data = pd.read_csv('data/player_details_fixed.csv')\n",
    "    lat = data[data['PlayerId'] == num].GeoLat.values\n",
    "    if len(lat) > 0:\n",
    "        lat = float(lat[0])\n",
    "    else:\n",
    "        lat = 0\n",
    "    long = data[data['PlayerId'] == num].GeoLon.values\n",
    "    if len(long) > 0:\n",
    "        long = float(long[0])\n",
    "    else:\n",
    "        long = 0\n",
    "    \n",
    "    construction_coords = (lat, long)\n",
    "\n",
    "    if construction_coords != (0, 0):\n",
    "        distance = round(1 - math.dist(center_coords, construction_coords), 2)\n",
    "    else:\n",
    "        distance = 0.5\n",
    "        \n",
    "    with open(path) as old_file:\n",
    "        items = old_file.read().split('\\n')\n",
    "        \n",
    "    folder = re.sub(os.path.basename(path), '', path)\n",
    "    filename = re.sub('success_', 'dist_', os.path.basename(path))\n",
    "    print(filename)\n",
    "    new_file = open(f\"{folder}/{filename}\", 'w')\n",
    "        \n",
    "    for i, strr in enumerate(items[:-1]):\n",
    "        if i == 0:\n",
    "            strr += ',distances\\n' \n",
    "        else:\n",
    "            strr += f',{distance}\\n'\n",
    "        new_file.write(strr)  \n",
    "\n",
    "createDistances('data/RowData/player_log/player=257/success_month=2020-11.csv')\n",
    "createDistances('data/RowData/player_log/player=257/success_month=2020-12.csv')\n",
    "createDistances('data/RowData/player_log/player=257/success_month=2021-1.csv')\n",
    "createDistances('data/RowData/player_log/player=257/success_month=2021-2.csv')\n",
    "createDistances('data/RowData/player_log/player=257/success_month=2021-3.csv')\n",
    "createDistances('data/RowData/player_log/player=257/success_month=2021-4.csv')\n",
    "createDistances('data/RowData/player_log/player=257/success_month=2021-5.csv')\n",
    "createDistances('data/RowData/player_log/player=257/success_month=2021-6.csv')"
   ]
  },
  {
   "cell_type": "code",
   "execution_count": 171,
   "metadata": {},
   "outputs": [
    {
     "name": "stdout",
     "output_type": "stream",
     "text": [
      "['/root/data/RowData/player_log/player=257/dist_month=2021-2.csv', '/root/data/RowData/player_log/player=257/dist_month=2021-6.csv', '/root/data/RowData/player_log/player=257/dist_month=2020-11.csv', '/root/data/RowData/player_log/player=257/dist_month=2021-4.csv', '/root/data/RowData/player_log/player=257/dist_month=2020-12.csv', '/root/data/RowData/player_log/player=257/dist_month=2021-5.csv', '/root/data/RowData/player_log/player=257/dist_month=2021-3.csv', '/root/data/RowData/player_log/player=257/dist_month=2021-1.csv']\n"
     ]
    }
   ],
   "source": [
    "import os\n",
    "data_path = '/root/data/RowData/player_log'\n",
    "players = os.listdir(data_path)\n",
    "csv_files = []\n",
    "# for player in players:\n",
    "for player in ['player=257']:\n",
    "    files = os.listdir(f\"{data_path}/{player}\")\n",
    "    for file in files:\n",
    "        if file.startswith('dist') and file.endswith('.csv'):\n",
    "            csv_files.append(f\"{data_path}/{player}/{file}\")\n",
    "# one_thread = len(parquets) // 5\n",
    "# for i, parquet in enumerate(parquets):\n",
    "#     print(f'\"{parquet}\",')\n",
    "#     if (i + 1) % one_thread == 0:\n",
    "#         print()\n",
    "#         print()\n",
    "# csv_files = csv_files[:2]\n",
    "print(csv_files)\n"
   ]
  },
  {
   "cell_type": "code",
   "execution_count": 172,
   "metadata": {},
   "outputs": [],
   "source": [
    "sum_file = open('data/RowData/player_log/player=257/sum_dist_month.csv', 'w')\n",
    "\n",
    "with open(csv_files[0]) as first_file:\n",
    "    headers = first_file.readline()\n",
    "    sum_file.write(headers)\n",
    "for csv_file in csv_files:\n",
    "    with open(csv_file) as file:\n",
    "        lines = file.readlines()[1:]\n",
    "        for line in lines:\n",
    "            sum_file.write(line)\n",
    "sum_file.close()\n",
    "#     print(first_line[-1])\n",
    "#     shift = len(first_line)\n",
    "\n",
    "#     for i, file in enumerate(csv_files):\n",
    "#         append_data = open(file).read()[56:]\n",
    "#         sum_file.write(append_data) "
   ]
  },
  {
   "cell_type": "code",
   "execution_count": null,
   "metadata": {},
   "outputs": [],
   "source": []
  },
  {
   "cell_type": "code",
   "execution_count": null,
   "metadata": {},
   "outputs": [],
   "source": []
  },
  {
   "cell_type": "code",
   "execution_count": null,
   "metadata": {},
   "outputs": [],
   "source": []
  },
  {
   "cell_type": "code",
   "execution_count": 175,
   "metadata": {},
   "outputs": [],
   "source": [
    "print\n",
    "sum_file = open('data/RowData/player_log/player=257/success_month=2020-11.csv', 'r')\n",
    "lines = sum_file.readlines()\n",
    "for i, line in enumerate(lines):\n",
    "    if len(line.split(',')) != 6:\n",
    "        print('success', i)\n",
    "        \n",
    "sum_file = open('data/RowData/player_log/player=257/dist_month=2020-11.csv', 'r')\n",
    "lines = sum_file.readlines()\n",
    "for i, line in enumerate(lines):\n",
    "    if len(line.split(',')) != 7:\n",
    "        print('dist', i)\n",
    "        \n",
    "sum_file = open('data/RowData/player_log/player=257/sum_dist_month.csv', 'r')\n",
    "lines = sum_file.readlines()\n",
    "for i, line in enumerate(lines):\n",
    "    if len(line.split(',')) != 7:\n",
    "        print('sum', i)\n",
    "# for line in lines[:11]:\n",
    "#     print(f\"{len(line.split(','))}, {line}\")\n",
    "# for line in lines[464390:464410]:\n",
    "#     print(f\"{len(line.split(','))}, {line}\")"
   ]
  },
  {
   "cell_type": "code",
   "execution_count": null,
   "metadata": {},
   "outputs": [],
   "source": []
  },
  {
   "cell_type": "code",
   "execution_count": 178,
   "metadata": {
    "scrolled": true
   },
   "outputs": [
    {
     "data": {
      "text/plain": [
       "1    596026\n",
       "2    587866\n",
       "4    581175\n",
       "6    578982\n",
       "5    569985\n",
       "3    565279\n",
       "0    565174\n",
       "Name: week_day, dtype: int64"
      ]
     },
     "execution_count": 178,
     "metadata": {},
     "output_type": "execute_result"
    }
   ],
   "source": [
    "data = pd.read_csv('data/RowData/player_log/player=257/sum_dist_month.csv')"
   ]
  },
  {
   "cell_type": "code",
   "execution_count": 180,
   "metadata": {},
   "outputs": [
    {
     "data": {
      "text/html": [
       "<div>\n",
       "<style scoped>\n",
       "    .dataframe tbody tr th:only-of-type {\n",
       "        vertical-align: middle;\n",
       "    }\n",
       "\n",
       "    .dataframe tbody tr th {\n",
       "        vertical-align: top;\n",
       "    }\n",
       "\n",
       "    .dataframe thead th {\n",
       "        text-align: right;\n",
       "    }\n",
       "</style>\n",
       "<table border=\"1\" class=\"dataframe\">\n",
       "  <thead>\n",
       "    <tr style=\"text-align: right;\">\n",
       "      <th></th>\n",
       "      <th>month</th>\n",
       "      <th>week_day</th>\n",
       "      <th>half_hour</th>\n",
       "      <th>efficiency</th>\n",
       "      <th>unix</th>\n",
       "      <th>views</th>\n",
       "      <th>distances</th>\n",
       "    </tr>\n",
       "  </thead>\n",
       "  <tbody>\n",
       "    <tr>\n",
       "      <th>0</th>\n",
       "      <td>2</td>\n",
       "      <td>0</td>\n",
       "      <td>10</td>\n",
       "      <td>2.2</td>\n",
       "      <td>1612144793993</td>\n",
       "      <td>11</td>\n",
       "      <td>0.99</td>\n",
       "    </tr>\n",
       "    <tr>\n",
       "      <th>1</th>\n",
       "      <td>2</td>\n",
       "      <td>0</td>\n",
       "      <td>10</td>\n",
       "      <td>1.8</td>\n",
       "      <td>1612144788977</td>\n",
       "      <td>9</td>\n",
       "      <td>0.99</td>\n",
       "    </tr>\n",
       "    <tr>\n",
       "      <th>2</th>\n",
       "      <td>2</td>\n",
       "      <td>0</td>\n",
       "      <td>10</td>\n",
       "      <td>2.2</td>\n",
       "      <td>1612144783973</td>\n",
       "      <td>11</td>\n",
       "      <td>0.99</td>\n",
       "    </tr>\n",
       "    <tr>\n",
       "      <th>3</th>\n",
       "      <td>2</td>\n",
       "      <td>0</td>\n",
       "      <td>10</td>\n",
       "      <td>1.2</td>\n",
       "      <td>1612144778970</td>\n",
       "      <td>6</td>\n",
       "      <td>0.99</td>\n",
       "    </tr>\n",
       "    <tr>\n",
       "      <th>4</th>\n",
       "      <td>2</td>\n",
       "      <td>0</td>\n",
       "      <td>10</td>\n",
       "      <td>2.2</td>\n",
       "      <td>1612144773957</td>\n",
       "      <td>11</td>\n",
       "      <td>0.99</td>\n",
       "    </tr>\n",
       "    <tr>\n",
       "      <th>...</th>\n",
       "      <td>...</td>\n",
       "      <td>...</td>\n",
       "      <td>...</td>\n",
       "      <td>...</td>\n",
       "      <td>...</td>\n",
       "      <td>...</td>\n",
       "      <td>...</td>\n",
       "    </tr>\n",
       "    <tr>\n",
       "      <th>4044482</th>\n",
       "      <td>2</td>\n",
       "      <td>0</td>\n",
       "      <td>3</td>\n",
       "      <td>0.2</td>\n",
       "      <td>1612130630600</td>\n",
       "      <td>1</td>\n",
       "      <td>0.99</td>\n",
       "    </tr>\n",
       "    <tr>\n",
       "      <th>4044483</th>\n",
       "      <td>2</td>\n",
       "      <td>0</td>\n",
       "      <td>3</td>\n",
       "      <td>0.6</td>\n",
       "      <td>1612130625587</td>\n",
       "      <td>3</td>\n",
       "      <td>0.99</td>\n",
       "    </tr>\n",
       "    <tr>\n",
       "      <th>4044484</th>\n",
       "      <td>2</td>\n",
       "      <td>0</td>\n",
       "      <td>3</td>\n",
       "      <td>0.6</td>\n",
       "      <td>1612130620580</td>\n",
       "      <td>3</td>\n",
       "      <td>0.99</td>\n",
       "    </tr>\n",
       "    <tr>\n",
       "      <th>4044485</th>\n",
       "      <td>2</td>\n",
       "      <td>0</td>\n",
       "      <td>3</td>\n",
       "      <td>0.4</td>\n",
       "      <td>1612130615577</td>\n",
       "      <td>2</td>\n",
       "      <td>0.99</td>\n",
       "    </tr>\n",
       "    <tr>\n",
       "      <th>4044486</th>\n",
       "      <td>2</td>\n",
       "      <td>0</td>\n",
       "      <td>3</td>\n",
       "      <td>1.2</td>\n",
       "      <td>1612130610570</td>\n",
       "      <td>6</td>\n",
       "      <td>0.99</td>\n",
       "    </tr>\n",
       "  </tbody>\n",
       "</table>\n",
       "<p>4044487 rows × 7 columns</p>\n",
       "</div>"
      ],
      "text/plain": [
       "         month  week_day  half_hour  efficiency           unix  views  \\\n",
       "0            2         0         10         2.2  1612144793993     11   \n",
       "1            2         0         10         1.8  1612144788977      9   \n",
       "2            2         0         10         2.2  1612144783973     11   \n",
       "3            2         0         10         1.2  1612144778970      6   \n",
       "4            2         0         10         2.2  1612144773957     11   \n",
       "...        ...       ...        ...         ...            ...    ...   \n",
       "4044482      2         0          3         0.2  1612130630600      1   \n",
       "4044483      2         0          3         0.6  1612130625587      3   \n",
       "4044484      2         0          3         0.6  1612130620580      3   \n",
       "4044485      2         0          3         0.4  1612130615577      2   \n",
       "4044486      2         0          3         1.2  1612130610570      6   \n",
       "\n",
       "         distances  \n",
       "0             0.99  \n",
       "1             0.99  \n",
       "2             0.99  \n",
       "3             0.99  \n",
       "4             0.99  \n",
       "...            ...  \n",
       "4044482       0.99  \n",
       "4044483       0.99  \n",
       "4044484       0.99  \n",
       "4044485       0.99  \n",
       "4044486       0.99  \n",
       "\n",
       "[4044487 rows x 7 columns]"
      ]
     },
     "execution_count": 180,
     "metadata": {},
     "output_type": "execute_result"
    }
   ],
   "source": [
    "data"
   ]
  },
  {
   "cell_type": "code",
   "execution_count": null,
   "metadata": {},
   "outputs": [],
   "source": [
    "def get_k_notes(weekday):\n",
    "    data"
   ]
  },
  {
   "cell_type": "code",
   "execution_count": 179,
   "metadata": {},
   "outputs": [
    {
     "data": {
      "text/plain": [
       "1    596026\n",
       "2    587866\n",
       "4    581175\n",
       "6    578982\n",
       "5    569985\n",
       "3    565279\n",
       "0    565174\n",
       "Name: week_day, dtype: int64"
      ]
     },
     "execution_count": 179,
     "metadata": {},
     "output_type": "execute_result"
    }
   ],
   "source": [
    "data['week_day'].value_counts()"
   ]
  },
  {
   "cell_type": "code",
   "execution_count": null,
   "metadata": {},
   "outputs": [],
   "source": []
  },
  {
   "cell_type": "code",
   "execution_count": null,
   "metadata": {},
   "outputs": [],
   "source": []
  },
  {
   "cell_type": "code",
   "execution_count": null,
   "metadata": {},
   "outputs": [],
   "source": []
  },
  {
   "cell_type": "code",
   "execution_count": 20,
   "metadata": {},
   "outputs": [
    {
     "name": "stderr",
     "output_type": "stream",
     "text": [
      "100%|██████████| 4044487/4044487 [00:39<00:00, 101856.76it/s]\n",
      "100%|██████████| 11599/11599 [00:00<00:00, 90128.65it/s]\n"
     ]
    },
    {
     "data": {
      "text/plain": [
       "(11599, 336)"
      ]
     },
     "execution_count": 20,
     "metadata": {},
     "output_type": "execute_result"
    }
   ],
   "source": [
    "import datetime\n",
    "import tqdm\n",
    "\n",
    "sum_file = open('data/RowData/player_log/player=257/sum_dist_month.csv', 'r')\n",
    "lines = sum_file.readlines()\n",
    "lines = lines[1:]\n",
    "\n",
    "sum_dict = {}\n",
    "\n",
    "# for line in lines[:600]:\n",
    "for line in tqdm.tqdm(lines):\n",
    "#     print(f\"{line}\", end='')\n",
    "    ticks = int(line.split(',')[4])\n",
    "    dt = datetime.date.fromtimestamp(ticks / 1000)\n",
    "    halfhour = line.split(',')[2]\n",
    "    weekday = line.split(',')[1]\n",
    "    views = int(line.split(',')[5])\n",
    "    dict_key = str(dt) + f'-{weekday}' + f'-{halfhour}'\n",
    "    if sum_dict.get(dict_key) is None:\n",
    "        sum_dict[dict_key] = views\n",
    "    else:\n",
    "        sum_dict[dict_key] += views\n",
    "\n",
    "lesser_dict = {}\n",
    "for s in tqdm.tqdm(sum_dict.items()):\n",
    "    key_parts = s[0].split('-')\n",
    "    new_key = key_parts[3] + '-' + key_parts[4]\n",
    "    \n",
    "    value = s[1]\n",
    "    \n",
    "    if lesser_dict.get(new_key) is None:\n",
    "        lesser_dict[new_key] = [value, 1]\n",
    "    else:\n",
    "        lesser_dict[new_key][0] += value\n",
    "        lesser_dict[new_key][1] += 1\n",
    "        \n",
    "len(sum_dict), len(lesser_dict)"
   ]
  },
  {
   "cell_type": "code",
   "execution_count": 11,
   "metadata": {},
   "outputs": [
    {
     "data": {
      "text/plain": [
       "{'0-10': [135833, 34],\n",
       " '0-9': [118166, 34],\n",
       " '0-8': [94847, 34],\n",
       " '0-12': [132658, 33],\n",
       " '0-11': [128787, 34],\n",
       " '0-14': [136180, 33],\n",
       " '0-13': [131299, 33],\n",
       " '0-16': [143957, 32],\n",
       " '0-15': [136646, 32],\n",
       " '0-18': [145687, 32],\n",
       " '0-17': [148099, 32],\n",
       " '0-20': [152554, 32],\n",
       " '0-19': [152884, 32],\n",
       " '0-24': [161113, 32],\n",
       " '0-23': [153380, 32],\n",
       " '0-22': [149683, 32],\n",
       " '0-26': [170821, 32],\n",
       " '0-25': [157926, 32],\n",
       " '0-30': [183424, 31],\n",
       " '0-29': [190043, 31],\n",
       " '0-28': [181746, 32],\n",
       " '0-32': [150530, 32],\n",
       " '0-31': [163339, 31],\n",
       " '0-38': [108803, 35],\n",
       " '0-37': [121784, 35],\n",
       " '0-36': [128223, 35],\n",
       " '0-42': [65766, 34],\n",
       " '0-41': [68047, 34],\n",
       " '0-40': [84504, 35],\n",
       " '0-44': [52553, 35],\n",
       " '0-43': [55784, 34],\n",
       " '1-2': [42878, 35],\n",
       " '1-1': [43211, 35],\n",
       " '0-48': [42780, 70],\n",
       " '1-48': [40456, 70],\n",
       " '0-7': [70057, 32],\n",
       " '0-6': [58448, 34],\n",
       " '0-21': [151902, 32],\n",
       " '0-27': [176370, 32],\n",
       " '0-34': [137584, 32],\n",
       " '0-33': [149114, 32],\n",
       " '0-35': [125632, 33],\n",
       " '0-39': [97606, 35],\n",
       " '0-46': [48439, 35],\n",
       " '0-45': [50882, 35],\n",
       " '0-47': [44330, 34],\n",
       " '1-4': [40999, 34],\n",
       " '1-3': [40618, 33],\n",
       " '1-6': [63303, 35],\n",
       " '1-5': [51318, 34],\n",
       " '1-8': [112195, 35],\n",
       " '1-7': [83376, 34],\n",
       " '1-12': [164270, 35],\n",
       " '1-11': [158644, 35],\n",
       " '1-10': [162065, 35],\n",
       " '1-14': [164061, 35],\n",
       " '1-13': [154889, 35],\n",
       " '1-18': [183426, 35],\n",
       " '1-17': [178219, 35],\n",
       " '1-16': [170686, 35],\n",
       " '1-20': [191973, 35],\n",
       " '1-19': [194344, 35],\n",
       " '1-24': [185604, 35],\n",
       " '1-23': [186599, 35],\n",
       " '1-22': [181268, 35],\n",
       " '1-26': [187973, 35],\n",
       " '1-25': [187523, 35],\n",
       " '1-30': [210254, 35],\n",
       " '1-29': [225373, 34],\n",
       " '1-28': [219519, 35],\n",
       " '1-32': [177516, 35],\n",
       " '1-31': [193513, 35],\n",
       " '1-36': [136848, 35],\n",
       " '1-35': [149206, 35],\n",
       " '1-34': [154163, 35],\n",
       " '1-38': [113254, 35],\n",
       " '1-37': [126684, 35],\n",
       " '1-42': [68104, 35],\n",
       " '1-41': [78063, 35],\n",
       " '1-40': [89317, 35],\n",
       " '1-44': [54696, 35],\n",
       " '1-43': [60117, 35],\n",
       " '1-47': [41362, 34],\n",
       " '1-46': [43782, 35],\n",
       " '2-2': [39591, 35],\n",
       " '2-1': [40924, 35],\n",
       " '2-48': [46089, 68],\n",
       " '2-6': [64927, 34],\n",
       " '2-5': [51392, 35],\n",
       " '2-4': [44931, 35],\n",
       " '1-9': [134781, 35],\n",
       " '1-15': [161845, 34],\n",
       " '1-21': [183712, 35],\n",
       " '1-27': [200330, 35],\n",
       " '1-33': [169759, 34],\n",
       " '1-39': [94992, 35],\n",
       " '1-45': [50695, 35],\n",
       " '2-3': [41713, 34],\n",
       " '2-12': [166161, 35],\n",
       " '2-11': [153622, 35],\n",
       " '2-10': [159577, 35],\n",
       " '2-14': [162420, 34],\n",
       " '2-13': [157454, 33],\n",
       " '2-18': [192393, 35],\n",
       " '2-17': [183791, 35],\n",
       " '2-16': [178100, 34],\n",
       " '2-20': [193851, 35],\n",
       " '2-19': [191623, 34],\n",
       " '2-24': [190768, 35],\n",
       " '2-23': [194164, 35],\n",
       " '2-22': [194350, 35],\n",
       " '2-26': [200690, 35],\n",
       " '2-25': [190105, 34],\n",
       " '2-30': [216251, 34],\n",
       " '2-29': [225400, 34],\n",
       " '2-28': [216859, 35],\n",
       " '2-34': [155398, 34],\n",
       " '2-33': [171894, 34],\n",
       " '2-32': [176881, 34],\n",
       " '2-36': [126899, 34],\n",
       " '2-35': [142635, 34],\n",
       " '2-38': [109704, 35],\n",
       " '2-37': [119919, 33],\n",
       " '2-42': [67473, 35],\n",
       " '2-41': [75470, 34],\n",
       " '2-40': [84550, 34],\n",
       " '2-44': [59006, 35],\n",
       " '2-43': [61294, 34],\n",
       " '2-47': [46906, 33],\n",
       " '2-46': [51920, 35],\n",
       " '3-4': [44094, 33],\n",
       " '3-3': [42994, 33],\n",
       " '3-2': [43320, 34],\n",
       " '2-8': [103257, 34],\n",
       " '2-7': [76590, 32],\n",
       " '2-9': [129263, 35],\n",
       " '2-15': [174796, 34],\n",
       " '2-21': [198186, 35],\n",
       " '2-27': [212826, 35],\n",
       " '2-31': [193694, 34],\n",
       " '2-39': [93477, 34],\n",
       " '2-45': [56240, 35],\n",
       " '3-1': [43577, 33],\n",
       " '3-48': [47888, 68],\n",
       " '3-6': [66040, 34],\n",
       " '3-5': [51487, 34],\n",
       " '3-8': [107658, 33],\n",
       " '3-7': [77767, 32],\n",
       " '3-16': [174848, 33],\n",
       " '3-15': [167811, 33],\n",
       " '3-14': [165500, 33],\n",
       " '3-20': [187392, 33],\n",
       " '3-19': [178540, 32],\n",
       " '3-18': [181623, 33],\n",
       " '3-22': [193061, 33],\n",
       " '3-21': [190251, 33],\n",
       " '3-26': [194168, 33],\n",
       " '3-25': [187077, 33],\n",
       " '3-24': [191503, 33],\n",
       " '3-30': [206064, 33],\n",
       " '3-29': [208806, 32],\n",
       " '3-28': [213218, 33],\n",
       " '3-34': [162900, 33],\n",
       " '3-33': [177584, 33],\n",
       " '3-32': [175215, 33],\n",
       " '3-38': [105300, 33],\n",
       " '3-37': [115686, 32],\n",
       " '3-36': [133357, 33],\n",
       " '3-40': [85927, 33],\n",
       " '3-39': [96572, 33],\n",
       " '3-44': [62362, 33],\n",
       " '3-43': [63951, 33],\n",
       " '3-42': [66755, 33],\n",
       " '3-46': [50373, 34],\n",
       " '3-45': [54683, 34],\n",
       " '4-2': [45696, 34],\n",
       " '4-1': [46422, 33],\n",
       " '4-48': [56967, 68],\n",
       " '4-6': [66520, 34],\n",
       " '4-5': [55216, 33],\n",
       " '4-4': [50604, 34],\n",
       " '3-10': [151742, 33],\n",
       " '3-9': [129795, 33],\n",
       " '3-12': [153337, 33],\n",
       " '3-11': [145129, 33],\n",
       " '3-13': [149006, 32],\n",
       " '3-17': [181374, 33],\n",
       " '3-23': [184568, 33],\n",
       " '3-27': [201578, 33],\n",
       " '3-31': [196807, 33],\n",
       " '3-35': [148194, 33],\n",
       " '3-41': [75488, 32],\n",
       " '3-47': [48360, 34],\n",
       " '4-3': [47527, 34],\n",
       " '4-10': [169440, 34],\n",
       " '4-9': [138839, 34],\n",
       " '4-8': [117622, 34],\n",
       " '4-20': [198260, 34],\n",
       " '4-19': [197331, 34],\n",
       " '4-18': [188653, 34],\n",
       " '4-22': [195034, 34],\n",
       " '4-21': [198127, 34],\n",
       " '4-24': [203384, 34],\n",
       " '4-23': [196948, 34],\n",
       " '4-28': [229145, 34],\n",
       " '4-27': [225253, 34],\n",
       " '4-26': [216487, 34],\n",
       " '4-30': [220640, 34],\n",
       " '4-29': [233739, 34],\n",
       " '4-34': [174576, 34],\n",
       " '4-33': [191605, 34],\n",
       " '4-32': [188999, 34],\n",
       " '4-36': [150151, 34],\n",
       " '4-35': [166619, 34],\n",
       " '4-40': [113323, 34],\n",
       " '4-39': [121288, 34],\n",
       " '4-38': [136251, 34],\n",
       " '4-42': [91568, 34],\n",
       " '4-41': [102488, 34],\n",
       " '4-46': [63604, 34],\n",
       " '4-45': [69623, 34],\n",
       " '4-44': [76245, 34],\n",
       " '4-47': [58206, 34],\n",
       " '5-4': [53424, 34],\n",
       " '5-3': [51575, 34],\n",
       " '5-2': [52560, 34],\n",
       " '5-6': [59642, 34],\n",
       " '5-5': [55413, 34],\n",
       " '4-7': [91068, 34],\n",
       " '4-12': [166647, 34],\n",
       " '4-11': [159495, 34],\n",
       " '4-14': [165776, 34],\n",
       " '4-13': [155428, 33],\n",
       " '4-16': [187693, 34],\n",
       " '4-15': [177494, 34],\n",
       " '4-17': [185256, 34],\n",
       " '4-25': [210246, 34],\n",
       " '4-31': [204319, 34],\n",
       " '4-37': [145032, 34],\n",
       " '4-43': [84857, 34],\n",
       " '5-1': [53309, 34],\n",
       " '5-48': [46543, 67],\n",
       " '5-12': [132108, 34],\n",
       " '5-11': [110356, 34],\n",
       " '5-10': [102794, 34],\n",
       " '5-16': [152921, 33],\n",
       " '5-15': [150086, 33],\n",
       " '5-14': [138562, 34],\n",
       " '5-18': [157400, 34],\n",
       " '5-17': [153041, 32],\n",
       " '5-24': [175228, 34],\n",
       " '5-23': [185264, 33],\n",
       " '5-22': [177109, 34],\n",
       " '5-28': [159228, 34],\n",
       " '5-27': [162438, 31],\n",
       " '5-26': [169721, 33],\n",
       " '5-30': [164548, 34],\n",
       " '5-29': [170975, 34],\n",
       " '5-32': [158213, 34],\n",
       " '5-31': [167050, 34],\n",
       " '5-36': [118932, 34],\n",
       " '5-35': [126642, 33],\n",
       " '5-34': [140111, 34],\n",
       " '5-40': [83901, 34],\n",
       " '5-39': [94318, 33],\n",
       " '5-38': [103995, 34],\n",
       " '5-42': [77176, 34],\n",
       " '5-41': [85420, 34],\n",
       " '5-46': [47843, 34],\n",
       " '5-45': [57167, 31],\n",
       " '5-44': [71270, 34],\n",
       " '5-47': [51531, 34],\n",
       " '6-4': [38357, 33],\n",
       " '6-3': [39634, 31],\n",
       " '6-2': [40712, 33],\n",
       " '6-6': [46573, 34],\n",
       " '6-5': [41406, 32],\n",
       " '5-8': [77611, 34],\n",
       " '5-7': [66916, 34],\n",
       " '5-9': [90389, 34],\n",
       " '5-13': [123839, 33],\n",
       " '5-20': [181148, 34],\n",
       " '5-19': [171106, 33],\n",
       " '5-21': [180975, 32],\n",
       " '5-25': [170077, 33],\n",
       " '5-33': [154222, 33],\n",
       " '5-43': [72477, 34],\n",
       " '6-1': [44688, 33],\n",
       " '6-48': [40974, 68],\n",
       " '6-10': [71549, 34],\n",
       " '6-9': [61369, 34],\n",
       " '6-8': [52327, 34],\n",
       " '6-14': [110799, 34],\n",
       " '6-13': [102972, 34],\n",
       " '6-12': [96858, 34],\n",
       " '6-18': [138676, 34],\n",
       " '6-17': [134745, 34],\n",
       " '6-16': [134873, 34],\n",
       " '6-20': [143279, 34],\n",
       " '6-19': [142431, 34],\n",
       " '6-24': [158732, 34],\n",
       " '6-23': [153924, 34],\n",
       " '6-22': [147436, 34],\n",
       " '6-28': [163593, 34],\n",
       " '6-27': [160999, 34],\n",
       " '6-26': [164430, 34],\n",
       " '6-32': [146325, 34],\n",
       " '6-31': [156344, 34],\n",
       " '6-30': [156277, 34],\n",
       " '6-36': [105306, 34],\n",
       " '6-35': [119309, 34],\n",
       " '6-34': [126833, 34],\n",
       " '6-38': [92514, 34],\n",
       " '6-37': [103177, 34],\n",
       " '6-42': [62187, 34],\n",
       " '6-41': [69412, 34],\n",
       " '6-40': [77951, 34],\n",
       " '6-44': [51724, 34],\n",
       " '6-43': [55501, 34],\n",
       " '6-47': [42176, 34],\n",
       " '6-46': [42917, 34],\n",
       " '0-4': [43040, 34],\n",
       " '0-3': [41733, 34],\n",
       " '0-2': [41619, 34],\n",
       " '6-7': [51958, 34],\n",
       " '6-11': [80378, 34],\n",
       " '6-15': [122217, 34],\n",
       " '6-21': [147675, 34],\n",
       " '6-25': [167208, 34],\n",
       " '6-29': [162014, 34],\n",
       " '6-33': [138631, 34],\n",
       " '6-39': [83142, 34],\n",
       " '0-1': [41118, 34],\n",
       " '0-5': [49492, 33],\n",
       " '5-37': [117101, 33],\n",
       " '6-45': [45105, 33]}"
      ]
     },
     "execution_count": 11,
     "metadata": {},
     "output_type": "execute_result"
    }
   ],
   "source": [
    "lesser_dict"
   ]
  },
  {
   "cell_type": "code",
   "execution_count": 37,
   "metadata": {},
   "outputs": [
    {
     "name": "stdout",
     "output_type": "stream",
     "text": [
      "month,week_day,half_hour,efficiency,unix,views,distances\n",
      "\n",
      "month,week_day,half_hour,efficiency,unix,views,distances,mean_half_hour\n"
     ]
    },
    {
     "name": "stderr",
     "output_type": "stream",
     "text": [
      "100%|██████████| 4044487/4044487 [00:25<00:00, 159025.60it/s]\n"
     ]
    }
   ],
   "source": [
    "sum_file = open('data/RowData/player_log/player=257/sum_dist_month.csv', 'r')\n",
    "headers = sum_file.readline()\n",
    "lines = sum_file.readlines()\n",
    "\n",
    "new_file = open('data/RowData/player_log/player=257/mean_sum_dist_month.csv', 'w')\n",
    "new_file.write(headers.strip() + ',mean_half_hour\\n')\n",
    "\n",
    "for line in tqdm.tqdm(lines):\n",
    "    halfhour = line.split(',')[2]\n",
    "    weekday = line.split(',')[1]\n",
    "    key = f'{weekday}-{halfhour}'\n",
    "    aggregate_values = lesser_dict.get(key)\n",
    "    new_file.write(line.strip() + f',{round(aggregate_values[0] / aggregate_values[1], 2)}\\n')\n",
    "new_file.close()"
   ]
  },
  {
   "cell_type": "code",
   "execution_count": 40,
   "metadata": {},
   "outputs": [
    {
     "name": "stderr",
     "output_type": "stream",
     "text": [
      "100%|██████████| 4044487/4044487 [00:30<00:00, 133593.90it/s]\n"
     ]
    }
   ],
   "source": [
    "sum_file = open('data/RowData/player_log/player=257/sum_dist_month.csv', 'r')\n",
    "headers = sum_file.readline()\n",
    "lines = sum_file.readlines()\n",
    "\n",
    "weekday_dict = {}\n",
    "\n",
    "for line in tqdm.tqdm(lines):\n",
    "#     print(f\"{line}\", end='')\n",
    "    ticks = int(line.split(',')[4])\n",
    "    dt = datetime.date.fromtimestamp(ticks / 1000)\n",
    "    halfhour = line.split(',')[2]\n",
    "    weekday = line.split(',')[1]\n",
    "    views = int(line.split(',')[5])\n",
    "    \n",
    "    dict_key = str(weekday)\n",
    "    if weekday_dict.get(dict_key) is None:\n",
    "        weekday_dict[dict_key] = [views, 1]\n",
    "    else:\n",
    "        weekday_dict[dict_key][0] += views\n",
    "        weekday_dict[dict_key][1] += 1"
   ]
  },
  {
   "cell_type": "code",
   "execution_count": 42,
   "metadata": {
    "scrolled": true
   },
   "outputs": [
    {
     "data": {
      "text/plain": [
       "{'0': [5475212, 565174],\n",
       " '1': [6307783, 596026],\n",
       " '2': [6385424, 587866],\n",
       " '3': [6280730, 565279],\n",
       " '4': [6935711, 581175],\n",
       " '5': [5623675, 569985],\n",
       " '6': [4837617, 578982]}"
      ]
     },
     "execution_count": 42,
     "metadata": {},
     "output_type": "execute_result"
    }
   ],
   "source": [
    "weekday_dict"
   ]
  },
  {
   "cell_type": "code",
   "execution_count": 41,
   "metadata": {},
   "outputs": [
    {
     "name": "stderr",
     "output_type": "stream",
     "text": [
      "100%|██████████| 4044487/4044487 [00:27<00:00, 149017.30it/s]\n"
     ]
    }
   ],
   "source": [
    "sum_file = open('data/RowData/player_log/player=257/mean_sum_dist_month.csv', 'r')\n",
    "headers = sum_file.readline()\n",
    "lines = sum_file.readlines()\n",
    "\n",
    "new_file = open('data/RowData/player_log/player=257/new_mean_sum_dist_month.csv', 'w')\n",
    "new_file.write(headers.strip() + ',mean_weekday\\n')\n",
    "\n",
    "for line in tqdm.tqdm(lines):\n",
    "    weekday = line.split(',')[1]\n",
    "    key = str(weekday)\n",
    "    weekday_values = weekday_dict.get(key)\n",
    "    new_file.write(line.strip() + f',{round(weekday_values[0] / weekday_values[1], 2)}\\n')\n",
    "new_file.close()"
   ]
  },
  {
   "cell_type": "code",
   "execution_count": null,
   "metadata": {},
   "outputs": [],
   "source": []
  },
  {
   "cell_type": "code",
   "execution_count": 13,
   "metadata": {},
   "outputs": [
    {
     "name": "stdout",
     "output_type": "stream",
     "text": [
      "Requirement already satisfied: requests in ./venv/lib/python3.9/site-packages (2.26.0)\n",
      "Requirement already satisfied: idna<4,>=2.5 in ./venv/lib/python3.9/site-packages (from requests) (3.2)\n",
      "Requirement already satisfied: certifi>=2017.4.17 in ./venv/lib/python3.9/site-packages (from requests) (2021.5.30)\n",
      "Requirement already satisfied: charset-normalizer~=2.0.0 in ./venv/lib/python3.9/site-packages (from requests) (2.0.4)\n",
      "Requirement already satisfied: urllib3<1.27,>=1.21.1 in ./venv/lib/python3.9/site-packages (from requests) (1.26.6)\n",
      "\u001b[33mWARNING: You are using pip version 21.1.3; however, version 21.2.4 is available.\n",
      "You should consider upgrading via the '/root/venv/bin/python3.9 -m pip install --upgrade pip' command.\u001b[0m\n"
     ]
    },
    {
     "ename": "KeyError",
     "evalue": "'rain'",
     "output_type": "error",
     "traceback": [
      "\u001b[0;31m---------------------------------------------------------------------------\u001b[0m",
      "\u001b[0;31mKeyError\u001b[0m                                  Traceback (most recent call last)",
      "\u001b[0;32m/tmp/ipykernel_1736/1276522481.py\u001b[0m in \u001b[0;36m<module>\u001b[0;34m\u001b[0m\n\u001b[1;32m      1\u001b[0m \u001b[0mget_ipython\u001b[0m\u001b[0;34m(\u001b[0m\u001b[0;34m)\u001b[0m\u001b[0;34m.\u001b[0m\u001b[0msystem\u001b[0m\u001b[0;34m(\u001b[0m\u001b[0;34m'pip install requests'\u001b[0m\u001b[0;34m)\u001b[0m\u001b[0;34m\u001b[0m\u001b[0;34m\u001b[0m\u001b[0m\n\u001b[1;32m      2\u001b[0m \u001b[0;32mimport\u001b[0m \u001b[0mrequests\u001b[0m\u001b[0;34m\u001b[0m\u001b[0;34m\u001b[0m\u001b[0m\n\u001b[0;32m----> 3\u001b[0;31m \u001b[0mrequests\u001b[0m\u001b[0;34m.\u001b[0m\u001b[0mget\u001b[0m\u001b[0;34m(\u001b[0m\u001b[0;34m'http://api.openweathermap.org/data/2.5/weather?lat=55.04&lon=82.91&appid=4ab81a655f265a02206fd1c134001de4'\u001b[0m\u001b[0;34m)\u001b[0m\u001b[0;34m.\u001b[0m\u001b[0mjson\u001b[0m\u001b[0;34m(\u001b[0m\u001b[0;34m)\u001b[0m\u001b[0;34m[\u001b[0m\u001b[0;34m'rain'\u001b[0m\u001b[0;34m]\u001b[0m\u001b[0;34m\u001b[0m\u001b[0;34m\u001b[0m\u001b[0m\n\u001b[0m",
      "\u001b[0;31mKeyError\u001b[0m: 'rain'"
     ]
    }
   ],
   "source": [
    "!pip install requests\n",
    "import requests\n",
    "response = requests.get('http://api.openweathermap.org/data/2.5/weather?lat=55.04&lon=82.91&appid=4ab81a655f265a02206fd1c134001de4').json()\n",
    "if response['rain']:\n",
    "    \n",
    "\n",
    "\n"
   ]
  },
  {
   "cell_type": "code",
   "execution_count": null,
   "metadata": {},
   "outputs": [],
   "source": []
  },
  {
   "cell_type": "code",
   "execution_count": null,
   "metadata": {},
   "outputs": [],
   "source": []
  },
  {
   "cell_type": "code",
   "execution_count": null,
   "metadata": {},
   "outputs": [],
   "source": []
  },
  {
   "cell_type": "code",
   "execution_count": null,
   "metadata": {},
   "outputs": [],
   "source": []
  },
  {
   "cell_type": "code",
   "execution_count": null,
   "metadata": {},
   "outputs": [],
   "source": []
  },
  {
   "cell_type": "code",
   "execution_count": null,
   "metadata": {},
   "outputs": [],
   "source": []
  },
  {
   "cell_type": "code",
   "execution_count": null,
   "metadata": {},
   "outputs": [],
   "source": []
  },
  {
   "cell_type": "code",
   "execution_count": 45,
   "metadata": {
    "scrolled": true
   },
   "outputs": [
    {
     "name": "stderr",
     "output_type": "stream",
     "text": [
      "100%|██████████| 500000/500000 [00:04<00:00, 106474.97it/s]\n"
     ]
    },
    {
     "data": {
      "text/plain": [
       "{'1-2-2021': [182073, 15091],\n",
       " '2-2-2021': [137256, 17249],\n",
       " '3-2-2021': [200607, 17259],\n",
       " '4-2-2021': [213284, 17249],\n",
       " '5-2-2021': [160326, 17250],\n",
       " '6-2-2021': [183091, 16530],\n",
       " '7-2-2021': [179980, 16532],\n",
       " '8-2-2021': [209798, 17249],\n",
       " '9-2-2021': [36536, 17248],\n",
       " '10-2-2021': [169061, 17248],\n",
       " '11-2-2021': [209236, 17251],\n",
       " '12-2-2021': [216724, 17248],\n",
       " '13-2-2021': [193214, 17252],\n",
       " '14-2-2021': [177779, 17248],\n",
       " '15-2-2021': [217918, 17250],\n",
       " '16-2-2021': [211624, 17251],\n",
       " '17-2-2021': [196305, 17249],\n",
       " '18-2-2021': [131384, 17250],\n",
       " '19-2-2021': [190722, 17249],\n",
       " '20-2-2021': [220794, 17248],\n",
       " '21-2-2021': [106086, 17250],\n",
       " '22-2-2021': [157234, 17251],\n",
       " '23-2-2021': [140959, 17248],\n",
       " '24-2-2021': [163242, 16183],\n",
       " '25-2-2021': [5063, 1163],\n",
       " '26-2-2021': [117699, 17248],\n",
       " '27-2-2021': [172657, 17250],\n",
       " '28-2-2021': [145495, 17249],\n",
       " '1-3-2021': [11118, 2156],\n",
       " '1-6-2021': [263785, 15090],\n",
       " '2-6-2021': [257666, 17250],\n",
       " '3-6-2021': [23684, 3261]}"
      ]
     },
     "execution_count": 45,
     "metadata": {},
     "output_type": "execute_result"
    }
   ],
   "source": [
    "import tqdm\n",
    "import datetime\n",
    "# params - list of numbers(columns indexes in file)\n",
    "# date_info - 'None', 'day', 'month', 'year', or 'full' as optional features\n",
    "def create_dict(params, lines, date_info=None, min_lines=0, max_lines=500000):\n",
    "    new_dict = {}\n",
    "    specials = []\n",
    "    for line in tqdm.tqdm(lines[min_lines:max_lines]):\n",
    "    #     print(f\"{line}\", end='')\n",
    "        note_params = []\n",
    "        for i in params:\n",
    "            if i == 4:\n",
    "                if date_info is not None:\n",
    "                    dt = datetime.date.fromtimestamp(int(line.split(',')[i]) / 1000)\n",
    "                    if date_info == 'day' or date_info == 'full':\n",
    "                        note_params.append(dt.day)\n",
    "                    if date_info == 'month' or date_info == 'full':\n",
    "                        note_params.append(dt.month)\n",
    "                    if date_info == 'year' or date_info == 'full':\n",
    "                        note_params.append(dt.year)\n",
    "            elif '.' in line.split(',')[i]:\n",
    "                note_params.append(float(line.split(',')[i]))\n",
    "            else:\n",
    "                note_params.append(int(line.split(',')[i]))\n",
    "        \n",
    "        views = int(line.split(',')[5])\n",
    "\n",
    "        dict_key = str(note_params[0])\n",
    "        for p in note_params[1:]:\n",
    "            dict_key += f'-{p}'\n",
    "            \n",
    "        if new_dict.get(dict_key) is None:\n",
    "            new_dict[dict_key] = [views, 1]\n",
    "        else:\n",
    "            new_dict[dict_key][0] += views\n",
    "            new_dict[dict_key][1] += 1\n",
    "            \n",
    "    return new_dict\n",
    "            \n",
    "sum_file = open('data/RowData/player_log/player=257/mean_sum_dist_month.csv', 'r')\n",
    "headers = sum_file.readline()\n",
    "lines = sum_file.readlines()\n",
    "\n",
    "create_dict([4], lines, 'full')"
   ]
  },
  {
   "cell_type": "code",
   "execution_count": null,
   "metadata": {},
   "outputs": [],
   "source": []
  },
  {
   "cell_type": "code",
   "execution_count": null,
   "metadata": {},
   "outputs": [],
   "source": []
  },
  {
   "cell_type": "code",
   "execution_count": null,
   "metadata": {},
   "outputs": [],
   "source": []
  },
  {
   "cell_type": "code",
   "execution_count": null,
   "metadata": {},
   "outputs": [],
   "source": []
  },
  {
   "cell_type": "code",
   "execution_count": 5,
   "metadata": {},
   "outputs": [],
   "source": [
    "import pandas as pd\n",
    "import pyarrow.parquet as pq\n",
    "import datetime"
   ]
  },
  {
   "cell_type": "code",
   "execution_count": 6,
   "metadata": {
    "pycharm": {
     "name": "#%%\n"
    },
    "scrolled": true
   },
   "outputs": [],
   "source": [
    "df = pq.read_table(source=\"./data/RowData/player_log/player=1547/month=2020-11.parquet\").to_pandas()"
   ]
  },
  {
   "cell_type": "code",
   "execution_count": 8,
   "metadata": {
    "pycharm": {
     "name": "#%%\n"
    },
    "scrolled": false
   },
   "outputs": [
    {
     "name": "stdout",
     "output_type": "stream",
     "text": [
      "(494703, 14)\n"
     ]
    },
    {
     "data": {
      "text/html": [
       "<div>\n",
       "<style scoped>\n",
       "    .dataframe tbody tr th:only-of-type {\n",
       "        vertical-align: middle;\n",
       "    }\n",
       "\n",
       "    .dataframe tbody tr th {\n",
       "        vertical-align: top;\n",
       "    }\n",
       "\n",
       "    .dataframe thead th {\n",
       "        text-align: right;\n",
       "    }\n",
       "</style>\n",
       "<table border=\"1\" class=\"dataframe\">\n",
       "  <thead>\n",
       "    <tr style=\"text-align: right;\">\n",
       "      <th></th>\n",
       "      <th>month</th>\n",
       "      <th>week_day</th>\n",
       "      <th>half_hour</th>\n",
       "      <th>efficiency</th>\n",
       "      <th>unix</th>\n",
       "      <th>views</th>\n",
       "    </tr>\n",
       "  </thead>\n",
       "  <tbody>\n",
       "  </tbody>\n",
       "</table>\n",
       "</div>"
      ],
      "text/plain": [
       "Empty DataFrame\n",
       "Columns: [month, week_day, half_hour, efficiency, unix, views]\n",
       "Index: []"
      ]
     },
     "execution_count": 8,
     "metadata": {},
     "output_type": "execute_result"
    }
   ],
   "source": [
    "print(df.shape)\n",
    "new_df = pd.DataFrame(columns=('month', 'week_day', 'half_hour', 'efficiency', 'unix', 'views'), )\n",
    "new_df"
   ]
  },
  {
   "cell_type": "code",
   "execution_count": 6,
   "metadata": {},
   "outputs": [
    {
     "name": "stderr",
     "output_type": "stream",
     "text": [
      "  5%|▌         | 26645/494703 [00:11<03:21, 2324.04it/s]\n"
     ]
    },
    {
     "ename": "KeyboardInterrupt",
     "evalue": "",
     "output_type": "error",
     "traceback": [
      "\u001b[0;31m---------------------------------------------------------------------------\u001b[0m",
      "\u001b[0;31mKeyboardInterrupt\u001b[0m                         Traceback (most recent call last)",
      "\u001b[0;32m/tmp/ipykernel_971/368330689.py\u001b[0m in \u001b[0;36m<module>\u001b[0;34m\u001b[0m\n\u001b[0;32m----> 1\u001b[0;31m parquet_to_csv([\n\u001b[0m\u001b[1;32m      2\u001b[0m     \u001b[0;34m\"./data/RowData/player_log/player=1547/month=2020-11.parquet\"\u001b[0m\u001b[0;34m,\u001b[0m\u001b[0;34m\u001b[0m\u001b[0;34m\u001b[0m\u001b[0m\n\u001b[1;32m      3\u001b[0m     \u001b[0;34m\"./data/RowData/player_log/player=1547/month=2020-12.parquet\"\u001b[0m\u001b[0;34m\u001b[0m\u001b[0;34m\u001b[0m\u001b[0m\n\u001b[1;32m      4\u001b[0m ])\n",
      "\u001b[0;32m/tmp/ipykernel_971/3941485547.py\u001b[0m in \u001b[0;36mparquet_to_csv\u001b[0;34m(paths)\u001b[0m\n\u001b[1;32m     17\u001b[0m         \u001b[0;32mfor\u001b[0m \u001b[0mi\u001b[0m \u001b[0;32min\u001b[0m \u001b[0mtqdm\u001b[0m\u001b[0;34m.\u001b[0m\u001b[0mtqdm\u001b[0m\u001b[0;34m(\u001b[0m\u001b[0mrange\u001b[0m\u001b[0;34m(\u001b[0m\u001b[0mmax\u001b[0m\u001b[0;34m(\u001b[0m\u001b[0mdf\u001b[0m\u001b[0;34m.\u001b[0m\u001b[0mshape\u001b[0m\u001b[0;34m[\u001b[0m\u001b[0;36m0\u001b[0m\u001b[0;34m]\u001b[0m\u001b[0;34m,\u001b[0m \u001b[0;36m10\u001b[0m\u001b[0;34m)\u001b[0m\u001b[0;34m)\u001b[0m\u001b[0;34m)\u001b[0m\u001b[0;34m:\u001b[0m\u001b[0;34m\u001b[0m\u001b[0;34m\u001b[0m\u001b[0m\n\u001b[1;32m     18\u001b[0m \u001b[0;31m#         for i in range(max(df.shape[0], 10)):\u001b[0m\u001b[0;34m\u001b[0m\u001b[0;34m\u001b[0m\u001b[0;34m\u001b[0m\u001b[0m\n\u001b[0;32m---> 19\u001b[0;31m             \u001b[0mobj\u001b[0m \u001b[0;34m=\u001b[0m \u001b[0mdf\u001b[0m\u001b[0;34m.\u001b[0m\u001b[0mloc\u001b[0m\u001b[0;34m[\u001b[0m\u001b[0mi\u001b[0m\u001b[0;34m]\u001b[0m\u001b[0;34m\u001b[0m\u001b[0;34m\u001b[0m\u001b[0m\n\u001b[0m\u001b[1;32m     20\u001b[0m             \u001b[0min_t\u001b[0m \u001b[0;34m=\u001b[0m \u001b[0mdatetime\u001b[0m\u001b[0;34m.\u001b[0m\u001b[0mdatetime\u001b[0m\u001b[0;34m.\u001b[0m\u001b[0mfromtimestamp\u001b[0m\u001b[0;34m(\u001b[0m\u001b[0mobj\u001b[0m\u001b[0;34m[\u001b[0m\u001b[0;34m'DateTimeInTick'\u001b[0m\u001b[0;34m]\u001b[0m \u001b[0;34m/\u001b[0m \u001b[0;36m1000\u001b[0m\u001b[0;34m)\u001b[0m\u001b[0;34m\u001b[0m\u001b[0;34m\u001b[0m\u001b[0m\n\u001b[1;32m     21\u001b[0m             \u001b[0mout_t\u001b[0m \u001b[0;34m=\u001b[0m \u001b[0mdatetime\u001b[0m\u001b[0;34m.\u001b[0m\u001b[0mdatetime\u001b[0m\u001b[0;34m.\u001b[0m\u001b[0mfromtimestamp\u001b[0m\u001b[0;34m(\u001b[0m\u001b[0mobj\u001b[0m\u001b[0;34m[\u001b[0m\u001b[0;34m'DateTimeOutTick'\u001b[0m\u001b[0;34m]\u001b[0m \u001b[0;34m/\u001b[0m \u001b[0;36m1000\u001b[0m\u001b[0;34m)\u001b[0m\u001b[0;34m\u001b[0m\u001b[0;34m\u001b[0m\u001b[0m\n",
      "\u001b[0;32m~/venv/lib/python3.9/site-packages/pandas/core/indexing.py\u001b[0m in \u001b[0;36m__getitem__\u001b[0;34m(self, key)\u001b[0m\n\u001b[1;32m    929\u001b[0m \u001b[0;34m\u001b[0m\u001b[0m\n\u001b[1;32m    930\u001b[0m             \u001b[0mmaybe_callable\u001b[0m \u001b[0;34m=\u001b[0m \u001b[0mcom\u001b[0m\u001b[0;34m.\u001b[0m\u001b[0mapply_if_callable\u001b[0m\u001b[0;34m(\u001b[0m\u001b[0mkey\u001b[0m\u001b[0;34m,\u001b[0m \u001b[0mself\u001b[0m\u001b[0;34m.\u001b[0m\u001b[0mobj\u001b[0m\u001b[0;34m)\u001b[0m\u001b[0;34m\u001b[0m\u001b[0;34m\u001b[0m\u001b[0m\n\u001b[0;32m--> 931\u001b[0;31m             \u001b[0;32mreturn\u001b[0m \u001b[0mself\u001b[0m\u001b[0;34m.\u001b[0m\u001b[0m_getitem_axis\u001b[0m\u001b[0;34m(\u001b[0m\u001b[0mmaybe_callable\u001b[0m\u001b[0;34m,\u001b[0m \u001b[0maxis\u001b[0m\u001b[0;34m=\u001b[0m\u001b[0maxis\u001b[0m\u001b[0;34m)\u001b[0m\u001b[0;34m\u001b[0m\u001b[0;34m\u001b[0m\u001b[0m\n\u001b[0m\u001b[1;32m    932\u001b[0m \u001b[0;34m\u001b[0m\u001b[0m\n\u001b[1;32m    933\u001b[0m     \u001b[0;32mdef\u001b[0m \u001b[0m_is_scalar_access\u001b[0m\u001b[0;34m(\u001b[0m\u001b[0mself\u001b[0m\u001b[0;34m,\u001b[0m \u001b[0mkey\u001b[0m\u001b[0;34m:\u001b[0m \u001b[0mtuple\u001b[0m\u001b[0;34m)\u001b[0m\u001b[0;34m:\u001b[0m\u001b[0;34m\u001b[0m\u001b[0;34m\u001b[0m\u001b[0m\n",
      "\u001b[0;32m~/venv/lib/python3.9/site-packages/pandas/core/indexing.py\u001b[0m in \u001b[0;36m_getitem_axis\u001b[0;34m(self, key, axis)\u001b[0m\n\u001b[1;32m   1162\u001b[0m         \u001b[0;31m# fall thru to straight lookup\u001b[0m\u001b[0;34m\u001b[0m\u001b[0;34m\u001b[0m\u001b[0;34m\u001b[0m\u001b[0m\n\u001b[1;32m   1163\u001b[0m         \u001b[0mself\u001b[0m\u001b[0;34m.\u001b[0m\u001b[0m_validate_key\u001b[0m\u001b[0;34m(\u001b[0m\u001b[0mkey\u001b[0m\u001b[0;34m,\u001b[0m \u001b[0maxis\u001b[0m\u001b[0;34m)\u001b[0m\u001b[0;34m\u001b[0m\u001b[0;34m\u001b[0m\u001b[0m\n\u001b[0;32m-> 1164\u001b[0;31m         \u001b[0;32mreturn\u001b[0m \u001b[0mself\u001b[0m\u001b[0;34m.\u001b[0m\u001b[0m_get_label\u001b[0m\u001b[0;34m(\u001b[0m\u001b[0mkey\u001b[0m\u001b[0;34m,\u001b[0m \u001b[0maxis\u001b[0m\u001b[0;34m=\u001b[0m\u001b[0maxis\u001b[0m\u001b[0;34m)\u001b[0m\u001b[0;34m\u001b[0m\u001b[0;34m\u001b[0m\u001b[0m\n\u001b[0m\u001b[1;32m   1165\u001b[0m \u001b[0;34m\u001b[0m\u001b[0m\n\u001b[1;32m   1166\u001b[0m     \u001b[0;32mdef\u001b[0m \u001b[0m_get_slice_axis\u001b[0m\u001b[0;34m(\u001b[0m\u001b[0mself\u001b[0m\u001b[0;34m,\u001b[0m \u001b[0mslice_obj\u001b[0m\u001b[0;34m:\u001b[0m \u001b[0mslice\u001b[0m\u001b[0;34m,\u001b[0m \u001b[0maxis\u001b[0m\u001b[0;34m:\u001b[0m \u001b[0mint\u001b[0m\u001b[0;34m)\u001b[0m\u001b[0;34m:\u001b[0m\u001b[0;34m\u001b[0m\u001b[0;34m\u001b[0m\u001b[0m\n",
      "\u001b[0;32m~/venv/lib/python3.9/site-packages/pandas/core/indexing.py\u001b[0m in \u001b[0;36m_get_label\u001b[0;34m(self, label, axis)\u001b[0m\n\u001b[1;32m   1111\u001b[0m     \u001b[0;32mdef\u001b[0m \u001b[0m_get_label\u001b[0m\u001b[0;34m(\u001b[0m\u001b[0mself\u001b[0m\u001b[0;34m,\u001b[0m \u001b[0mlabel\u001b[0m\u001b[0;34m,\u001b[0m \u001b[0maxis\u001b[0m\u001b[0;34m:\u001b[0m \u001b[0mint\u001b[0m\u001b[0;34m)\u001b[0m\u001b[0;34m:\u001b[0m\u001b[0;34m\u001b[0m\u001b[0;34m\u001b[0m\u001b[0m\n\u001b[1;32m   1112\u001b[0m         \u001b[0;31m# GH#5667 this will fail if the label is not present in the axis.\u001b[0m\u001b[0;34m\u001b[0m\u001b[0;34m\u001b[0m\u001b[0;34m\u001b[0m\u001b[0m\n\u001b[0;32m-> 1113\u001b[0;31m         \u001b[0;32mreturn\u001b[0m \u001b[0mself\u001b[0m\u001b[0;34m.\u001b[0m\u001b[0mobj\u001b[0m\u001b[0;34m.\u001b[0m\u001b[0mxs\u001b[0m\u001b[0;34m(\u001b[0m\u001b[0mlabel\u001b[0m\u001b[0;34m,\u001b[0m \u001b[0maxis\u001b[0m\u001b[0;34m=\u001b[0m\u001b[0maxis\u001b[0m\u001b[0;34m)\u001b[0m\u001b[0;34m\u001b[0m\u001b[0;34m\u001b[0m\u001b[0m\n\u001b[0m\u001b[1;32m   1114\u001b[0m \u001b[0;34m\u001b[0m\u001b[0m\n\u001b[1;32m   1115\u001b[0m     \u001b[0;32mdef\u001b[0m \u001b[0m_handle_lowerdim_multi_index_axis0\u001b[0m\u001b[0;34m(\u001b[0m\u001b[0mself\u001b[0m\u001b[0;34m,\u001b[0m \u001b[0mtup\u001b[0m\u001b[0;34m:\u001b[0m \u001b[0mtuple\u001b[0m\u001b[0;34m)\u001b[0m\u001b[0;34m:\u001b[0m\u001b[0;34m\u001b[0m\u001b[0;34m\u001b[0m\u001b[0m\n",
      "\u001b[0;32m~/venv/lib/python3.9/site-packages/pandas/core/generic.py\u001b[0m in \u001b[0;36mxs\u001b[0;34m(self, key, axis, level, drop_level)\u001b[0m\n\u001b[1;32m   3794\u001b[0m                 \u001b[0;32mreturn\u001b[0m \u001b[0mself\u001b[0m\u001b[0;34m.\u001b[0m\u001b[0m_values\u001b[0m\u001b[0;34m[\u001b[0m\u001b[0mloc\u001b[0m\u001b[0;34m]\u001b[0m\u001b[0;34m\u001b[0m\u001b[0;34m\u001b[0m\u001b[0m\n\u001b[1;32m   3795\u001b[0m \u001b[0;34m\u001b[0m\u001b[0m\n\u001b[0;32m-> 3796\u001b[0;31m             \u001b[0mnew_values\u001b[0m \u001b[0;34m=\u001b[0m \u001b[0mself\u001b[0m\u001b[0;34m.\u001b[0m\u001b[0m_mgr\u001b[0m\u001b[0;34m.\u001b[0m\u001b[0mfast_xs\u001b[0m\u001b[0;34m(\u001b[0m\u001b[0mloc\u001b[0m\u001b[0;34m)\u001b[0m\u001b[0;34m\u001b[0m\u001b[0;34m\u001b[0m\u001b[0m\n\u001b[0m\u001b[1;32m   3797\u001b[0m \u001b[0;34m\u001b[0m\u001b[0m\n\u001b[1;32m   3798\u001b[0m             result = self._constructor_sliced(\n",
      "\u001b[0;32m~/venv/lib/python3.9/site-packages/pandas/core/internals/managers.py\u001b[0m in \u001b[0;36mfast_xs\u001b[0;34m(self, loc)\u001b[0m\n\u001b[1;32m    967\u001b[0m             \u001b[0;31m# Such assignment may incorrectly coerce NaT to None\u001b[0m\u001b[0;34m\u001b[0m\u001b[0;34m\u001b[0m\u001b[0;34m\u001b[0m\u001b[0m\n\u001b[1;32m    968\u001b[0m             \u001b[0;31m# result[blk.mgr_locs] = blk._slice((slice(None), loc))\u001b[0m\u001b[0;34m\u001b[0m\u001b[0;34m\u001b[0m\u001b[0;34m\u001b[0m\u001b[0m\n\u001b[0;32m--> 969\u001b[0;31m             \u001b[0;32mfor\u001b[0m \u001b[0mi\u001b[0m\u001b[0;34m,\u001b[0m \u001b[0mrl\u001b[0m \u001b[0;32min\u001b[0m \u001b[0menumerate\u001b[0m\u001b[0;34m(\u001b[0m\u001b[0mblk\u001b[0m\u001b[0;34m.\u001b[0m\u001b[0mmgr_locs\u001b[0m\u001b[0;34m)\u001b[0m\u001b[0;34m:\u001b[0m\u001b[0;34m\u001b[0m\u001b[0;34m\u001b[0m\u001b[0m\n\u001b[0m\u001b[1;32m    970\u001b[0m                 \u001b[0mresult\u001b[0m\u001b[0;34m[\u001b[0m\u001b[0mrl\u001b[0m\u001b[0;34m]\u001b[0m \u001b[0;34m=\u001b[0m \u001b[0mblk\u001b[0m\u001b[0;34m.\u001b[0m\u001b[0miget\u001b[0m\u001b[0;34m(\u001b[0m\u001b[0;34m(\u001b[0m\u001b[0mi\u001b[0m\u001b[0;34m,\u001b[0m \u001b[0mloc\u001b[0m\u001b[0;34m)\u001b[0m\u001b[0;34m)\u001b[0m\u001b[0;34m\u001b[0m\u001b[0;34m\u001b[0m\u001b[0m\n\u001b[1;32m    971\u001b[0m \u001b[0;34m\u001b[0m\u001b[0m\n",
      "\u001b[0;31mKeyboardInterrupt\u001b[0m: "
     ]
    }
   ],
   "source": [
    "parquet_to_csv([\n",
    "    \"./data/RowData/player_log/player=1547/month=2020-11.parquet\",\n",
    "    \"./data/RowData/player_log/player=1547/month=2020-12.parquet\"\n",
    "])"
   ]
  },
  {
   "cell_type": "code",
   "execution_count": null,
   "metadata": {
    "pycharm": {
     "name": "#%%\n"
    }
   },
   "outputs": [],
   "source": [
    "new_df.shape"
   ]
  },
  {
   "cell_type": "code",
   "execution_count": 9,
   "metadata": {
    "pycharm": {
     "name": "#%%\n"
    }
   },
   "outputs": [
    {
     "data": {
      "text/html": [
       "<div>\n",
       "<style scoped>\n",
       "    .dataframe tbody tr th:only-of-type {\n",
       "        vertical-align: middle;\n",
       "    }\n",
       "\n",
       "    .dataframe tbody tr th {\n",
       "        vertical-align: top;\n",
       "    }\n",
       "\n",
       "    .dataframe thead th {\n",
       "        text-align: right;\n",
       "    }\n",
       "</style>\n",
       "<table border=\"1\" class=\"dataframe\">\n",
       "  <thead>\n",
       "    <tr style=\"text-align: right;\">\n",
       "      <th></th>\n",
       "      <th>month</th>\n",
       "      <th>week_day</th>\n",
       "      <th>half_hour</th>\n",
       "      <th>efficiency</th>\n",
       "      <th>unix</th>\n",
       "      <th>views</th>\n",
       "    </tr>\n",
       "  </thead>\n",
       "  <tbody>\n",
       "  </tbody>\n",
       "</table>\n",
       "</div>"
      ],
      "text/plain": [
       "Empty DataFrame\n",
       "Columns: [month, week_day, half_hour, efficiency, unix, views]\n",
       "Index: []"
      ]
     },
     "execution_count": 9,
     "metadata": {},
     "output_type": "execute_result"
    }
   ],
   "source": [
    "new_df"
   ]
  },
  {
   "cell_type": "code",
   "execution_count": null,
   "metadata": {
    "pycharm": {
     "name": "#%%\n"
    }
   },
   "outputs": [],
   "source": [
    "new_df.to_csv('./preprocessing_data.csv')\n"
   ]
  },
  {
   "cell_type": "code",
   "execution_count": 103,
   "metadata": {},
   "outputs": [
    {
     "data": {
      "text/plain": [
       "0.9243310323487922"
      ]
     },
     "execution_count": 103,
     "metadata": {},
     "output_type": "execute_result"
    }
   ],
   "source": [
    "import math\n",
    "\n",
    "center_coords = 55.030167631283575, 82.92179748091942\n",
    "longest_coords = 54.80053466086988, 83.11027315692883\n",
    "custom_coords = 54.96091109214436, 82.95228230422312\n",
    "1 - math.dist(center_coords, custom_coords)\n",
    "#math.dist(center_coords, custom_coords)\n",
    "#28, 26 км"
   ]
  }
 ],
 "metadata": {
  "kernelspec": {
   "display_name": "Python 3 (ipykernel)",
   "language": "python",
   "name": "python3"
  },
  "language_info": {
   "codemirror_mode": {
    "name": "ipython",
    "version": 3
   },
   "file_extension": ".py",
   "mimetype": "text/x-python",
   "name": "python",
   "nbconvert_exporter": "python",
   "pygments_lexer": "ipython3",
   "version": "3.9.6"
  }
 },
 "nbformat": 4,
 "nbformat_minor": 1
}
