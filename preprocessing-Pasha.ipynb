{
 "cells": [
  {
   "cell_type": "code",
   "execution_count": 9,
   "metadata": {},
   "outputs": [
    {
     "name": "stdout",
     "output_type": "stream",
     "text": [
      "pip install HSE\n"
     ]
    }
   ],
   "source": [
    "print('pip install HSE')\n",
    "# !pip install pandas\n",
    "# !pip install pyarrow\n",
    "# !pip install tqdm"
   ]
  },
  {
   "cell_type": "code",
   "execution_count": 5,
   "metadata": {
    "pycharm": {
     "name": "#%%\n"
    }
   },
   "outputs": [],
   "source": [
    "import pandas as pd\n",
    "import pyarrow.parquet as pq\n",
    "import datetime\n",
    "import time\n",
    "import tqdm\n",
    "from threading import Thread\n",
    "import re\n",
    "import os\n",
    "\n",
    "def parquet_to_csv(paths): # \"./data/RowData/player_log/player=1547/month=2020-11.parquet\"\n",
    "    for path in paths:\n",
    "        folder = re.sub(os.path.basename(path), '', path)\n",
    "        filename = re.sub('parquet', 'csv', os.path.basename(path))\n",
    "        df = pq.read_table(source=path).to_pandas()\n",
    "        file = open(f\"{folder}/{filename}\", 'w')\n",
    "        file.write('month,week_day,half_hour,efficiency,unix,views\\n')\n",
    "        for i in tqdm.tqdm(range(max(df.shape[0], 10))):\n",
    "#         for i in range(max(df.shape[0], 10)):\n",
    "            obj = df.loc[i]\n",
    "            in_t = datetime.datetime.fromtimestamp(obj['DateTimeInTick'] / 1000)\n",
    "            out_t = datetime.datetime.fromtimestamp(obj['DateTimeOutTick'] / 1000)\n",
    "            month_1 = in_t.month\n",
    "            month_2 = out_t.month\n",
    "            weekday_1 = in_t.weekday()\n",
    "            weekday_2 = out_t.weekday()\n",
    "            halfhour_1 = 2 * in_t.hour + 1 + int(in_t.minute >= 30)\n",
    "            halfhour_2 = 2 * in_t.hour + 1 + int(in_t.minute >= 30)\n",
    "            efficiency = obj['MacCountAll'] / obj['Duration']\n",
    "            file.write(f\"{month_1},{weekday_1},{halfhour_1},{round(efficiency, 2)},{obj['DateTimeOutTick']},{obj['MacCountAll']}\\n\")\n",
    "            if month_1 != month_2 or weekday_1 != weekday_2 or halfhour_1 != halfhour_2:\n",
    "                file.write(f\"{month_2},{weekday_2},{halfhour_2},{round(efficiency, 2)},{obj['DateTimeOutTick']},{obj['MacCountAll']}\\n\")\n",
    "        file.close()\n",
    "        os.rename(f\"{folder}/{filename}\", f\"{folder}/success_{filename}\")\n",
    "# parquet_to_csv([\"./data/RowData/player_log/player=1547/month=2020-11.parquet\"])\n",
    "# th1 = Thread(target=parquet_to_csv, args=([\n",
    "#     \"./data/RowData/player_log/player=1547/month=2020-11.parquet\",\n",
    "# ], ))\n",
    "\n",
    "# th2 = Thread(target=parquet_to_csv, args=([\n",
    "#     \"./data/RowData/player_log/player=1547/month=2020-12.parquet\",\n",
    "# ], ))\n",
    "# # th3 = Thread(target=parquet_to_csv, args=([\n",
    "# #     \"./data/RowData/player_log/player=1547/month=2020-11.parquet\",\n",
    "# # ], ))\n",
    "\n",
    "# # th4 = Thread(target=parquet_to_csv, args=([\n",
    "# #     \"./data/RowData/player_log/player=1547/month=2020-12.parquet\",\n",
    "# # ], ))\n",
    "# th1.start()\n",
    "# th2.start()"
   ]
  },
  {
   "cell_type": "code",
   "execution_count": null,
   "metadata": {},
   "outputs": [],
   "source": [
    "parquet_to_csv([\n",
    "    \"./data/RowData/player_log/player=1547/month=2021-01.parquet\",\n",
    "    \"./data/RowData/player_log/player=1547/month=2021-02.parquet\"\n",
    "])"
   ]
  },
  {
   "cell_type": "code",
   "execution_count": 50,
   "metadata": {},
   "outputs": [
    {
     "data": {
      "text/html": [
       "<div>\n",
       "<style scoped>\n",
       "    .dataframe tbody tr th:only-of-type {\n",
       "        vertical-align: middle;\n",
       "    }\n",
       "\n",
       "    .dataframe tbody tr th {\n",
       "        vertical-align: top;\n",
       "    }\n",
       "\n",
       "    .dataframe thead th {\n",
       "        text-align: right;\n",
       "    }\n",
       "</style>\n",
       "<table border=\"1\" class=\"dataframe\">\n",
       "  <thead>\n",
       "    <tr style=\"text-align: right;\">\n",
       "      <th></th>\n",
       "      <th></th>\n",
       "      <th>PlayerId;PlayerNumber;mediaType;GeoLat;GeoLon;Face</th>\n",
       "    </tr>\n",
       "  </thead>\n",
       "  <tbody>\n",
       "    <tr>\n",
       "      <th>257;NVS036APL;dbb;55</th>\n",
       "      <th>04145;82</th>\n",
       "      <td>913128;A</td>\n",
       "    </tr>\n",
       "    <tr>\n",
       "      <th>258;NVS053APL;dbb;55</th>\n",
       "      <th>032078;82</th>\n",
       "      <td>931467;A</td>\n",
       "    </tr>\n",
       "    <tr>\n",
       "      <th>259;NVS024BPL;dbb;55</th>\n",
       "      <th>035644;83</th>\n",
       "      <td>001675;B</td>\n",
       "    </tr>\n",
       "    <tr>\n",
       "      <th>260;NVS002APL;dbb;55</th>\n",
       "      <th>066428;82</th>\n",
       "      <td>929283;A</td>\n",
       "    </tr>\n",
       "    <tr>\n",
       "      <th>261;NVS037APL;dbb;55</th>\n",
       "      <th>043756;82</th>\n",
       "      <td>906317;A</td>\n",
       "    </tr>\n",
       "    <tr>\n",
       "      <th>262;NVS031APL;dbb;55</th>\n",
       "      <th>055328;82</th>\n",
       "      <td>901589;A</td>\n",
       "    </tr>\n",
       "    <tr>\n",
       "      <th>263;NVS054APL;dbb;55</th>\n",
       "      <th>041056;82</th>\n",
       "      <td>925789;A</td>\n",
       "    </tr>\n",
       "    <tr>\n",
       "      <th>264;NVS032APL;dbb;55</th>\n",
       "      <th>055925;82</th>\n",
       "      <td>903022;A</td>\n",
       "    </tr>\n",
       "    <tr>\n",
       "      <th>265;NVS058APL;dbb;54</th>\n",
       "      <th>999647;82</th>\n",
       "      <td>870419;A</td>\n",
       "    </tr>\n",
       "    <tr>\n",
       "      <th>266;NVS017APL;dbb;55</th>\n",
       "      <th>038117;82</th>\n",
       "      <td>978169;A</td>\n",
       "    </tr>\n",
       "    <tr>\n",
       "      <th>267;NVS025APL;dbb;55</th>\n",
       "      <th>044936;82</th>\n",
       "      <td>996589;A</td>\n",
       "    </tr>\n",
       "    <tr>\n",
       "      <th>268;NVS047APL;dbb;55</th>\n",
       "      <th>025869;82</th>\n",
       "      <td>901769;A</td>\n",
       "    </tr>\n",
       "    <tr>\n",
       "      <th>269;NVS055APL;dbb;55</th>\n",
       "      <th>031683;82</th>\n",
       "      <td>929403;A</td>\n",
       "    </tr>\n",
       "    <tr>\n",
       "      <th>270;NVS071APL;dbb;54</th>\n",
       "      <th>953628;82</th>\n",
       "      <td>900306;A</td>\n",
       "    </tr>\n",
       "    <tr>\n",
       "      <th>271;NVS011APL;dbb;55</th>\n",
       "      <th>007583;82</th>\n",
       "      <td>939833;A</td>\n",
       "    </tr>\n",
       "    <tr>\n",
       "      <th>272;NVS034APL;dbb;54</th>\n",
       "      <th>941831;82</th>\n",
       "      <td>897342;A</td>\n",
       "    </tr>\n",
       "    <tr>\n",
       "      <th>274;NVS015APL;dbb;55</th>\n",
       "      <th>020769;82</th>\n",
       "      <td>935317;A</td>\n",
       "    </tr>\n",
       "    <tr>\n",
       "      <th>333;NVS005BPL;dbb;55</th>\n",
       "      <th>056486;82</th>\n",
       "      <td>932236;B</td>\n",
       "    </tr>\n",
       "    <tr>\n",
       "      <th>403;NVS006BPL;dbb;55</th>\n",
       "      <th>057155;82</th>\n",
       "      <td>938175;B</td>\n",
       "    </tr>\n",
       "    <tr>\n",
       "      <th>1548;NVS201ASS;dss;55</th>\n",
       "      <th>007903;82</th>\n",
       "      <td>871626;A</td>\n",
       "    </tr>\n",
       "    <tr>\n",
       "      <th>1549;NVS201BSS;dss;55</th>\n",
       "      <th>007903;82</th>\n",
       "      <td>871626;B</td>\n",
       "    </tr>\n",
       "    <tr>\n",
       "      <th>1572;NVS101BSS;dss;54</th>\n",
       "      <th>971568;82</th>\n",
       "      <td>917675;B</td>\n",
       "    </tr>\n",
       "    <tr>\n",
       "      <th>2657;NVS013APL;dbb;55</th>\n",
       "      <th>027328;82</th>\n",
       "      <td>904656;A</td>\n",
       "    </tr>\n",
       "  </tbody>\n",
       "</table>\n",
       "</div>"
      ],
      "text/plain": [
       "                                PlayerId;PlayerNumber;mediaType;GeoLat;GeoLon;Face\n",
       "257;NVS036APL;dbb;55  04145;82                                            913128;A\n",
       "258;NVS053APL;dbb;55  032078;82                                           931467;A\n",
       "259;NVS024BPL;dbb;55  035644;83                                           001675;B\n",
       "260;NVS002APL;dbb;55  066428;82                                           929283;A\n",
       "261;NVS037APL;dbb;55  043756;82                                           906317;A\n",
       "262;NVS031APL;dbb;55  055328;82                                           901589;A\n",
       "263;NVS054APL;dbb;55  041056;82                                           925789;A\n",
       "264;NVS032APL;dbb;55  055925;82                                           903022;A\n",
       "265;NVS058APL;dbb;54  999647;82                                           870419;A\n",
       "266;NVS017APL;dbb;55  038117;82                                           978169;A\n",
       "267;NVS025APL;dbb;55  044936;82                                           996589;A\n",
       "268;NVS047APL;dbb;55  025869;82                                           901769;A\n",
       "269;NVS055APL;dbb;55  031683;82                                           929403;A\n",
       "270;NVS071APL;dbb;54  953628;82                                           900306;A\n",
       "271;NVS011APL;dbb;55  007583;82                                           939833;A\n",
       "272;NVS034APL;dbb;54  941831;82                                           897342;A\n",
       "274;NVS015APL;dbb;55  020769;82                                           935317;A\n",
       "333;NVS005BPL;dbb;55  056486;82                                           932236;B\n",
       "403;NVS006BPL;dbb;55  057155;82                                           938175;B\n",
       "1548;NVS201ASS;dss;55 007903;82                                           871626;A\n",
       "1549;NVS201BSS;dss;55 007903;82                                           871626;B\n",
       "1572;NVS101BSS;dss;54 971568;82                                           917675;B\n",
       "2657;NVS013APL;dbb;55 027328;82                                           904656;A"
      ]
     },
     "execution_count": 50,
     "metadata": {},
     "output_type": "execute_result"
    }
   ],
   "source": [
    "import re\n",
    "def getConstructionId(path):\n",
    "    num = re.search(r'player=\\d*', path)\n",
    "    return int(num[0][7:])\n",
    "\n",
    "getConstructionId('data/RowData/player_log/player=1547/success_month=2020-11.csv')\n",
    "\n",
    "details = pd.read_csv('data/player_details.csv')\n",
    "details\n",
    "\n",
    "# with open('data/RowData/player_log/player=1547/success_month=2020-11.csv') as rd:\n",
    "#     items = rd.read().split('\\n')\n",
    "# items\n",
    "# for i, strr in enumerate(items):\n",
    "#     if i == 1:\n",
    "#        strr += ',distances' \n",
    "#     else:\n",
    "#         strr += ','"
   ]
  },
  {
   "cell_type": "code",
   "execution_count": null,
   "metadata": {},
   "outputs": [],
   "source": []
  },
  {
   "cell_type": "code",
   "execution_count": null,
   "metadata": {},
   "outputs": [],
   "source": []
  },
  {
   "cell_type": "code",
   "execution_count": null,
   "metadata": {},
   "outputs": [],
   "source": []
  },
  {
   "cell_type": "code",
   "execution_count": null,
   "metadata": {},
   "outputs": [],
   "source": []
  },
  {
   "cell_type": "code",
   "execution_count": null,
   "metadata": {},
   "outputs": [],
   "source": []
  },
  {
   "cell_type": "code",
   "execution_count": null,
   "metadata": {},
   "outputs": [],
   "source": []
  },
  {
   "cell_type": "code",
   "execution_count": null,
   "metadata": {},
   "outputs": [],
   "source": []
  },
  {
   "cell_type": "code",
   "execution_count": 5,
   "metadata": {},
   "outputs": [],
   "source": [
    "import pandas as pd\n",
    "import pyarrow.parquet as pq\n",
    "import datetime"
   ]
  },
  {
   "cell_type": "code",
   "execution_count": 6,
   "metadata": {
    "pycharm": {
     "name": "#%%\n"
    },
    "scrolled": true
   },
   "outputs": [],
   "source": [
    "df = pq.read_table(source=\"./data/RowData/player_log/player=1547/month=2020-11.parquet\").to_pandas()"
   ]
  },
  {
   "cell_type": "code",
   "execution_count": 8,
   "metadata": {
    "pycharm": {
     "name": "#%%\n"
    },
    "scrolled": false
   },
   "outputs": [
    {
     "name": "stdout",
     "output_type": "stream",
     "text": [
      "(494703, 14)\n"
     ]
    },
    {
     "data": {
      "text/html": [
       "<div>\n",
       "<style scoped>\n",
       "    .dataframe tbody tr th:only-of-type {\n",
       "        vertical-align: middle;\n",
       "    }\n",
       "\n",
       "    .dataframe tbody tr th {\n",
       "        vertical-align: top;\n",
       "    }\n",
       "\n",
       "    .dataframe thead th {\n",
       "        text-align: right;\n",
       "    }\n",
       "</style>\n",
       "<table border=\"1\" class=\"dataframe\">\n",
       "  <thead>\n",
       "    <tr style=\"text-align: right;\">\n",
       "      <th></th>\n",
       "      <th>month</th>\n",
       "      <th>week_day</th>\n",
       "      <th>half_hour</th>\n",
       "      <th>efficiency</th>\n",
       "      <th>unix</th>\n",
       "      <th>views</th>\n",
       "    </tr>\n",
       "  </thead>\n",
       "  <tbody>\n",
       "  </tbody>\n",
       "</table>\n",
       "</div>"
      ],
      "text/plain": [
       "Empty DataFrame\n",
       "Columns: [month, week_day, half_hour, efficiency, unix, views]\n",
       "Index: []"
      ]
     },
     "execution_count": 8,
     "metadata": {},
     "output_type": "execute_result"
    }
   ],
   "source": [
    "print(df.shape)\n",
    "new_df = pd.DataFrame(columns=('month', 'week_day', 'half_hour', 'efficiency', 'unix', 'views'), )\n",
    "new_df"
   ]
  },
  {
   "cell_type": "code",
   "execution_count": 6,
   "metadata": {},
   "outputs": [
    {
     "name": "stderr",
     "output_type": "stream",
     "text": [
      "  5%|▌         | 26645/494703 [00:11<03:21, 2324.04it/s]\n"
     ]
    },
    {
     "ename": "KeyboardInterrupt",
     "evalue": "",
     "output_type": "error",
     "traceback": [
      "\u001b[0;31m---------------------------------------------------------------------------\u001b[0m",
      "\u001b[0;31mKeyboardInterrupt\u001b[0m                         Traceback (most recent call last)",
      "\u001b[0;32m/tmp/ipykernel_971/368330689.py\u001b[0m in \u001b[0;36m<module>\u001b[0;34m\u001b[0m\n\u001b[0;32m----> 1\u001b[0;31m parquet_to_csv([\n\u001b[0m\u001b[1;32m      2\u001b[0m     \u001b[0;34m\"./data/RowData/player_log/player=1547/month=2020-11.parquet\"\u001b[0m\u001b[0;34m,\u001b[0m\u001b[0;34m\u001b[0m\u001b[0;34m\u001b[0m\u001b[0m\n\u001b[1;32m      3\u001b[0m     \u001b[0;34m\"./data/RowData/player_log/player=1547/month=2020-12.parquet\"\u001b[0m\u001b[0;34m\u001b[0m\u001b[0;34m\u001b[0m\u001b[0m\n\u001b[1;32m      4\u001b[0m ])\n",
      "\u001b[0;32m/tmp/ipykernel_971/3941485547.py\u001b[0m in \u001b[0;36mparquet_to_csv\u001b[0;34m(paths)\u001b[0m\n\u001b[1;32m     17\u001b[0m         \u001b[0;32mfor\u001b[0m \u001b[0mi\u001b[0m \u001b[0;32min\u001b[0m \u001b[0mtqdm\u001b[0m\u001b[0;34m.\u001b[0m\u001b[0mtqdm\u001b[0m\u001b[0;34m(\u001b[0m\u001b[0mrange\u001b[0m\u001b[0;34m(\u001b[0m\u001b[0mmax\u001b[0m\u001b[0;34m(\u001b[0m\u001b[0mdf\u001b[0m\u001b[0;34m.\u001b[0m\u001b[0mshape\u001b[0m\u001b[0;34m[\u001b[0m\u001b[0;36m0\u001b[0m\u001b[0;34m]\u001b[0m\u001b[0;34m,\u001b[0m \u001b[0;36m10\u001b[0m\u001b[0;34m)\u001b[0m\u001b[0;34m)\u001b[0m\u001b[0;34m)\u001b[0m\u001b[0;34m:\u001b[0m\u001b[0;34m\u001b[0m\u001b[0;34m\u001b[0m\u001b[0m\n\u001b[1;32m     18\u001b[0m \u001b[0;31m#         for i in range(max(df.shape[0], 10)):\u001b[0m\u001b[0;34m\u001b[0m\u001b[0;34m\u001b[0m\u001b[0;34m\u001b[0m\u001b[0m\n\u001b[0;32m---> 19\u001b[0;31m             \u001b[0mobj\u001b[0m \u001b[0;34m=\u001b[0m \u001b[0mdf\u001b[0m\u001b[0;34m.\u001b[0m\u001b[0mloc\u001b[0m\u001b[0;34m[\u001b[0m\u001b[0mi\u001b[0m\u001b[0;34m]\u001b[0m\u001b[0;34m\u001b[0m\u001b[0;34m\u001b[0m\u001b[0m\n\u001b[0m\u001b[1;32m     20\u001b[0m             \u001b[0min_t\u001b[0m \u001b[0;34m=\u001b[0m \u001b[0mdatetime\u001b[0m\u001b[0;34m.\u001b[0m\u001b[0mdatetime\u001b[0m\u001b[0;34m.\u001b[0m\u001b[0mfromtimestamp\u001b[0m\u001b[0;34m(\u001b[0m\u001b[0mobj\u001b[0m\u001b[0;34m[\u001b[0m\u001b[0;34m'DateTimeInTick'\u001b[0m\u001b[0;34m]\u001b[0m \u001b[0;34m/\u001b[0m \u001b[0;36m1000\u001b[0m\u001b[0;34m)\u001b[0m\u001b[0;34m\u001b[0m\u001b[0;34m\u001b[0m\u001b[0m\n\u001b[1;32m     21\u001b[0m             \u001b[0mout_t\u001b[0m \u001b[0;34m=\u001b[0m \u001b[0mdatetime\u001b[0m\u001b[0;34m.\u001b[0m\u001b[0mdatetime\u001b[0m\u001b[0;34m.\u001b[0m\u001b[0mfromtimestamp\u001b[0m\u001b[0;34m(\u001b[0m\u001b[0mobj\u001b[0m\u001b[0;34m[\u001b[0m\u001b[0;34m'DateTimeOutTick'\u001b[0m\u001b[0;34m]\u001b[0m \u001b[0;34m/\u001b[0m \u001b[0;36m1000\u001b[0m\u001b[0;34m)\u001b[0m\u001b[0;34m\u001b[0m\u001b[0;34m\u001b[0m\u001b[0m\n",
      "\u001b[0;32m~/venv/lib/python3.9/site-packages/pandas/core/indexing.py\u001b[0m in \u001b[0;36m__getitem__\u001b[0;34m(self, key)\u001b[0m\n\u001b[1;32m    929\u001b[0m \u001b[0;34m\u001b[0m\u001b[0m\n\u001b[1;32m    930\u001b[0m             \u001b[0mmaybe_callable\u001b[0m \u001b[0;34m=\u001b[0m \u001b[0mcom\u001b[0m\u001b[0;34m.\u001b[0m\u001b[0mapply_if_callable\u001b[0m\u001b[0;34m(\u001b[0m\u001b[0mkey\u001b[0m\u001b[0;34m,\u001b[0m \u001b[0mself\u001b[0m\u001b[0;34m.\u001b[0m\u001b[0mobj\u001b[0m\u001b[0;34m)\u001b[0m\u001b[0;34m\u001b[0m\u001b[0;34m\u001b[0m\u001b[0m\n\u001b[0;32m--> 931\u001b[0;31m             \u001b[0;32mreturn\u001b[0m \u001b[0mself\u001b[0m\u001b[0;34m.\u001b[0m\u001b[0m_getitem_axis\u001b[0m\u001b[0;34m(\u001b[0m\u001b[0mmaybe_callable\u001b[0m\u001b[0;34m,\u001b[0m \u001b[0maxis\u001b[0m\u001b[0;34m=\u001b[0m\u001b[0maxis\u001b[0m\u001b[0;34m)\u001b[0m\u001b[0;34m\u001b[0m\u001b[0;34m\u001b[0m\u001b[0m\n\u001b[0m\u001b[1;32m    932\u001b[0m \u001b[0;34m\u001b[0m\u001b[0m\n\u001b[1;32m    933\u001b[0m     \u001b[0;32mdef\u001b[0m \u001b[0m_is_scalar_access\u001b[0m\u001b[0;34m(\u001b[0m\u001b[0mself\u001b[0m\u001b[0;34m,\u001b[0m \u001b[0mkey\u001b[0m\u001b[0;34m:\u001b[0m \u001b[0mtuple\u001b[0m\u001b[0;34m)\u001b[0m\u001b[0;34m:\u001b[0m\u001b[0;34m\u001b[0m\u001b[0;34m\u001b[0m\u001b[0m\n",
      "\u001b[0;32m~/venv/lib/python3.9/site-packages/pandas/core/indexing.py\u001b[0m in \u001b[0;36m_getitem_axis\u001b[0;34m(self, key, axis)\u001b[0m\n\u001b[1;32m   1162\u001b[0m         \u001b[0;31m# fall thru to straight lookup\u001b[0m\u001b[0;34m\u001b[0m\u001b[0;34m\u001b[0m\u001b[0;34m\u001b[0m\u001b[0m\n\u001b[1;32m   1163\u001b[0m         \u001b[0mself\u001b[0m\u001b[0;34m.\u001b[0m\u001b[0m_validate_key\u001b[0m\u001b[0;34m(\u001b[0m\u001b[0mkey\u001b[0m\u001b[0;34m,\u001b[0m \u001b[0maxis\u001b[0m\u001b[0;34m)\u001b[0m\u001b[0;34m\u001b[0m\u001b[0;34m\u001b[0m\u001b[0m\n\u001b[0;32m-> 1164\u001b[0;31m         \u001b[0;32mreturn\u001b[0m \u001b[0mself\u001b[0m\u001b[0;34m.\u001b[0m\u001b[0m_get_label\u001b[0m\u001b[0;34m(\u001b[0m\u001b[0mkey\u001b[0m\u001b[0;34m,\u001b[0m \u001b[0maxis\u001b[0m\u001b[0;34m=\u001b[0m\u001b[0maxis\u001b[0m\u001b[0;34m)\u001b[0m\u001b[0;34m\u001b[0m\u001b[0;34m\u001b[0m\u001b[0m\n\u001b[0m\u001b[1;32m   1165\u001b[0m \u001b[0;34m\u001b[0m\u001b[0m\n\u001b[1;32m   1166\u001b[0m     \u001b[0;32mdef\u001b[0m \u001b[0m_get_slice_axis\u001b[0m\u001b[0;34m(\u001b[0m\u001b[0mself\u001b[0m\u001b[0;34m,\u001b[0m \u001b[0mslice_obj\u001b[0m\u001b[0;34m:\u001b[0m \u001b[0mslice\u001b[0m\u001b[0;34m,\u001b[0m \u001b[0maxis\u001b[0m\u001b[0;34m:\u001b[0m \u001b[0mint\u001b[0m\u001b[0;34m)\u001b[0m\u001b[0;34m:\u001b[0m\u001b[0;34m\u001b[0m\u001b[0;34m\u001b[0m\u001b[0m\n",
      "\u001b[0;32m~/venv/lib/python3.9/site-packages/pandas/core/indexing.py\u001b[0m in \u001b[0;36m_get_label\u001b[0;34m(self, label, axis)\u001b[0m\n\u001b[1;32m   1111\u001b[0m     \u001b[0;32mdef\u001b[0m \u001b[0m_get_label\u001b[0m\u001b[0;34m(\u001b[0m\u001b[0mself\u001b[0m\u001b[0;34m,\u001b[0m \u001b[0mlabel\u001b[0m\u001b[0;34m,\u001b[0m \u001b[0maxis\u001b[0m\u001b[0;34m:\u001b[0m \u001b[0mint\u001b[0m\u001b[0;34m)\u001b[0m\u001b[0;34m:\u001b[0m\u001b[0;34m\u001b[0m\u001b[0;34m\u001b[0m\u001b[0m\n\u001b[1;32m   1112\u001b[0m         \u001b[0;31m# GH#5667 this will fail if the label is not present in the axis.\u001b[0m\u001b[0;34m\u001b[0m\u001b[0;34m\u001b[0m\u001b[0;34m\u001b[0m\u001b[0m\n\u001b[0;32m-> 1113\u001b[0;31m         \u001b[0;32mreturn\u001b[0m \u001b[0mself\u001b[0m\u001b[0;34m.\u001b[0m\u001b[0mobj\u001b[0m\u001b[0;34m.\u001b[0m\u001b[0mxs\u001b[0m\u001b[0;34m(\u001b[0m\u001b[0mlabel\u001b[0m\u001b[0;34m,\u001b[0m \u001b[0maxis\u001b[0m\u001b[0;34m=\u001b[0m\u001b[0maxis\u001b[0m\u001b[0;34m)\u001b[0m\u001b[0;34m\u001b[0m\u001b[0;34m\u001b[0m\u001b[0m\n\u001b[0m\u001b[1;32m   1114\u001b[0m \u001b[0;34m\u001b[0m\u001b[0m\n\u001b[1;32m   1115\u001b[0m     \u001b[0;32mdef\u001b[0m \u001b[0m_handle_lowerdim_multi_index_axis0\u001b[0m\u001b[0;34m(\u001b[0m\u001b[0mself\u001b[0m\u001b[0;34m,\u001b[0m \u001b[0mtup\u001b[0m\u001b[0;34m:\u001b[0m \u001b[0mtuple\u001b[0m\u001b[0;34m)\u001b[0m\u001b[0;34m:\u001b[0m\u001b[0;34m\u001b[0m\u001b[0;34m\u001b[0m\u001b[0m\n",
      "\u001b[0;32m~/venv/lib/python3.9/site-packages/pandas/core/generic.py\u001b[0m in \u001b[0;36mxs\u001b[0;34m(self, key, axis, level, drop_level)\u001b[0m\n\u001b[1;32m   3794\u001b[0m                 \u001b[0;32mreturn\u001b[0m \u001b[0mself\u001b[0m\u001b[0;34m.\u001b[0m\u001b[0m_values\u001b[0m\u001b[0;34m[\u001b[0m\u001b[0mloc\u001b[0m\u001b[0;34m]\u001b[0m\u001b[0;34m\u001b[0m\u001b[0;34m\u001b[0m\u001b[0m\n\u001b[1;32m   3795\u001b[0m \u001b[0;34m\u001b[0m\u001b[0m\n\u001b[0;32m-> 3796\u001b[0;31m             \u001b[0mnew_values\u001b[0m \u001b[0;34m=\u001b[0m \u001b[0mself\u001b[0m\u001b[0;34m.\u001b[0m\u001b[0m_mgr\u001b[0m\u001b[0;34m.\u001b[0m\u001b[0mfast_xs\u001b[0m\u001b[0;34m(\u001b[0m\u001b[0mloc\u001b[0m\u001b[0;34m)\u001b[0m\u001b[0;34m\u001b[0m\u001b[0;34m\u001b[0m\u001b[0m\n\u001b[0m\u001b[1;32m   3797\u001b[0m \u001b[0;34m\u001b[0m\u001b[0m\n\u001b[1;32m   3798\u001b[0m             result = self._constructor_sliced(\n",
      "\u001b[0;32m~/venv/lib/python3.9/site-packages/pandas/core/internals/managers.py\u001b[0m in \u001b[0;36mfast_xs\u001b[0;34m(self, loc)\u001b[0m\n\u001b[1;32m    967\u001b[0m             \u001b[0;31m# Such assignment may incorrectly coerce NaT to None\u001b[0m\u001b[0;34m\u001b[0m\u001b[0;34m\u001b[0m\u001b[0;34m\u001b[0m\u001b[0m\n\u001b[1;32m    968\u001b[0m             \u001b[0;31m# result[blk.mgr_locs] = blk._slice((slice(None), loc))\u001b[0m\u001b[0;34m\u001b[0m\u001b[0;34m\u001b[0m\u001b[0;34m\u001b[0m\u001b[0m\n\u001b[0;32m--> 969\u001b[0;31m             \u001b[0;32mfor\u001b[0m \u001b[0mi\u001b[0m\u001b[0;34m,\u001b[0m \u001b[0mrl\u001b[0m \u001b[0;32min\u001b[0m \u001b[0menumerate\u001b[0m\u001b[0;34m(\u001b[0m\u001b[0mblk\u001b[0m\u001b[0;34m.\u001b[0m\u001b[0mmgr_locs\u001b[0m\u001b[0;34m)\u001b[0m\u001b[0;34m:\u001b[0m\u001b[0;34m\u001b[0m\u001b[0;34m\u001b[0m\u001b[0m\n\u001b[0m\u001b[1;32m    970\u001b[0m                 \u001b[0mresult\u001b[0m\u001b[0;34m[\u001b[0m\u001b[0mrl\u001b[0m\u001b[0;34m]\u001b[0m \u001b[0;34m=\u001b[0m \u001b[0mblk\u001b[0m\u001b[0;34m.\u001b[0m\u001b[0miget\u001b[0m\u001b[0;34m(\u001b[0m\u001b[0;34m(\u001b[0m\u001b[0mi\u001b[0m\u001b[0;34m,\u001b[0m \u001b[0mloc\u001b[0m\u001b[0;34m)\u001b[0m\u001b[0;34m)\u001b[0m\u001b[0;34m\u001b[0m\u001b[0;34m\u001b[0m\u001b[0m\n\u001b[1;32m    971\u001b[0m \u001b[0;34m\u001b[0m\u001b[0m\n",
      "\u001b[0;31mKeyboardInterrupt\u001b[0m: "
     ]
    }
   ],
   "source": [
    "parquet_to_csv([\n",
    "    \"./data/RowData/player_log/player=1547/month=2020-11.parquet\",\n",
    "    \"./data/RowData/player_log/player=1547/month=2020-12.parquet\"\n",
    "])"
   ]
  },
  {
   "cell_type": "code",
   "execution_count": null,
   "metadata": {
    "pycharm": {
     "name": "#%%\n"
    }
   },
   "outputs": [],
   "source": [
    "new_df.shape"
   ]
  },
  {
   "cell_type": "code",
   "execution_count": 9,
   "metadata": {
    "pycharm": {
     "name": "#%%\n"
    }
   },
   "outputs": [
    {
     "data": {
      "text/html": [
       "<div>\n",
       "<style scoped>\n",
       "    .dataframe tbody tr th:only-of-type {\n",
       "        vertical-align: middle;\n",
       "    }\n",
       "\n",
       "    .dataframe tbody tr th {\n",
       "        vertical-align: top;\n",
       "    }\n",
       "\n",
       "    .dataframe thead th {\n",
       "        text-align: right;\n",
       "    }\n",
       "</style>\n",
       "<table border=\"1\" class=\"dataframe\">\n",
       "  <thead>\n",
       "    <tr style=\"text-align: right;\">\n",
       "      <th></th>\n",
       "      <th>month</th>\n",
       "      <th>week_day</th>\n",
       "      <th>half_hour</th>\n",
       "      <th>efficiency</th>\n",
       "      <th>unix</th>\n",
       "      <th>views</th>\n",
       "    </tr>\n",
       "  </thead>\n",
       "  <tbody>\n",
       "  </tbody>\n",
       "</table>\n",
       "</div>"
      ],
      "text/plain": [
       "Empty DataFrame\n",
       "Columns: [month, week_day, half_hour, efficiency, unix, views]\n",
       "Index: []"
      ]
     },
     "execution_count": 9,
     "metadata": {},
     "output_type": "execute_result"
    }
   ],
   "source": [
    "new_df"
   ]
  },
  {
   "cell_type": "code",
   "execution_count": null,
   "metadata": {
    "pycharm": {
     "name": "#%%\n"
    }
   },
   "outputs": [],
   "source": [
    "new_df.to_csv('./preprocessing_data.csv')\n"
   ]
  },
  {
   "cell_type": "code",
   "execution_count": 24,
   "metadata": {},
   "outputs": [
    {
     "data": {
      "text/plain": [
       "0.29707639008884446"
      ]
     },
     "execution_count": 24,
     "metadata": {},
     "output_type": "execute_result"
    }
   ],
   "source": [
    "import math\n",
    "def manhattan(a, b):\n",
    "    return sum(abs(val1-val2) for val1, val2 in zip(a,b))\n",
    "\n",
    "center_coords = 55.030167631283575, 82.92179748091942\n",
    "longest_coords = 54.80053466086988, 83.11027315692883\n",
    "custom_coords = 54.96091109214436, 82.95228230422312\n",
    "math.dist(center_coords, longest_coords)\n",
    "#math.dist(center_coords, custom_coords)\n",
    "#28, 26 км"
   ]
  }
 ],
 "metadata": {
  "kernelspec": {
   "display_name": "Python 3 (ipykernel)",
   "language": "python",
   "name": "python3"
  },
  "language_info": {
   "codemirror_mode": {
    "name": "ipython",
    "version": 3
   },
   "file_extension": ".py",
   "mimetype": "text/x-python",
   "name": "python",
   "nbconvert_exporter": "python",
   "pygments_lexer": "ipython3",
   "version": "3.9.6"
  }
 },
 "nbformat": 4,
 "nbformat_minor": 1
}
