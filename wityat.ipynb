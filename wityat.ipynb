{
 "cells": [
  {
   "cell_type": "code",
   "execution_count": 3,
   "id": "671972b8",
   "metadata": {},
   "outputs": [],
   "source": [
    "import pandas as pd\n",
    "from datetime import datetime\n",
    "from datetime import timedelta"
   ]
  },
  {
   "cell_type": "code",
   "execution_count": 4,
   "id": "24100a05",
   "metadata": {},
   "outputs": [],
   "source": [
    "import holidays\n",
    "from tqdm import tqdm"
   ]
  },
  {
   "cell_type": "code",
   "execution_count": 5,
   "id": "d02acd30",
   "metadata": {},
   "outputs": [],
   "source": [
    "ru_holidays = holidays.CountryHoliday('RU')\n",
    "custom_holidays = holidays.HolidayBase()\n",
    "ru_holidays.append({\"2021-09-01\": \"День знаний\"})\n",
    "ru_holidays.pop(\"2021-01-02\")\n",
    "ru_holidays.pop(\"2021-01-03\")\n",
    "ru_holidays.pop(\"2021-01-04\")\n",
    "ru_holidays.pop(\"2021-01-05\")\n",
    "ru_holidays.pop(\"2021-01-06\")\n",
    "ru_holidays.pop(\"2021-01-07\")\n",
    "ru_holidays.pop(\"2021-01-08\")\n",
    "\n",
    "def get_holyday_metric(unix):\n",
    "    datetime.fromtimestamp(unix).date"
   ]
  },
  {
   "cell_type": "code",
   "execution_count": 6,
   "id": "2b04c08c",
   "metadata": {},
   "outputs": [
    {
     "ename": "NameError",
     "evalue": "name 'get_metric_by_holiday_name' is not defined",
     "output_type": "error",
     "traceback": [
      "\u001b[0;31m---------------------------------------------------------------------------\u001b[0m",
      "\u001b[0;31mNameError\u001b[0m                                 Traceback (most recent call last)",
      "\u001b[0;32m/tmp/ipykernel_1305/1327525230.py\u001b[0m in \u001b[0;36m<module>\u001b[0;34m\u001b[0m\n\u001b[1;32m      2\u001b[0m     \u001b[0;32mfor\u001b[0m \u001b[0mi\u001b[0m \u001b[0;32min\u001b[0m \u001b[0mrange\u001b[0m\u001b[0;34m(\u001b[0m\u001b[0;36m1\u001b[0m\u001b[0;34m,\u001b[0m \u001b[0;36m11\u001b[0m\u001b[0;34m)\u001b[0m\u001b[0;34m:\u001b[0m\u001b[0;34m\u001b[0m\u001b[0;34m\u001b[0m\u001b[0m\n\u001b[1;32m      3\u001b[0m         \u001b[0mh1\u001b[0m \u001b[0;34m=\u001b[0m \u001b[0mh\u001b[0m \u001b[0;34m-\u001b[0m \u001b[0mtimedelta\u001b[0m\u001b[0;34m(\u001b[0m\u001b[0mdays\u001b[0m\u001b[0;34m=\u001b[0m\u001b[0mi\u001b[0m\u001b[0;34m)\u001b[0m\u001b[0;34m\u001b[0m\u001b[0;34m\u001b[0m\u001b[0m\n\u001b[0;32m----> 4\u001b[0;31m         \u001b[0mcustom_holidays\u001b[0m\u001b[0;34m.\u001b[0m\u001b[0mappend\u001b[0m\u001b[0;34m(\u001b[0m\u001b[0;34m{\u001b[0m\u001b[0mh1\u001b[0m\u001b[0;34m:\u001b[0m \u001b[0;34mf\"{get_metric_by_holiday_name(ru_holidays.get(h.strftime('%Y-%m-%d')))/i}:.2f\"\u001b[0m\u001b[0;34m}\u001b[0m\u001b[0;34m)\u001b[0m\u001b[0;34m\u001b[0m\u001b[0;34m\u001b[0m\u001b[0m\n\u001b[0m\u001b[1;32m      5\u001b[0m     \u001b[0mcustom_holidays\u001b[0m\u001b[0;34m.\u001b[0m\u001b[0mappend\u001b[0m\u001b[0;34m(\u001b[0m\u001b[0;34m{\u001b[0m\u001b[0mh\u001b[0m\u001b[0;34m:\u001b[0m \u001b[0;34mf\"{get_metric_by_holiday_name(ru_holidays.get(h.strftime('%Y-%m-%d')))/2}:.2f\"\u001b[0m\u001b[0;34m}\u001b[0m\u001b[0;34m)\u001b[0m\u001b[0;34m\u001b[0m\u001b[0;34m\u001b[0m\u001b[0m\n",
      "\u001b[0;31mNameError\u001b[0m: name 'get_metric_by_holiday_name' is not defined"
     ]
    }
   ],
   "source": [
    "for h in ru_holidays:\n",
    "    for i in range(1, 11):\n",
    "        h1 = h - timedelta(days=i)\n",
    "        custom_holidays.append({h1: f\"{get_metric_by_holiday_name(ru_holidays.get(h.strftime('%Y-%m-%d')))/i}:.2f\"})\n",
    "    custom_holidays.append({h: f\"{get_metric_by_holiday_name(ru_holidays.get(h.strftime('%Y-%m-%d')))/2}:.2f\"})"
   ]
  },
  {
   "cell_type": "code",
   "execution_count": 7,
   "id": "09171b88",
   "metadata": {},
   "outputs": [],
   "source": [
    "for h in custom_holidays:\n",
    "    print(h)"
   ]
  },
  {
   "cell_type": "code",
   "execution_count": 8,
   "id": "6923178c",
   "metadata": {},
   "outputs": [],
   "source": [
    "def get_metric_by_holiday_name(v):\n",
    "    if v == \"Новый год\":\n",
    "        return 0.8\n",
    "    elif v == \"Православное Рождество\":\n",
    "        return 0.7\n",
    "    elif v == \"Православное Рождество\":\n",
    "        return 0.7\n",
    "    elif v == \"День защитника отечества\":\n",
    "        return 0.5\n",
    "    elif v == \"День женщин\":\n",
    "        return 0.9\n",
    "    elif v == \"Праздник Весны и Труда\":\n",
    "        return 0.9\n",
    "    elif v == \"День Победы\":\n",
    "        return 1\n",
    "    elif v == \"День России\":\n",
    "        return 0.4\n",
    "    elif v == \"День народного единства\":\n",
    "        return 0.4\n",
    "    elif v == \"День знаний\":\n",
    "        return 0.8\n",
    "    return 0.1"
   ]
  },
  {
   "cell_type": "code",
   "execution_count": 9,
   "id": "eb3556d5",
   "metadata": {},
   "outputs": [],
   "source": [
    "def get_holiday_metric(unix: str, offset=10):\n",
    "    unix = int(str(unix)[:9])\n",
    "    d = datetime.fromtimestamp(unix).strftime('%Y-%m-%d')\n",
    "    metric = custom_holidays.get(d)\n",
    "    \n",
    "    \n",
    "    \n",
    "    return metric if metric else \"0.1\""
   ]
  },
  {
   "cell_type": "code",
   "execution_count": 10,
   "id": "8ade7700",
   "metadata": {},
   "outputs": [],
   "source": [
    "def createHolidays(path, filename):\n",
    "    \n",
    "    new_file = open(f\"{path}/holidays_{filename}\", 'w')\n",
    "    \n",
    "    with open(f\"{path}/{filename}\") as old_file:\n",
    "        items = old_file.read().split('\\n')\n",
    "    for i, strr in tqdm(enumerate(items[:-1])):\n",
    "        if i == 0:\n",
    "            strr += ',holidays\\n' \n",
    "        else:\n",
    "            metric = get_holiday_metric(strr.split(\",\")[4])\n",
    "            strr += f',{metric}\\n'\n",
    "        new_file.write(strr)  "
   ]
  },
  {
   "cell_type": "code",
   "execution_count": 11,
   "id": "2fd8fc32",
   "metadata": {},
   "outputs": [
    {
     "name": "stderr",
     "output_type": "stream",
     "text": [
      "4044488it [09:10, 7345.73it/s]\n"
     ]
    }
   ],
   "source": [
    "createHolidays(\"data/RowData/player_log/player=257\", \"new_mean_sum_dist_month.csv\")"
   ]
  },
  {
   "cell_type": "code",
   "execution_count": null,
   "id": "fc7595a0",
   "metadata": {},
   "outputs": [],
   "source": []
  }
 ],
 "metadata": {
  "kernelspec": {
   "display_name": "Python 3 (ipykernel)",
   "language": "python",
   "name": "python3"
  },
  "language_info": {
   "codemirror_mode": {
    "name": "ipython",
    "version": 3
   },
   "file_extension": ".py",
   "mimetype": "text/x-python",
   "name": "python",
   "nbconvert_exporter": "python",
   "pygments_lexer": "ipython3",
   "version": "3.9.6"
  }
 },
 "nbformat": 4,
 "nbformat_minor": 5
}
