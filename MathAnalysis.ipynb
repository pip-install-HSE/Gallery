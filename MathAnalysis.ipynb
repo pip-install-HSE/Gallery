{
 "cells": [
  {
   "cell_type": "code",
   "execution_count": 13,
   "id": "4a67df61",
   "metadata": {},
   "outputs": [
    {
     "name": "stdout",
     "output_type": "stream",
     "text": [
      "['/root/data/RowData/player_log/player=257/success_month=2020-11.csv']\n"
     ]
    }
   ],
   "source": [
    "import os\n",
    "data_path = '/root/data/RowData/player_log'\n",
    "players = os.listdir(data_path)\n",
    "csv_files = []\n",
    "# for player in players:\n",
    "for player in ['player=257']:\n",
    "    files = os.listdir(f\"{data_path}/{player}\")\n",
    "    for file in files:\n",
    "        if file.startswith('success') and file.endswith('.csv'):\n",
    "            csv_files.append(f\"{data_path}/{player}/{file}\")\n",
    "# one_thread = len(parquets) // 5\n",
    "# for i, parquet in enumerate(parquets):\n",
    "#     print(f'\"{parquet}\",')\n",
    "#     if (i + 1) % one_thread == 0:\n",
    "#         print()\n",
    "#         print()\n",
    "csv_files = csv_files[:1]\n",
    "print(csv_files)"
   ]
  },
  {
   "cell_type": "code",
   "execution_count": 18,
   "id": "2e2283f2",
   "metadata": {},
   "outputs": [
    {
     "ename": "ValueError",
     "evalue": "dictionary update sequence element #0 has length 6; 2 is required",
     "output_type": "error",
     "traceback": [
      "\u001b[0;31m---------------------------------------------------------------------------\u001b[0m",
      "\u001b[0;31mValueError\u001b[0m                                Traceback (most recent call last)",
      "\u001b[0;32m/tmp/ipykernel_2961/3413759318.py\u001b[0m in \u001b[0;36m<module>\u001b[0;34m\u001b[0m\n\u001b[1;32m      4\u001b[0m     \u001b[0;32mwith\u001b[0m \u001b[0mopen\u001b[0m\u001b[0;34m(\u001b[0m\u001b[0mcsv_file\u001b[0m\u001b[0;34m,\u001b[0m \u001b[0mmode\u001b[0m\u001b[0;34m=\u001b[0m\u001b[0;34m'r'\u001b[0m\u001b[0;34m)\u001b[0m \u001b[0;32mas\u001b[0m \u001b[0minfile\u001b[0m\u001b[0;34m:\u001b[0m\u001b[0;34m\u001b[0m\u001b[0;34m\u001b[0m\u001b[0m\n\u001b[1;32m      5\u001b[0m         \u001b[0mreader\u001b[0m \u001b[0;34m=\u001b[0m \u001b[0mcsv\u001b[0m\u001b[0;34m.\u001b[0m\u001b[0mDictReader\u001b[0m\u001b[0;34m(\u001b[0m\u001b[0minfile\u001b[0m\u001b[0;34m)\u001b[0m\u001b[0;34m\u001b[0m\u001b[0;34m\u001b[0m\u001b[0m\n\u001b[0;32m----> 6\u001b[0;31m         \u001b[0mprint\u001b[0m\u001b[0;34m(\u001b[0m\u001b[0mdict\u001b[0m\u001b[0;34m(\u001b[0m\u001b[0mreader\u001b[0m\u001b[0;34m)\u001b[0m\u001b[0;34m)\u001b[0m\u001b[0;34m\u001b[0m\u001b[0;34m\u001b[0m\u001b[0m\n\u001b[0m\u001b[1;32m      7\u001b[0m \u001b[0;31m#         dict_from_csv = {rows[0]:rows[1] for rows in reader}\u001b[0m\u001b[0;34m\u001b[0m\u001b[0;34m\u001b[0m\u001b[0;34m\u001b[0m\u001b[0m\n\u001b[1;32m      8\u001b[0m \u001b[0;31m#         print(dict_from_csv)\u001b[0m\u001b[0;34m\u001b[0m\u001b[0;34m\u001b[0m\u001b[0;34m\u001b[0m\u001b[0m\n",
      "\u001b[0;31mValueError\u001b[0m: dictionary update sequence element #0 has length 6; 2 is required"
     ]
    }
   ],
   "source": [
    "import csv\n",
    "\n",
    "for csv_file in csv_files:\n",
    "    with open(csv_file, mode='r') as infile:\n",
    "        reader = csv.DictReader(infile)\n",
    "        print(dict(reader))\n",
    "#         dict_from_csv = {rows[0]:rows[1] for rows in reader}\n",
    "#         print(dict_from_csv)\n",
    "        \n",
    "# a_csv_file = open(\"sample.csv\", \"r\")\n",
    "# dict_reader = csv.DictReader(a_csv_file)\n",
    "\n",
    "# ordered_dict_from_csv = list(dict_reader)[0]\n",
    "# dict_from_csv = dict(ordered_dict_from_csv)\n",
    "\n",
    "# print(dict_from_csv)\n",
    "\n",
    "    "
   ]
  },
  {
   "cell_type": "code",
   "execution_count": null,
   "id": "4f78bf7d",
   "metadata": {},
   "outputs": [],
   "source": []
  }
 ],
 "metadata": {
  "kernelspec": {
   "display_name": "Python 3 (ipykernel)",
   "language": "python",
   "name": "python3"
  },
  "language_info": {
   "codemirror_mode": {
    "name": "ipython",
    "version": 3
   },
   "file_extension": ".py",
   "mimetype": "text/x-python",
   "name": "python",
   "nbconvert_exporter": "python",
   "pygments_lexer": "ipython3",
   "version": "3.9.6"
  }
 },
 "nbformat": 4,
 "nbformat_minor": 5
}
