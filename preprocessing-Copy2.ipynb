{
 "cells": [
  {
   "cell_type": "code",
   "execution_count": 9,
   "metadata": {},
   "outputs": [
    {
     "name": "stdout",
     "output_type": "stream",
     "text": [
      "pip install HSE\n"
     ]
    }
   ],
   "source": [
    "print('pip install HSE')\n",
    "# !pip install pandas\n",
    "# !pip install pyarrow\n",
    "# !pip install tqdm"
   ]
  },
  {
   "cell_type": "code",
   "execution_count": 11,
   "metadata": {
    "pycharm": {
     "name": "#%%\n"
    }
   },
   "outputs": [],
   "source": [
    "import pandas as pd\n",
    "import pyarrow.parquet as pq\n",
    "import datetime\n",
    "import time\n",
    "import tqdm\n",
    "from threading import Thread\n",
    "import re\n",
    "import os\n",
    "\n",
    "def parquet_to_csv(paths): # \"./data/RowData/player_log/player=1547/month=2020-11.parquet\"\n",
    "    for path in paths:\n",
    "        folder = re.sub(os.path.basename(path), '', path)\n",
    "        filename = re.sub('parquet', 'csv', os.path.basename(path))\n",
    "        if not os.path.isfile(f\"{folder}/success_{filename}\"):\n",
    "            df = pq.read_table(source=path).to_pandas()\n",
    "            file = open(f\"{folder}/{filename}\", 'w')\n",
    "            file.write('month,week_day,half_hour,efficiency,unix,views\\n')\n",
    "            for i in tqdm.tqdm(range(max(df.shape[0], 10))):\n",
    "    #         for i in range(max(df.shape[0], 10)):\n",
    "                obj = df.loc[i]\n",
    "                in_t = datetime.datetime.fromtimestamp(obj['DateTimeInTick'] / 1000)\n",
    "                out_t = datetime.datetime.fromtimestamp(obj['DateTimeOutTick'] / 1000)\n",
    "                month_1 = in_t.month\n",
    "                month_2 = out_t.month\n",
    "                weekday_1 = in_t.weekday()\n",
    "                weekday_2 = out_t.weekday()\n",
    "                halfhour_1 = 2 * in_t.hour + 1 + int(in_t.minute >= 30)\n",
    "                halfhour_2 = 2 * in_t.hour + 1 + int(in_t.minute >= 30)\n",
    "                efficiency = obj['MacCountAll'] / obj['Duration']\n",
    "                file.write(f\"{month_1},{weekday_1},{halfhour_1},{round(efficiency, 2)},{obj['DateTimeOutTick']},{obj['MacCountAll']}\\n\")\n",
    "                if month_1 != month_2 or weekday_1 != weekday_2 or halfhour_1 != halfhour_2:\n",
    "                    file.write(f\"{month_2},{weekday_2},{halfhour_2},{round(efficiency, 2)},{obj['DateTimeOutTick']},{obj['MacCountAll']}\\n\")\n",
    "            file.close()\n",
    "            os.rename(f\"{folder}/{filename}\", f\"{folder}/success_{filename}\")\n",
    "        else:\n",
    "            print(f\"skipped: {folder}/success_{filename}\")\n",
    "# parquet_to_csv([\"./data/RowData/player_log/player=1547/month=2020-11.parquet\"])\n",
    "# th1 = Thread(target=parquet_to_csv, args=([\n",
    "#     \"./data/RowData/player_log/player=1547/month=2020-11.parquet\",\n",
    "# ], ))\n",
    "\n",
    "# th2 = Thread(target=parquet_to_csv, args=([\n",
    "#     \"./data/RowData/player_log/player=1547/month=2020-12.parquet\",\n",
    "# ], ))\n",
    "# # th3 = Thread(target=parquet_to_csv, args=([\n",
    "# #     \"./data/RowData/player_log/player=1547/month=2020-11.parquet\",\n",
    "# # ], ))\n",
    "\n",
    "# # th4 = Thread(target=parquet_to_csv, args=([\n",
    "# #     \"./data/RowData/player_log/player=1547/month=2020-12.parquet\",\n",
    "# # ], ))\n",
    "# th1.start()\n",
    "# th2.start()"
   ]
  },
  {
   "cell_type": "code",
   "execution_count": 12,
   "metadata": {},
   "outputs": [
    {
     "name": "stdout",
     "output_type": "stream",
     "text": [
      "skipped: /root/data/RowData/player_log/player=2669//success_month=2021-5.csv\n",
      "skipped: /root/data/RowData/player_log/player=256//success_month=2021-2.csv\n",
      "skipped: /root/data/RowData/player_log/player=256//success_month=2020-12.csv\n",
      "skipped: /root/data/RowData/player_log/player=256//success_month=2021-4.csv\n",
      "skipped: /root/data/RowData/player_log/player=256//success_month=2021-3.csv\n",
      "skipped: /root/data/RowData/player_log/player=256//success_month=2021-6.csv\n",
      "skipped: /root/data/RowData/player_log/player=256//success_month=2020-11.csv\n",
      "skipped: /root/data/RowData/player_log/player=256//success_month=2021-5.csv\n",
      "skipped: /root/data/RowData/player_log/player=256//success_month=2021-1.csv\n",
      "skipped: /root/data/RowData/player_log/player=408//success_month=2021-2.csv\n",
      "skipped: /root/data/RowData/player_log/player=408//success_month=2020-12.csv\n",
      "skipped: /root/data/RowData/player_log/player=408//success_month=2021-4.csv\n",
      "skipped: /root/data/RowData/player_log/player=408//success_month=2021-3.csv\n",
      "skipped: /root/data/RowData/player_log/player=408//success_month=2021-6.csv\n",
      "skipped: /root/data/RowData/player_log/player=408//success_month=2020-11.csv\n",
      "skipped: /root/data/RowData/player_log/player=408//success_month=2021-5.csv\n",
      "skipped: /root/data/RowData/player_log/player=408//success_month=2021-1.csv\n",
      "skipped: /root/data/RowData/player_log/player=278//success_month=2021-2.csv\n",
      "skipped: /root/data/RowData/player_log/player=278//success_month=2020-12.csv\n",
      "skipped: /root/data/RowData/player_log/player=278//success_month=2021-4.csv\n",
      "skipped: /root/data/RowData/player_log/player=278//success_month=2021-3.csv\n",
      "skipped: /root/data/RowData/player_log/player=278//success_month=2021-6.csv\n",
      "skipped: /root/data/RowData/player_log/player=278//success_month=2020-11.csv\n",
      "skipped: /root/data/RowData/player_log/player=278//success_month=2021-5.csv\n",
      "skipped: /root/data/RowData/player_log/player=278//success_month=2021-1.csv\n",
      "skipped: /root/data/RowData/player_log/player=411//success_month=2021-2.csv\n",
      "skipped: /root/data/RowData/player_log/player=411//success_month=2020-12.csv\n",
      "skipped: /root/data/RowData/player_log/player=411//success_month=2021-4.csv\n",
      "skipped: /root/data/RowData/player_log/player=411//success_month=2021-3.csv\n",
      "skipped: /root/data/RowData/player_log/player=411//success_month=2021-6.csv\n",
      "skipped: /root/data/RowData/player_log/player=411//success_month=2020-11.csv\n",
      "skipped: /root/data/RowData/player_log/player=411//success_month=2021-5.csv\n",
      "skipped: /root/data/RowData/player_log/player=411//success_month=2021-1.csv\n",
      "skipped: /root/data/RowData/player_log/player=26//success_month=2021-2.csv\n"
     ]
    }
   ],
   "source": [
    "parquet_to_csv([\n",
    "    \"/root/data/RowData/player_log/player=2669/month=2021-5.parquet\",\n",
    "\"/root/data/RowData/player_log/player=256/month=2021-2.parquet\",\n",
    "\"/root/data/RowData/player_log/player=256/month=2020-12.parquet\",\n",
    "\"/root/data/RowData/player_log/player=256/month=2021-4.parquet\",\n",
    "\"/root/data/RowData/player_log/player=256/month=2021-3.parquet\",\n",
    "\"/root/data/RowData/player_log/player=256/month=2021-6.parquet\",\n",
    "\"/root/data/RowData/player_log/player=256/month=2020-11.parquet\",\n",
    "\"/root/data/RowData/player_log/player=256/month=2021-5.parquet\",\n",
    "\"/root/data/RowData/player_log/player=256/month=2021-1.parquet\",\n",
    "\"/root/data/RowData/player_log/player=408/month=2021-2.parquet\",\n",
    "\"/root/data/RowData/player_log/player=408/month=2020-12.parquet\",\n",
    "\"/root/data/RowData/player_log/player=408/month=2021-4.parquet\",\n",
    "\"/root/data/RowData/player_log/player=408/month=2021-3.parquet\",\n",
    "\"/root/data/RowData/player_log/player=408/month=2021-6.parquet\",\n",
    "\"/root/data/RowData/player_log/player=408/month=2020-11.parquet\",\n",
    "\"/root/data/RowData/player_log/player=408/month=2021-5.parquet\",\n",
    "\"/root/data/RowData/player_log/player=408/month=2021-1.parquet\",\n",
    "\"/root/data/RowData/player_log/player=278/month=2021-2.parquet\",\n",
    "\"/root/data/RowData/player_log/player=278/month=2020-12.parquet\",\n",
    "\"/root/data/RowData/player_log/player=278/month=2021-4.parquet\",\n",
    "\"/root/data/RowData/player_log/player=278/month=2021-3.parquet\",\n",
    "\"/root/data/RowData/player_log/player=278/month=2021-6.parquet\",\n",
    "\"/root/data/RowData/player_log/player=278/month=2020-11.parquet\",\n",
    "\"/root/data/RowData/player_log/player=278/month=2021-5.parquet\",\n",
    "\"/root/data/RowData/player_log/player=278/month=2021-1.parquet\",\n",
    "\"/root/data/RowData/player_log/player=411/month=2021-2.parquet\",\n",
    "\"/root/data/RowData/player_log/player=411/month=2020-12.parquet\",\n",
    "\"/root/data/RowData/player_log/player=411/month=2021-4.parquet\",\n",
    "\"/root/data/RowData/player_log/player=411/month=2021-3.parquet\",\n",
    "\"/root/data/RowData/player_log/player=411/month=2021-6.parquet\",\n",
    "\"/root/data/RowData/player_log/player=411/month=2020-11.parquet\",\n",
    "\"/root/data/RowData/player_log/player=411/month=2021-5.parquet\",\n",
    "\"/root/data/RowData/player_log/player=411/month=2021-1.parquet\",\n",
    "\"/root/data/RowData/player_log/player=26/month=2021-2.parquet\",\n",
    "])"
   ]
  },
  {
   "cell_type": "code",
   "execution_count": null,
   "metadata": {},
   "outputs": [],
   "source": []
  },
  {
   "cell_type": "code",
   "execution_count": null,
   "metadata": {},
   "outputs": [],
   "source": []
  },
  {
   "cell_type": "code",
   "execution_count": null,
   "metadata": {},
   "outputs": [],
   "source": []
  },
  {
   "cell_type": "code",
   "execution_count": null,
   "metadata": {},
   "outputs": [],
   "source": []
  },
  {
   "cell_type": "code",
   "execution_count": null,
   "metadata": {},
   "outputs": [],
   "source": []
  },
  {
   "cell_type": "code",
   "execution_count": null,
   "metadata": {},
   "outputs": [],
   "source": []
  },
  {
   "cell_type": "code",
   "execution_count": null,
   "metadata": {},
   "outputs": [],
   "source": []
  },
  {
   "cell_type": "code",
   "execution_count": null,
   "metadata": {},
   "outputs": [],
   "source": []
  },
  {
   "cell_type": "code",
   "execution_count": 31,
   "metadata": {},
   "outputs": [],
   "source": [
    "import pandas as pd\n",
    "import pyarrow.parquet as pq\n",
    "import datetime"
   ]
  },
  {
   "cell_type": "code",
   "execution_count": 32,
   "metadata": {
    "pycharm": {
     "name": "#%%\n"
    }
   },
   "outputs": [],
   "source": [
    "df = pq.read_table(source=\"./data/RowData/player_log/player=1547/month=2020-11.parquet\").to_pandas()"
   ]
  },
  {
   "cell_type": "code",
   "execution_count": 9,
   "metadata": {
    "pycharm": {
     "name": "#%%\n"
    }
   },
   "outputs": [
    {
     "name": "stdout",
     "output_type": "stream",
     "text": [
      "(494703, 14)\n"
     ]
    }
   ],
   "source": [
    "print(df.shape)\n",
    "new_df = pd.DataFrame(columns=('month', 'week_day', 'half_hour', 'efficiency', 'unix', 'views'), )"
   ]
  },
  {
   "cell_type": "code",
   "execution_count": 6,
   "metadata": {},
   "outputs": [
    {
     "name": "stderr",
     "output_type": "stream",
     "text": [
      "  5%|▌         | 26645/494703 [00:11<03:21, 2324.04it/s]\n"
     ]
    },
    {
     "ename": "KeyboardInterrupt",
     "evalue": "",
     "output_type": "error",
     "traceback": [
      "\u001b[0;31m---------------------------------------------------------------------------\u001b[0m",
      "\u001b[0;31mKeyboardInterrupt\u001b[0m                         Traceback (most recent call last)",
      "\u001b[0;32m/tmp/ipykernel_971/368330689.py\u001b[0m in \u001b[0;36m<module>\u001b[0;34m\u001b[0m\n\u001b[0;32m----> 1\u001b[0;31m parquet_to_csv([\n\u001b[0m\u001b[1;32m      2\u001b[0m     \u001b[0;34m\"./data/RowData/player_log/player=1547/month=2020-11.parquet\"\u001b[0m\u001b[0;34m,\u001b[0m\u001b[0;34m\u001b[0m\u001b[0;34m\u001b[0m\u001b[0m\n\u001b[1;32m      3\u001b[0m     \u001b[0;34m\"./data/RowData/player_log/player=1547/month=2020-12.parquet\"\u001b[0m\u001b[0;34m\u001b[0m\u001b[0;34m\u001b[0m\u001b[0m\n\u001b[1;32m      4\u001b[0m ])\n",
      "\u001b[0;32m/tmp/ipykernel_971/3941485547.py\u001b[0m in \u001b[0;36mparquet_to_csv\u001b[0;34m(paths)\u001b[0m\n\u001b[1;32m     17\u001b[0m         \u001b[0;32mfor\u001b[0m \u001b[0mi\u001b[0m \u001b[0;32min\u001b[0m \u001b[0mtqdm\u001b[0m\u001b[0;34m.\u001b[0m\u001b[0mtqdm\u001b[0m\u001b[0;34m(\u001b[0m\u001b[0mrange\u001b[0m\u001b[0;34m(\u001b[0m\u001b[0mmax\u001b[0m\u001b[0;34m(\u001b[0m\u001b[0mdf\u001b[0m\u001b[0;34m.\u001b[0m\u001b[0mshape\u001b[0m\u001b[0;34m[\u001b[0m\u001b[0;36m0\u001b[0m\u001b[0;34m]\u001b[0m\u001b[0;34m,\u001b[0m \u001b[0;36m10\u001b[0m\u001b[0;34m)\u001b[0m\u001b[0;34m)\u001b[0m\u001b[0;34m)\u001b[0m\u001b[0;34m:\u001b[0m\u001b[0;34m\u001b[0m\u001b[0;34m\u001b[0m\u001b[0m\n\u001b[1;32m     18\u001b[0m \u001b[0;31m#         for i in range(max(df.shape[0], 10)):\u001b[0m\u001b[0;34m\u001b[0m\u001b[0;34m\u001b[0m\u001b[0;34m\u001b[0m\u001b[0m\n\u001b[0;32m---> 19\u001b[0;31m             \u001b[0mobj\u001b[0m \u001b[0;34m=\u001b[0m \u001b[0mdf\u001b[0m\u001b[0;34m.\u001b[0m\u001b[0mloc\u001b[0m\u001b[0;34m[\u001b[0m\u001b[0mi\u001b[0m\u001b[0;34m]\u001b[0m\u001b[0;34m\u001b[0m\u001b[0;34m\u001b[0m\u001b[0m\n\u001b[0m\u001b[1;32m     20\u001b[0m             \u001b[0min_t\u001b[0m \u001b[0;34m=\u001b[0m \u001b[0mdatetime\u001b[0m\u001b[0;34m.\u001b[0m\u001b[0mdatetime\u001b[0m\u001b[0;34m.\u001b[0m\u001b[0mfromtimestamp\u001b[0m\u001b[0;34m(\u001b[0m\u001b[0mobj\u001b[0m\u001b[0;34m[\u001b[0m\u001b[0;34m'DateTimeInTick'\u001b[0m\u001b[0;34m]\u001b[0m \u001b[0;34m/\u001b[0m \u001b[0;36m1000\u001b[0m\u001b[0;34m)\u001b[0m\u001b[0;34m\u001b[0m\u001b[0;34m\u001b[0m\u001b[0m\n\u001b[1;32m     21\u001b[0m             \u001b[0mout_t\u001b[0m \u001b[0;34m=\u001b[0m \u001b[0mdatetime\u001b[0m\u001b[0;34m.\u001b[0m\u001b[0mdatetime\u001b[0m\u001b[0;34m.\u001b[0m\u001b[0mfromtimestamp\u001b[0m\u001b[0;34m(\u001b[0m\u001b[0mobj\u001b[0m\u001b[0;34m[\u001b[0m\u001b[0;34m'DateTimeOutTick'\u001b[0m\u001b[0;34m]\u001b[0m \u001b[0;34m/\u001b[0m \u001b[0;36m1000\u001b[0m\u001b[0;34m)\u001b[0m\u001b[0;34m\u001b[0m\u001b[0;34m\u001b[0m\u001b[0m\n",
      "\u001b[0;32m~/venv/lib/python3.9/site-packages/pandas/core/indexing.py\u001b[0m in \u001b[0;36m__getitem__\u001b[0;34m(self, key)\u001b[0m\n\u001b[1;32m    929\u001b[0m \u001b[0;34m\u001b[0m\u001b[0m\n\u001b[1;32m    930\u001b[0m             \u001b[0mmaybe_callable\u001b[0m \u001b[0;34m=\u001b[0m \u001b[0mcom\u001b[0m\u001b[0;34m.\u001b[0m\u001b[0mapply_if_callable\u001b[0m\u001b[0;34m(\u001b[0m\u001b[0mkey\u001b[0m\u001b[0;34m,\u001b[0m \u001b[0mself\u001b[0m\u001b[0;34m.\u001b[0m\u001b[0mobj\u001b[0m\u001b[0;34m)\u001b[0m\u001b[0;34m\u001b[0m\u001b[0;34m\u001b[0m\u001b[0m\n\u001b[0;32m--> 931\u001b[0;31m             \u001b[0;32mreturn\u001b[0m \u001b[0mself\u001b[0m\u001b[0;34m.\u001b[0m\u001b[0m_getitem_axis\u001b[0m\u001b[0;34m(\u001b[0m\u001b[0mmaybe_callable\u001b[0m\u001b[0;34m,\u001b[0m \u001b[0maxis\u001b[0m\u001b[0;34m=\u001b[0m\u001b[0maxis\u001b[0m\u001b[0;34m)\u001b[0m\u001b[0;34m\u001b[0m\u001b[0;34m\u001b[0m\u001b[0m\n\u001b[0m\u001b[1;32m    932\u001b[0m \u001b[0;34m\u001b[0m\u001b[0m\n\u001b[1;32m    933\u001b[0m     \u001b[0;32mdef\u001b[0m \u001b[0m_is_scalar_access\u001b[0m\u001b[0;34m(\u001b[0m\u001b[0mself\u001b[0m\u001b[0;34m,\u001b[0m \u001b[0mkey\u001b[0m\u001b[0;34m:\u001b[0m \u001b[0mtuple\u001b[0m\u001b[0;34m)\u001b[0m\u001b[0;34m:\u001b[0m\u001b[0;34m\u001b[0m\u001b[0;34m\u001b[0m\u001b[0m\n",
      "\u001b[0;32m~/venv/lib/python3.9/site-packages/pandas/core/indexing.py\u001b[0m in \u001b[0;36m_getitem_axis\u001b[0;34m(self, key, axis)\u001b[0m\n\u001b[1;32m   1162\u001b[0m         \u001b[0;31m# fall thru to straight lookup\u001b[0m\u001b[0;34m\u001b[0m\u001b[0;34m\u001b[0m\u001b[0;34m\u001b[0m\u001b[0m\n\u001b[1;32m   1163\u001b[0m         \u001b[0mself\u001b[0m\u001b[0;34m.\u001b[0m\u001b[0m_validate_key\u001b[0m\u001b[0;34m(\u001b[0m\u001b[0mkey\u001b[0m\u001b[0;34m,\u001b[0m \u001b[0maxis\u001b[0m\u001b[0;34m)\u001b[0m\u001b[0;34m\u001b[0m\u001b[0;34m\u001b[0m\u001b[0m\n\u001b[0;32m-> 1164\u001b[0;31m         \u001b[0;32mreturn\u001b[0m \u001b[0mself\u001b[0m\u001b[0;34m.\u001b[0m\u001b[0m_get_label\u001b[0m\u001b[0;34m(\u001b[0m\u001b[0mkey\u001b[0m\u001b[0;34m,\u001b[0m \u001b[0maxis\u001b[0m\u001b[0;34m=\u001b[0m\u001b[0maxis\u001b[0m\u001b[0;34m)\u001b[0m\u001b[0;34m\u001b[0m\u001b[0;34m\u001b[0m\u001b[0m\n\u001b[0m\u001b[1;32m   1165\u001b[0m \u001b[0;34m\u001b[0m\u001b[0m\n\u001b[1;32m   1166\u001b[0m     \u001b[0;32mdef\u001b[0m \u001b[0m_get_slice_axis\u001b[0m\u001b[0;34m(\u001b[0m\u001b[0mself\u001b[0m\u001b[0;34m,\u001b[0m \u001b[0mslice_obj\u001b[0m\u001b[0;34m:\u001b[0m \u001b[0mslice\u001b[0m\u001b[0;34m,\u001b[0m \u001b[0maxis\u001b[0m\u001b[0;34m:\u001b[0m \u001b[0mint\u001b[0m\u001b[0;34m)\u001b[0m\u001b[0;34m:\u001b[0m\u001b[0;34m\u001b[0m\u001b[0;34m\u001b[0m\u001b[0m\n",
      "\u001b[0;32m~/venv/lib/python3.9/site-packages/pandas/core/indexing.py\u001b[0m in \u001b[0;36m_get_label\u001b[0;34m(self, label, axis)\u001b[0m\n\u001b[1;32m   1111\u001b[0m     \u001b[0;32mdef\u001b[0m \u001b[0m_get_label\u001b[0m\u001b[0;34m(\u001b[0m\u001b[0mself\u001b[0m\u001b[0;34m,\u001b[0m \u001b[0mlabel\u001b[0m\u001b[0;34m,\u001b[0m \u001b[0maxis\u001b[0m\u001b[0;34m:\u001b[0m \u001b[0mint\u001b[0m\u001b[0;34m)\u001b[0m\u001b[0;34m:\u001b[0m\u001b[0;34m\u001b[0m\u001b[0;34m\u001b[0m\u001b[0m\n\u001b[1;32m   1112\u001b[0m         \u001b[0;31m# GH#5667 this will fail if the label is not present in the axis.\u001b[0m\u001b[0;34m\u001b[0m\u001b[0;34m\u001b[0m\u001b[0;34m\u001b[0m\u001b[0m\n\u001b[0;32m-> 1113\u001b[0;31m         \u001b[0;32mreturn\u001b[0m \u001b[0mself\u001b[0m\u001b[0;34m.\u001b[0m\u001b[0mobj\u001b[0m\u001b[0;34m.\u001b[0m\u001b[0mxs\u001b[0m\u001b[0;34m(\u001b[0m\u001b[0mlabel\u001b[0m\u001b[0;34m,\u001b[0m \u001b[0maxis\u001b[0m\u001b[0;34m=\u001b[0m\u001b[0maxis\u001b[0m\u001b[0;34m)\u001b[0m\u001b[0;34m\u001b[0m\u001b[0;34m\u001b[0m\u001b[0m\n\u001b[0m\u001b[1;32m   1114\u001b[0m \u001b[0;34m\u001b[0m\u001b[0m\n\u001b[1;32m   1115\u001b[0m     \u001b[0;32mdef\u001b[0m \u001b[0m_handle_lowerdim_multi_index_axis0\u001b[0m\u001b[0;34m(\u001b[0m\u001b[0mself\u001b[0m\u001b[0;34m,\u001b[0m \u001b[0mtup\u001b[0m\u001b[0;34m:\u001b[0m \u001b[0mtuple\u001b[0m\u001b[0;34m)\u001b[0m\u001b[0;34m:\u001b[0m\u001b[0;34m\u001b[0m\u001b[0;34m\u001b[0m\u001b[0m\n",
      "\u001b[0;32m~/venv/lib/python3.9/site-packages/pandas/core/generic.py\u001b[0m in \u001b[0;36mxs\u001b[0;34m(self, key, axis, level, drop_level)\u001b[0m\n\u001b[1;32m   3794\u001b[0m                 \u001b[0;32mreturn\u001b[0m \u001b[0mself\u001b[0m\u001b[0;34m.\u001b[0m\u001b[0m_values\u001b[0m\u001b[0;34m[\u001b[0m\u001b[0mloc\u001b[0m\u001b[0;34m]\u001b[0m\u001b[0;34m\u001b[0m\u001b[0;34m\u001b[0m\u001b[0m\n\u001b[1;32m   3795\u001b[0m \u001b[0;34m\u001b[0m\u001b[0m\n\u001b[0;32m-> 3796\u001b[0;31m             \u001b[0mnew_values\u001b[0m \u001b[0;34m=\u001b[0m \u001b[0mself\u001b[0m\u001b[0;34m.\u001b[0m\u001b[0m_mgr\u001b[0m\u001b[0;34m.\u001b[0m\u001b[0mfast_xs\u001b[0m\u001b[0;34m(\u001b[0m\u001b[0mloc\u001b[0m\u001b[0;34m)\u001b[0m\u001b[0;34m\u001b[0m\u001b[0;34m\u001b[0m\u001b[0m\n\u001b[0m\u001b[1;32m   3797\u001b[0m \u001b[0;34m\u001b[0m\u001b[0m\n\u001b[1;32m   3798\u001b[0m             result = self._constructor_sliced(\n",
      "\u001b[0;32m~/venv/lib/python3.9/site-packages/pandas/core/internals/managers.py\u001b[0m in \u001b[0;36mfast_xs\u001b[0;34m(self, loc)\u001b[0m\n\u001b[1;32m    967\u001b[0m             \u001b[0;31m# Such assignment may incorrectly coerce NaT to None\u001b[0m\u001b[0;34m\u001b[0m\u001b[0;34m\u001b[0m\u001b[0;34m\u001b[0m\u001b[0m\n\u001b[1;32m    968\u001b[0m             \u001b[0;31m# result[blk.mgr_locs] = blk._slice((slice(None), loc))\u001b[0m\u001b[0;34m\u001b[0m\u001b[0;34m\u001b[0m\u001b[0;34m\u001b[0m\u001b[0m\n\u001b[0;32m--> 969\u001b[0;31m             \u001b[0;32mfor\u001b[0m \u001b[0mi\u001b[0m\u001b[0;34m,\u001b[0m \u001b[0mrl\u001b[0m \u001b[0;32min\u001b[0m \u001b[0menumerate\u001b[0m\u001b[0;34m(\u001b[0m\u001b[0mblk\u001b[0m\u001b[0;34m.\u001b[0m\u001b[0mmgr_locs\u001b[0m\u001b[0;34m)\u001b[0m\u001b[0;34m:\u001b[0m\u001b[0;34m\u001b[0m\u001b[0;34m\u001b[0m\u001b[0m\n\u001b[0m\u001b[1;32m    970\u001b[0m                 \u001b[0mresult\u001b[0m\u001b[0;34m[\u001b[0m\u001b[0mrl\u001b[0m\u001b[0;34m]\u001b[0m \u001b[0;34m=\u001b[0m \u001b[0mblk\u001b[0m\u001b[0;34m.\u001b[0m\u001b[0miget\u001b[0m\u001b[0;34m(\u001b[0m\u001b[0;34m(\u001b[0m\u001b[0mi\u001b[0m\u001b[0;34m,\u001b[0m \u001b[0mloc\u001b[0m\u001b[0;34m)\u001b[0m\u001b[0;34m)\u001b[0m\u001b[0;34m\u001b[0m\u001b[0;34m\u001b[0m\u001b[0m\n\u001b[1;32m    971\u001b[0m \u001b[0;34m\u001b[0m\u001b[0m\n",
      "\u001b[0;31mKeyboardInterrupt\u001b[0m: "
     ]
    }
   ],
   "source": [
    "parquet_to_csv([\n",
    "    \"./data/RowData/player_log/player=1547/month=2020-11.parquet\",\n",
    "    \"./data/RowData/player_log/player=1547/month=2020-12.parquet\"\n",
    "])"
   ]
  },
  {
   "cell_type": "code",
   "execution_count": null,
   "metadata": {
    "pycharm": {
     "name": "#%%\n"
    }
   },
   "outputs": [],
   "source": [
    "new_df.shape"
   ]
  },
  {
   "cell_type": "code",
   "execution_count": 71,
   "metadata": {
    "pycharm": {
     "name": "#%%\n"
    }
   },
   "outputs": [
    {
     "data": {
      "text/html": [
       "<div>\n",
       "<style scoped>\n",
       "    .dataframe tbody tr th:only-of-type {\n",
       "        vertical-align: middle;\n",
       "    }\n",
       "\n",
       "    .dataframe tbody tr th {\n",
       "        vertical-align: top;\n",
       "    }\n",
       "\n",
       "    .dataframe thead th {\n",
       "        text-align: right;\n",
       "    }\n",
       "</style>\n",
       "<table border=\"1\" class=\"dataframe\">\n",
       "  <thead>\n",
       "    <tr style=\"text-align: right;\">\n",
       "      <th></th>\n",
       "      <th>month</th>\n",
       "      <th>week_day</th>\n",
       "      <th>half_hour</th>\n",
       "      <th>efficiency</th>\n",
       "      <th>unix</th>\n",
       "      <th>views</th>\n",
       "    </tr>\n",
       "  </thead>\n",
       "  <tbody>\n",
       "    <tr>\n",
       "      <th>0</th>\n",
       "      <td>4</td>\n",
       "      <td>3</td>\n",
       "      <td>10</td>\n",
       "      <td>2.4</td>\n",
       "      <td>1617242398103</td>\n",
       "      <td>12</td>\n",
       "    </tr>\n",
       "    <tr>\n",
       "      <th>1</th>\n",
       "      <td>4</td>\n",
       "      <td>3</td>\n",
       "      <td>10</td>\n",
       "      <td>2.2</td>\n",
       "      <td>1617242393097</td>\n",
       "      <td>11</td>\n",
       "    </tr>\n",
       "    <tr>\n",
       "      <th>2</th>\n",
       "      <td>4</td>\n",
       "      <td>3</td>\n",
       "      <td>10</td>\n",
       "      <td>2.8</td>\n",
       "      <td>1617242388097</td>\n",
       "      <td>14</td>\n",
       "    </tr>\n",
       "    <tr>\n",
       "      <th>3</th>\n",
       "      <td>4</td>\n",
       "      <td>3</td>\n",
       "      <td>10</td>\n",
       "      <td>2.6</td>\n",
       "      <td>1617242383087</td>\n",
       "      <td>13</td>\n",
       "    </tr>\n",
       "    <tr>\n",
       "      <th>4</th>\n",
       "      <td>4</td>\n",
       "      <td>3</td>\n",
       "      <td>10</td>\n",
       "      <td>3.4</td>\n",
       "      <td>1617242378073</td>\n",
       "      <td>17</td>\n",
       "    </tr>\n",
       "    <tr>\n",
       "      <th>...</th>\n",
       "      <td>...</td>\n",
       "      <td>...</td>\n",
       "      <td>...</td>\n",
       "      <td>...</td>\n",
       "      <td>...</td>\n",
       "      <td>...</td>\n",
       "    </tr>\n",
       "    <tr>\n",
       "      <th>495</th>\n",
       "      <td>4</td>\n",
       "      <td>3</td>\n",
       "      <td>9</td>\n",
       "      <td>2.6</td>\n",
       "      <td>1617240149763</td>\n",
       "      <td>13</td>\n",
       "    </tr>\n",
       "    <tr>\n",
       "      <th>496</th>\n",
       "      <td>4</td>\n",
       "      <td>3</td>\n",
       "      <td>9</td>\n",
       "      <td>2.6</td>\n",
       "      <td>1617240144760</td>\n",
       "      <td>13</td>\n",
       "    </tr>\n",
       "    <tr>\n",
       "      <th>497</th>\n",
       "      <td>4</td>\n",
       "      <td>3</td>\n",
       "      <td>9</td>\n",
       "      <td>1.8</td>\n",
       "      <td>1617240139750</td>\n",
       "      <td>9</td>\n",
       "    </tr>\n",
       "    <tr>\n",
       "      <th>498</th>\n",
       "      <td>4</td>\n",
       "      <td>3</td>\n",
       "      <td>9</td>\n",
       "      <td>2</td>\n",
       "      <td>1617240134737</td>\n",
       "      <td>10</td>\n",
       "    </tr>\n",
       "    <tr>\n",
       "      <th>499</th>\n",
       "      <td>4</td>\n",
       "      <td>3</td>\n",
       "      <td>9</td>\n",
       "      <td>3.4</td>\n",
       "      <td>1617240129737</td>\n",
       "      <td>17</td>\n",
       "    </tr>\n",
       "  </tbody>\n",
       "</table>\n",
       "<p>500 rows × 6 columns</p>\n",
       "</div>"
      ],
      "text/plain": [
       "    month week_day half_hour efficiency           unix views\n",
       "0       4        3        10        2.4  1617242398103    12\n",
       "1       4        3        10        2.2  1617242393097    11\n",
       "2       4        3        10        2.8  1617242388097    14\n",
       "3       4        3        10        2.6  1617242383087    13\n",
       "4       4        3        10        3.4  1617242378073    17\n",
       "..    ...      ...       ...        ...            ...   ...\n",
       "495     4        3         9        2.6  1617240149763    13\n",
       "496     4        3         9        2.6  1617240144760    13\n",
       "497     4        3         9        1.8  1617240139750     9\n",
       "498     4        3         9          2  1617240134737    10\n",
       "499     4        3         9        3.4  1617240129737    17\n",
       "\n",
       "[500 rows x 6 columns]"
      ]
     },
     "execution_count": 71,
     "metadata": {},
     "output_type": "execute_result"
    }
   ],
   "source": [
    "new_df"
   ]
  },
  {
   "cell_type": "code",
   "execution_count": null,
   "metadata": {
    "pycharm": {
     "name": "#%%\n"
    }
   },
   "outputs": [],
   "source": [
    "new_df.to_csv('./preprocessing_data.csv')\n"
   ]
  },
  {
   "cell_type": "code",
   "execution_count": null,
   "metadata": {},
   "outputs": [],
   "source": []
  }
 ],
 "metadata": {
  "kernelspec": {
   "display_name": "Python 3 (ipykernel)",
   "language": "python",
   "name": "python3"
  },
  "language_info": {
   "codemirror_mode": {
    "name": "ipython",
    "version": 3
   },
   "file_extension": ".py",
   "mimetype": "text/x-python",
   "name": "python",
   "nbconvert_exporter": "python",
   "pygments_lexer": "ipython3",
   "version": "3.9.6"
  }
 },
 "nbformat": 4,
 "nbformat_minor": 1
}
