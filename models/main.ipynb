{
 "cells": [
  {
   "cell_type": "code",
   "execution_count": 8,
   "outputs": [
    {
     "name": "stdout",
     "output_type": "stream",
     "text": [
      "1\n"
     ]
    }
   ],
   "source": [
    "import tensorflow\n",
    "\n",
    "\n",
    "\n",
    "print(1)"
   ],
   "metadata": {
    "collapsed": false,
    "pycharm": {
     "name": "#%%\n"
    }
   }
  },
  {
   "cell_type": "code",
   "execution_count": 9,
   "metadata": {
    "collapsed": true
   },
   "outputs": [
    {
     "data": {
      "text/plain": "     OidColumn AddedOnDate                Mac      RadarId Face  AdmTypeBit  \\\n0  40457528101  2021-04-01  DA:A1:19:9D:FE:88  10.154.0.67    A           0   \n1  40457528219  2021-04-01  DA:A1:19:9D:FE:88  10.154.0.67    A           0   \n2  40457537852  2021-04-01  00:08:22:88:F9:FB  10.154.0.67    A           0   \n3  40457541118  2021-04-01  DA:A1:19:90:D2:4F  10.154.0.67    A           0   \n4  40457541121  2021-04-01  DA:A1:19:DF:47:FB  10.154.0.67    A           0   \n5  40457541125  2021-04-01  DA:A1:19:F5:26:DA  10.154.0.67    A           0   \n6  40457541230  2021-04-01  DA:A1:19:F5:26:DA  10.154.0.67    A           0   \n7  40457541235  2021-04-01  00:08:22:88:F9:FB  10.154.0.67    A           0   \n8  40457548641  2021-04-01  68:4A:AE:84:0B:A0  10.154.0.67    A           0   \n9  40457565186  2021-04-01  DA:A1:19:0C:EE:5C  10.154.0.67    A           0   \n\n     AddedOnTick    FrameOid  \n0  1617239702590  6607247731  \n1  1617239702670  6607247731  \n2  1617239705217  6607247712  \n3  1617239704933  6607247712  \n4  1617239704933  6607247712  \n5  1617239704933  6607247712  \n6  1617239705043  6607247712  \n7  1617239705153  6607247712  \n8  1617239706013  6607247712  \n9  1617239707637  6607247712  ",
      "text/html": "<div>\n<style scoped>\n    .dataframe tbody tr th:only-of-type {\n        vertical-align: middle;\n    }\n\n    .dataframe tbody tr th {\n        vertical-align: top;\n    }\n\n    .dataframe thead th {\n        text-align: right;\n    }\n</style>\n<table border=\"1\" class=\"dataframe\">\n  <thead>\n    <tr style=\"text-align: right;\">\n      <th></th>\n      <th>OidColumn</th>\n      <th>AddedOnDate</th>\n      <th>Mac</th>\n      <th>RadarId</th>\n      <th>Face</th>\n      <th>AdmTypeBit</th>\n      <th>AddedOnTick</th>\n      <th>FrameOid</th>\n    </tr>\n  </thead>\n  <tbody>\n    <tr>\n      <th>0</th>\n      <td>40457528101</td>\n      <td>2021-04-01</td>\n      <td>DA:A1:19:9D:FE:88</td>\n      <td>10.154.0.67</td>\n      <td>A</td>\n      <td>0</td>\n      <td>1617239702590</td>\n      <td>6607247731</td>\n    </tr>\n    <tr>\n      <th>1</th>\n      <td>40457528219</td>\n      <td>2021-04-01</td>\n      <td>DA:A1:19:9D:FE:88</td>\n      <td>10.154.0.67</td>\n      <td>A</td>\n      <td>0</td>\n      <td>1617239702670</td>\n      <td>6607247731</td>\n    </tr>\n    <tr>\n      <th>2</th>\n      <td>40457537852</td>\n      <td>2021-04-01</td>\n      <td>00:08:22:88:F9:FB</td>\n      <td>10.154.0.67</td>\n      <td>A</td>\n      <td>0</td>\n      <td>1617239705217</td>\n      <td>6607247712</td>\n    </tr>\n    <tr>\n      <th>3</th>\n      <td>40457541118</td>\n      <td>2021-04-01</td>\n      <td>DA:A1:19:90:D2:4F</td>\n      <td>10.154.0.67</td>\n      <td>A</td>\n      <td>0</td>\n      <td>1617239704933</td>\n      <td>6607247712</td>\n    </tr>\n    <tr>\n      <th>4</th>\n      <td>40457541121</td>\n      <td>2021-04-01</td>\n      <td>DA:A1:19:DF:47:FB</td>\n      <td>10.154.0.67</td>\n      <td>A</td>\n      <td>0</td>\n      <td>1617239704933</td>\n      <td>6607247712</td>\n    </tr>\n    <tr>\n      <th>5</th>\n      <td>40457541125</td>\n      <td>2021-04-01</td>\n      <td>DA:A1:19:F5:26:DA</td>\n      <td>10.154.0.67</td>\n      <td>A</td>\n      <td>0</td>\n      <td>1617239704933</td>\n      <td>6607247712</td>\n    </tr>\n    <tr>\n      <th>6</th>\n      <td>40457541230</td>\n      <td>2021-04-01</td>\n      <td>DA:A1:19:F5:26:DA</td>\n      <td>10.154.0.67</td>\n      <td>A</td>\n      <td>0</td>\n      <td>1617239705043</td>\n      <td>6607247712</td>\n    </tr>\n    <tr>\n      <th>7</th>\n      <td>40457541235</td>\n      <td>2021-04-01</td>\n      <td>00:08:22:88:F9:FB</td>\n      <td>10.154.0.67</td>\n      <td>A</td>\n      <td>0</td>\n      <td>1617239705153</td>\n      <td>6607247712</td>\n    </tr>\n    <tr>\n      <th>8</th>\n      <td>40457548641</td>\n      <td>2021-04-01</td>\n      <td>68:4A:AE:84:0B:A0</td>\n      <td>10.154.0.67</td>\n      <td>A</td>\n      <td>0</td>\n      <td>1617239706013</td>\n      <td>6607247712</td>\n    </tr>\n    <tr>\n      <th>9</th>\n      <td>40457565186</td>\n      <td>2021-04-01</td>\n      <td>DA:A1:19:0C:EE:5C</td>\n      <td>10.154.0.67</td>\n      <td>A</td>\n      <td>0</td>\n      <td>1617239707637</td>\n      <td>6607247712</td>\n    </tr>\n  </tbody>\n</table>\n</div>"
     },
     "execution_count": 9,
     "metadata": {},
     "output_type": "execute_result"
    }
   ],
   "source": [
    "import pandas as pd\n",
    "\n",
    "a = tensorflow.keras\n",
    "# path1 = '//root/data/RowData/crowd/player=257/'\n",
    "path1 = '////home/toliman/Desktop/257-2021-4-crowd.parquet'\n",
    "\n",
    "data1 = pd.read_parquet(path1)\n",
    "\n",
    "# data2 = pd.read_parquet(path2)\n",
    "# print(data.columns)\n",
    "\n",
    "data1.head(10)"
   ]
  },
  {
   "cell_type": "code",
   "execution_count": 10,
   "outputs": [],
   "source": [
    "# data2.head(10)"
   ],
   "metadata": {
    "collapsed": false,
    "pycharm": {
     "name": "#%%\n"
    }
   }
  },
  {
   "cell_type": "code",
   "execution_count": 11,
   "outputs": [
    {
     "data": {
      "text/plain": "(12553577, 8)"
     },
     "execution_count": 11,
     "metadata": {},
     "output_type": "execute_result"
    }
   ],
   "source": [
    "data1.shape"
   ],
   "metadata": {
    "collapsed": false,
    "pycharm": {
     "name": "#%%\n"
    }
   }
  },
  {
   "cell_type": "code",
   "execution_count": 12,
   "outputs": [],
   "source": [
    "# data2.shape"
   ],
   "metadata": {
    "collapsed": false,
    "pycharm": {
     "name": "#%%\n"
    }
   }
  },
  {
   "cell_type": "code",
   "execution_count": 13,
   "outputs": [
    {
     "data": {
      "text/plain": "         OidColumn AddedOnDate                Mac      RadarId Face  \\\n45393  40461367589  2021-04-01  0C:96:E6:73:4D:2B  10.154.0.67    A   \n45403  40461376752  2021-04-01  DC:89:83:71:B4:C5  10.154.0.67    A   \n45404  40461376809  2021-04-01  0C:96:E6:73:4D:2B  10.154.0.67    A   \n45405  40461376861  2021-04-01  DC:89:83:71:B4:C5  10.154.0.67    A   \n45406  40461376921  2021-04-01  DC:89:83:71:B4:C5  10.154.0.67    A   \n45407  40461377037  2021-04-01  68:4A:AE:84:05:40  10.154.0.67    A   \n45408  40461377066  2021-04-01  DC:89:83:71:B4:C5  10.154.0.67    A   \n45409  40461377442  2021-04-01  DA:A1:19:29:BE:DC  10.154.0.67    A   \n45410  40461377617  2021-04-01  1A:9A:D6:09:7A:A8  10.154.0.67    A   \n45557  40461382938  2021-04-01  0C:96:E6:73:4D:2B  10.154.0.67    A   \n45559  40461386693  2021-04-01  DC:89:83:71:B4:C5  10.154.0.67    A   \n45560  40461386694  2021-04-01  DC:89:83:71:B4:C5  10.154.0.67    A   \n45561  40461386796  2021-04-01  DC:89:83:71:B4:C5  10.154.0.67    A   \n45562  40461386847  2021-04-01  DC:89:83:71:B4:C5  10.154.0.67    A   \n45563  40461386915  2021-04-01  DC:89:83:71:B4:C5  10.154.0.67    A   \n45564  40461386969  2021-04-01  0C:96:E6:73:4D:2B  10.154.0.67    A   \n45565  40461387083  2021-04-01  86:DF:91:1A:A1:74  10.154.0.67    A   \n45566  40461387111  2021-04-01  DC:89:83:71:B4:C5  10.154.0.67    A   \n45567  40461387164  2021-04-01  DC:89:83:71:B4:C5  10.154.0.67    A   \n47606  40461395045  2021-04-01  DA:A1:19:29:BE:DC  10.154.0.67    A   \n47607  40461403944  2021-04-01  DA:A1:19:29:BE:DC  10.154.0.67    A   \n47608  40461404085  2021-04-01  DA:A1:19:29:BE:DC  10.154.0.67    A   \n47609  40461404374  2021-04-01  68:4A:AE:84:0A:A0  10.154.0.67    A   \n47610  40461404432  2021-04-01  4E:0D:CF:CB:7E:59  10.154.0.67    A   \n47611  40461404799  2021-04-01  AE:29:6A:BC:A7:79  10.154.0.67    A   \n47617  40461411977  2021-04-01  DA:A1:19:0F:09:BD  10.154.0.67    A   \n47618  40461412085  2021-04-01  00:1E:43:9F:99:03  10.154.0.67    A   \n47619  40461412171  2021-04-01  00:1E:43:9F:99:03  10.154.0.67    A   \n47620  40461415561  2021-04-01  50:B7:C3:48:1B:A3  10.154.0.67    A   \n\n       AdmTypeBit    AddedOnTick    FrameOid  \n45393           0  1617242393413  6607238332  \n45403           0  1617242393413  6607238332  \n45404           0  1617242393507  6607238332  \n45405           0  1617242393507  6607238332  \n45406           0  1617242393570  6607238332  \n45407           0  1617242393727  6607238332  \n45408           0  1617242393727  6607238332  \n45409           0  1617242394303  6607238332  \n45410           1  1617242394790  6607238332  \n45557           0  1617242393227  6607238332  \n45559           0  1617242393163  6607238332  \n45560           0  1617242393163  6607238332  \n45561           0  1617242393210  6607238332  \n45562           0  1617242393227  6607238332  \n45563           0  1617242393227  6607238332  \n45564           0  1617242393400  6607238332  \n45565           1  1617242393350  6607238332  \n45566           0  1617242393350  6607238332  \n45567           0  1617242393273  6607238332  \n47606           0  1617242394837  6607238332  \n47607           0  1617242394837  6607238332  \n47608           0  1617242394837  6607238332  \n47609           0  1617242395197  6607238332  \n47610           1  1617242395257  6607238332  \n47611           1  1617242396477  6607238332  \n47617           0  1617242397243  6607238332  \n47618           0  1617242397337  6607238332  \n47619           0  1617242397413  6607238332  \n47620           0  1617242397993  6607238332  ",
      "text/html": "<div>\n<style scoped>\n    .dataframe tbody tr th:only-of-type {\n        vertical-align: middle;\n    }\n\n    .dataframe tbody tr th {\n        vertical-align: top;\n    }\n\n    .dataframe thead th {\n        text-align: right;\n    }\n</style>\n<table border=\"1\" class=\"dataframe\">\n  <thead>\n    <tr style=\"text-align: right;\">\n      <th></th>\n      <th>OidColumn</th>\n      <th>AddedOnDate</th>\n      <th>Mac</th>\n      <th>RadarId</th>\n      <th>Face</th>\n      <th>AdmTypeBit</th>\n      <th>AddedOnTick</th>\n      <th>FrameOid</th>\n    </tr>\n  </thead>\n  <tbody>\n    <tr>\n      <th>45393</th>\n      <td>40461367589</td>\n      <td>2021-04-01</td>\n      <td>0C:96:E6:73:4D:2B</td>\n      <td>10.154.0.67</td>\n      <td>A</td>\n      <td>0</td>\n      <td>1617242393413</td>\n      <td>6607238332</td>\n    </tr>\n    <tr>\n      <th>45403</th>\n      <td>40461376752</td>\n      <td>2021-04-01</td>\n      <td>DC:89:83:71:B4:C5</td>\n      <td>10.154.0.67</td>\n      <td>A</td>\n      <td>0</td>\n      <td>1617242393413</td>\n      <td>6607238332</td>\n    </tr>\n    <tr>\n      <th>45404</th>\n      <td>40461376809</td>\n      <td>2021-04-01</td>\n      <td>0C:96:E6:73:4D:2B</td>\n      <td>10.154.0.67</td>\n      <td>A</td>\n      <td>0</td>\n      <td>1617242393507</td>\n      <td>6607238332</td>\n    </tr>\n    <tr>\n      <th>45405</th>\n      <td>40461376861</td>\n      <td>2021-04-01</td>\n      <td>DC:89:83:71:B4:C5</td>\n      <td>10.154.0.67</td>\n      <td>A</td>\n      <td>0</td>\n      <td>1617242393507</td>\n      <td>6607238332</td>\n    </tr>\n    <tr>\n      <th>45406</th>\n      <td>40461376921</td>\n      <td>2021-04-01</td>\n      <td>DC:89:83:71:B4:C5</td>\n      <td>10.154.0.67</td>\n      <td>A</td>\n      <td>0</td>\n      <td>1617242393570</td>\n      <td>6607238332</td>\n    </tr>\n    <tr>\n      <th>45407</th>\n      <td>40461377037</td>\n      <td>2021-04-01</td>\n      <td>68:4A:AE:84:05:40</td>\n      <td>10.154.0.67</td>\n      <td>A</td>\n      <td>0</td>\n      <td>1617242393727</td>\n      <td>6607238332</td>\n    </tr>\n    <tr>\n      <th>45408</th>\n      <td>40461377066</td>\n      <td>2021-04-01</td>\n      <td>DC:89:83:71:B4:C5</td>\n      <td>10.154.0.67</td>\n      <td>A</td>\n      <td>0</td>\n      <td>1617242393727</td>\n      <td>6607238332</td>\n    </tr>\n    <tr>\n      <th>45409</th>\n      <td>40461377442</td>\n      <td>2021-04-01</td>\n      <td>DA:A1:19:29:BE:DC</td>\n      <td>10.154.0.67</td>\n      <td>A</td>\n      <td>0</td>\n      <td>1617242394303</td>\n      <td>6607238332</td>\n    </tr>\n    <tr>\n      <th>45410</th>\n      <td>40461377617</td>\n      <td>2021-04-01</td>\n      <td>1A:9A:D6:09:7A:A8</td>\n      <td>10.154.0.67</td>\n      <td>A</td>\n      <td>1</td>\n      <td>1617242394790</td>\n      <td>6607238332</td>\n    </tr>\n    <tr>\n      <th>45557</th>\n      <td>40461382938</td>\n      <td>2021-04-01</td>\n      <td>0C:96:E6:73:4D:2B</td>\n      <td>10.154.0.67</td>\n      <td>A</td>\n      <td>0</td>\n      <td>1617242393227</td>\n      <td>6607238332</td>\n    </tr>\n    <tr>\n      <th>45559</th>\n      <td>40461386693</td>\n      <td>2021-04-01</td>\n      <td>DC:89:83:71:B4:C5</td>\n      <td>10.154.0.67</td>\n      <td>A</td>\n      <td>0</td>\n      <td>1617242393163</td>\n      <td>6607238332</td>\n    </tr>\n    <tr>\n      <th>45560</th>\n      <td>40461386694</td>\n      <td>2021-04-01</td>\n      <td>DC:89:83:71:B4:C5</td>\n      <td>10.154.0.67</td>\n      <td>A</td>\n      <td>0</td>\n      <td>1617242393163</td>\n      <td>6607238332</td>\n    </tr>\n    <tr>\n      <th>45561</th>\n      <td>40461386796</td>\n      <td>2021-04-01</td>\n      <td>DC:89:83:71:B4:C5</td>\n      <td>10.154.0.67</td>\n      <td>A</td>\n      <td>0</td>\n      <td>1617242393210</td>\n      <td>6607238332</td>\n    </tr>\n    <tr>\n      <th>45562</th>\n      <td>40461386847</td>\n      <td>2021-04-01</td>\n      <td>DC:89:83:71:B4:C5</td>\n      <td>10.154.0.67</td>\n      <td>A</td>\n      <td>0</td>\n      <td>1617242393227</td>\n      <td>6607238332</td>\n    </tr>\n    <tr>\n      <th>45563</th>\n      <td>40461386915</td>\n      <td>2021-04-01</td>\n      <td>DC:89:83:71:B4:C5</td>\n      <td>10.154.0.67</td>\n      <td>A</td>\n      <td>0</td>\n      <td>1617242393227</td>\n      <td>6607238332</td>\n    </tr>\n    <tr>\n      <th>45564</th>\n      <td>40461386969</td>\n      <td>2021-04-01</td>\n      <td>0C:96:E6:73:4D:2B</td>\n      <td>10.154.0.67</td>\n      <td>A</td>\n      <td>0</td>\n      <td>1617242393400</td>\n      <td>6607238332</td>\n    </tr>\n    <tr>\n      <th>45565</th>\n      <td>40461387083</td>\n      <td>2021-04-01</td>\n      <td>86:DF:91:1A:A1:74</td>\n      <td>10.154.0.67</td>\n      <td>A</td>\n      <td>1</td>\n      <td>1617242393350</td>\n      <td>6607238332</td>\n    </tr>\n    <tr>\n      <th>45566</th>\n      <td>40461387111</td>\n      <td>2021-04-01</td>\n      <td>DC:89:83:71:B4:C5</td>\n      <td>10.154.0.67</td>\n      <td>A</td>\n      <td>0</td>\n      <td>1617242393350</td>\n      <td>6607238332</td>\n    </tr>\n    <tr>\n      <th>45567</th>\n      <td>40461387164</td>\n      <td>2021-04-01</td>\n      <td>DC:89:83:71:B4:C5</td>\n      <td>10.154.0.67</td>\n      <td>A</td>\n      <td>0</td>\n      <td>1617242393273</td>\n      <td>6607238332</td>\n    </tr>\n    <tr>\n      <th>47606</th>\n      <td>40461395045</td>\n      <td>2021-04-01</td>\n      <td>DA:A1:19:29:BE:DC</td>\n      <td>10.154.0.67</td>\n      <td>A</td>\n      <td>0</td>\n      <td>1617242394837</td>\n      <td>6607238332</td>\n    </tr>\n    <tr>\n      <th>47607</th>\n      <td>40461403944</td>\n      <td>2021-04-01</td>\n      <td>DA:A1:19:29:BE:DC</td>\n      <td>10.154.0.67</td>\n      <td>A</td>\n      <td>0</td>\n      <td>1617242394837</td>\n      <td>6607238332</td>\n    </tr>\n    <tr>\n      <th>47608</th>\n      <td>40461404085</td>\n      <td>2021-04-01</td>\n      <td>DA:A1:19:29:BE:DC</td>\n      <td>10.154.0.67</td>\n      <td>A</td>\n      <td>0</td>\n      <td>1617242394837</td>\n      <td>6607238332</td>\n    </tr>\n    <tr>\n      <th>47609</th>\n      <td>40461404374</td>\n      <td>2021-04-01</td>\n      <td>68:4A:AE:84:0A:A0</td>\n      <td>10.154.0.67</td>\n      <td>A</td>\n      <td>0</td>\n      <td>1617242395197</td>\n      <td>6607238332</td>\n    </tr>\n    <tr>\n      <th>47610</th>\n      <td>40461404432</td>\n      <td>2021-04-01</td>\n      <td>4E:0D:CF:CB:7E:59</td>\n      <td>10.154.0.67</td>\n      <td>A</td>\n      <td>1</td>\n      <td>1617242395257</td>\n      <td>6607238332</td>\n    </tr>\n    <tr>\n      <th>47611</th>\n      <td>40461404799</td>\n      <td>2021-04-01</td>\n      <td>AE:29:6A:BC:A7:79</td>\n      <td>10.154.0.67</td>\n      <td>A</td>\n      <td>1</td>\n      <td>1617242396477</td>\n      <td>6607238332</td>\n    </tr>\n    <tr>\n      <th>47617</th>\n      <td>40461411977</td>\n      <td>2021-04-01</td>\n      <td>DA:A1:19:0F:09:BD</td>\n      <td>10.154.0.67</td>\n      <td>A</td>\n      <td>0</td>\n      <td>1617242397243</td>\n      <td>6607238332</td>\n    </tr>\n    <tr>\n      <th>47618</th>\n      <td>40461412085</td>\n      <td>2021-04-01</td>\n      <td>00:1E:43:9F:99:03</td>\n      <td>10.154.0.67</td>\n      <td>A</td>\n      <td>0</td>\n      <td>1617242397337</td>\n      <td>6607238332</td>\n    </tr>\n    <tr>\n      <th>47619</th>\n      <td>40461412171</td>\n      <td>2021-04-01</td>\n      <td>00:1E:43:9F:99:03</td>\n      <td>10.154.0.67</td>\n      <td>A</td>\n      <td>0</td>\n      <td>1617242397413</td>\n      <td>6607238332</td>\n    </tr>\n    <tr>\n      <th>47620</th>\n      <td>40461415561</td>\n      <td>2021-04-01</td>\n      <td>50:B7:C3:48:1B:A3</td>\n      <td>10.154.0.67</td>\n      <td>A</td>\n      <td>0</td>\n      <td>1617242397993</td>\n      <td>6607238332</td>\n    </tr>\n  </tbody>\n</table>\n</div>"
     },
     "execution_count": 13,
     "metadata": {},
     "output_type": "execute_result"
    }
   ],
   "source": [
    "# data1['Face'].unique()\n",
    "\n",
    "data1[data1['FrameOid'] == \"6607238332\"]"
   ],
   "metadata": {
    "collapsed": false,
    "pycharm": {
     "name": "#%%\n"
    }
   }
  }
 ],
 "metadata": {
  "kernelspec": {
   "name": "pycharm-673d1fc2",
   "language": "python",
   "display_name": "PyCharm (LeadersOfDigitalGallery)"
  },
  "language_info": {
   "codemirror_mode": {
    "name": "ipython",
    "version": 2
   },
   "file_extension": ".py",
   "mimetype": "text/x-python",
   "name": "python",
   "nbconvert_exporter": "python",
   "pygments_lexer": "ipython2",
   "version": "2.7.6"
  }
 },
 "nbformat": 4,
 "nbformat_minor": 0
}