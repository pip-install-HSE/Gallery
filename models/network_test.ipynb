{
 "cells": [
  {
   "cell_type": "code",
   "execution_count": 1,
   "metadata": {
    "collapsed": true
   },
   "outputs": [
    {
     "name": "stderr",
     "output_type": "stream",
     "text": [
      "2021-08-22 01:28:04.154290: W tensorflow/stream_executor/platform/default/dso_loader.cc:64] Could not load dynamic library 'libcudart.so.11.0'; dlerror: libcudart.so.11.0: cannot open shared object file: No such file or directory\n",
      "2021-08-22 01:28:04.154310: I tensorflow/stream_executor/cuda/cudart_stub.cc:29] Ignore above cudart dlerror if you do not have a GPU set up on your machine.\n"
     ]
    }
   ],
   "source": [
    "from tensorflow.keras import models\n",
    "import numpy as np"
   ]
  },
  {
   "cell_type": "code",
   "execution_count": 2,
   "outputs": [
    {
     "name": "stderr",
     "output_type": "stream",
     "text": [
      "2021-08-22 01:28:04.956281: W tensorflow/stream_executor/platform/default/dso_loader.cc:64] Could not load dynamic library 'libcuda.so.1'; dlerror: libcuda.so.1: cannot open shared object file: No such file or directory\n",
      "2021-08-22 01:28:04.956300: W tensorflow/stream_executor/cuda/cuda_driver.cc:326] failed call to cuInit: UNKNOWN ERROR (303)\n",
      "2021-08-22 01:28:04.956318: I tensorflow/stream_executor/cuda/cuda_diagnostics.cc:156] kernel driver does not appear to be running on this host (toliman): /proc/driver/nvidia/version does not exist\n",
      "2021-08-22 01:28:04.956457: I tensorflow/core/platform/cpu_feature_guard.cc:142] This TensorFlow binary is optimized with oneAPI Deep Neural Network Library (oneDNN) to use the following CPU instructions in performance-critical operations:  AVX2 FMA\n",
      "To enable them in other operations, rebuild TensorFlow with the appropriate compiler flags.\n"
     ]
    }
   ],
   "source": [
    "network = models.load_model('billyboard.v3.h5')"
   ],
   "metadata": {
    "collapsed": false,
    "pycharm": {
     "name": "#%%\n"
    }
   }
  },
  {
   "cell_type": "code",
   "execution_count": 3,
   "outputs": [],
   "source": [
    "train_x = np.load('/home/toliman/Desktop/train_x.npy')\n",
    "train_y = np.load('/home/toliman/Desktop/train_y.npy')\n",
    "targets = np.load('/home/toliman/Desktop/targets.npy')"
   ],
   "metadata": {
    "collapsed": false,
    "pycharm": {
     "name": "#%%\n"
    }
   }
  },
  {
   "cell_type": "code",
   "execution_count": 4,
   "outputs": [
    {
     "name": "stdout",
     "output_type": "stream",
     "text": [
      "[(array([0.41817382], dtype=float32), 0.37934694387213586), (array([0.2853173], dtype=float32), 0.3143534994068802), (array([0.12553515], dtype=float32), 0.1421614534557033), (array([0.32473308], dtype=float32), 0.33208466004869824), (array([0.3185744], dtype=float32), 0.3054254854217394), (array([0.3679061], dtype=float32), 0.3292127114940376), (array([0.00130954], dtype=float32), 0.0), (array([0.2363097], dtype=float32), 0.18780046200911532), (array([0.14996931], dtype=float32), 0.15496035462321284), (array([0.08257963], dtype=float32), 0.08172566647936567), (array([0.31230548], dtype=float32), 0.3513142286320784), (array([0.00116764], dtype=float32), 0.0), (array([0.11642564], dtype=float32), 0.10538802522320034), (array([0.1576756], dtype=float32), 0.174189923206593), (array([0.24261028], dtype=float32), 0.2652806393207217), (array([0.231714], dtype=float32), 0.2215770743584941), (array([0.4101919], dtype=float32), 0.43616157832303176), (array([0.4387381], dtype=float32), 0.40600611849909474), (array([0.12967074], dtype=float32), 0.13697945932446776), (array([0.38560668], dtype=float32), 0.42904414060061186), (array([0.41200638], dtype=float32), 0.49360054941624526), (array([0.4669285], dtype=float32), 0.7103077979646626), (array([0.34413293], dtype=float32), 0.3264656302678404), (array([0.1100065], dtype=float32), 0.1061372291939814), (array([0.00164814], dtype=float32), 0.0), (array([0.13374963], dtype=float32), 0.14209901979147155), (array([0.15034848], dtype=float32), 0.1311106948866829), (array([0.2284584], dtype=float32), 0.2537304114378473), (array([0.34029886], dtype=float32), 0.3128550914653181), (array([0.10229962], dtype=float32), 0.09889492414309796), (array([0.10368534], dtype=float32), 0.10301554598239371), (array([0.39023653], dtype=float32), 0.3030530061809328), (array([0.22974494], dtype=float32), 0.23643628644565148), (array([0.45765737], dtype=float32), 0.4415308734469626), (array([0.13443743], dtype=float32), 0.1542111506524318), (array([0.32963154], dtype=float32), 0.3190984578884935), (array([0.28688553], dtype=float32), 0.3626771555222576), (array([0.10990293], dtype=float32), 0.08771929824561403), (array([0.49536636], dtype=float32), 0.4884809889492414), (array([0.20548809], dtype=float32), 0.24636323905850036), (array([0.16117926], dtype=float32), 0.17225447961540863), (array([0.10887323], dtype=float32), 0.11725042142723356), (array([0.18661535], dtype=float32), 0.18392957482674657), (array([0.21400684], dtype=float32), 0.22107760504464008), (array([0.42828813], dtype=float32), 0.44165574077542613), (array([0.42552966], dtype=float32), 0.48279952550415184), (array([0.11900747], dtype=float32), 0.12286945120809141), (array([0.40152144], dtype=float32), 0.40937753636760943), (array([0.00147648], dtype=float32), 0.0), (array([0.31720063], dtype=float32), 0.1793094836735968), (array([0.23668922], dtype=float32), 0.17169257663732285), (array([0.08887755], dtype=float32), 0.09265155771992258), (array([0.43838736], dtype=float32), 0.415308734469626), (array([0.4245832], dtype=float32), 0.5365549104076919), (array([0.08046777], dtype=float32), 0.0887182368733221), (array([0.27925915], dtype=float32), 0.26309546107261034), (array([0.4325673], dtype=float32), 0.47568208778173193), (array([0.15353984], dtype=float32), 0.15533495660860336), (array([0.3780855], dtype=float32), 0.32871324218018355), (array([0.36040226], dtype=float32), 0.31279265780108634), (array([0.3640881], dtype=float32), 0.32640319660360867), (array([0.09040616], dtype=float32), 0.0), (array([0.10268369], dtype=float32), 0.0914028844352875), (array([0.0946002], dtype=float32), 0.08915527252294438), (array([0.10013466], dtype=float32), 0.13485671474058814), (array([0.37914312], dtype=float32), 0.4046325778859961), (array([0.34713528], dtype=float32), 0.38153212212024723), (array([0.1968226], dtype=float32), 0.1867390897171755), (array([0.3632481], dtype=float32), 0.2988075170131735), (array([0.29297417], dtype=float32), 0.16875819441843043), (array([0.36635864], dtype=float32), 0.33982643441343574), (array([0.09460022], dtype=float32), 0.10220390834738091), (array([0.00127789], dtype=float32), 0.0), (array([0.3377211], dtype=float32), 0.2257601298620216), (array([0.35670075], dtype=float32), 0.40388337391521506), (array([0.14461152], dtype=float32), 0.161765624024474), (array([0.4054479], dtype=float32), 0.39208341137541364), (array([0.28180045], dtype=float32), 0.22944371605169508), (array([0.23902124], dtype=float32), 0.2715240057438971), (array([0.09124611], dtype=float32), 0.06761565836298933), (array([0.2640049], dtype=float32), 0.23081725666479366), (array([0.1212991], dtype=float32), 0.1302990572516701), (array([0.3980452], dtype=float32), 0.4244240494474621), (array([0.06379394], dtype=float32), 0.08091402884435288), (array([0.31824872], dtype=float32), 0.27739277018168196), (array([0.0027009], dtype=float32), 0.0), (array([0.11955449], dtype=float32), 0.09596054192420553), (array([0.15115517], dtype=float32), 0.10232877567584442), (array([0.27420214], dtype=float32), 0.29443716051695074), (array([0.30636784], dtype=float32), 0.2671536492476743), (array([0.10898934], dtype=float32), 0.10900917774864206), (array([0.23184523], dtype=float32), 0.20571892364362865), (array([0.11182006], dtype=float32), 0.11718798776300181), (array([0.20885746], dtype=float32), 0.24536430043079227), (array([0.31440574], dtype=float32), 0.31035774489604795), (array([0.2939816], dtype=float32), 0.33114815508522194), (array([0.22152053], dtype=float32), 0.2828244989698445), (array([0.30759296], dtype=float32), 0.2589748392333146), (array([0.13280986], dtype=float32), 0.12580383342698384), (array([0.3116992], dtype=float32), 0.3021165012174565)]\n"
     ]
    },
    {
     "name": "stderr",
     "output_type": "stream",
     "text": [
      "2021-08-22 01:28:05.458844: I tensorflow/compiler/mlir/mlir_graph_optimization_pass.cc:176] None of the MLIR Optimization Passes are enabled (registered 2)\n",
      "2021-08-22 01:28:05.459346: I tensorflow/core/platform/profile_utils/cpu_utils.cc:114] CPU Frequency: 2599990000 Hz\n"
     ]
    }
   ],
   "source": [
    "x = np.random.choice(train_x.shape[0], 100, replace=False)\n",
    "\n",
    "pred = network.predict(train_x[x])\n",
    "\n",
    "ar = train_y[x]\n",
    "\n",
    "print(list(zip(pred, ar)))"
   ],
   "metadata": {
    "collapsed": false,
    "pycharm": {
     "name": "#%%\n"
    }
   }
  }
 ],
 "metadata": {
  "kernelspec": {
   "display_name": "Python 3",
   "language": "python",
   "name": "python3"
  },
  "language_info": {
   "codemirror_mode": {
    "name": "ipython",
    "version": 2
   },
   "file_extension": ".py",
   "mimetype": "text/x-python",
   "name": "python",
   "nbconvert_exporter": "python",
   "pygments_lexer": "ipython2",
   "version": "2.7.6"
  }
 },
 "nbformat": 4,
 "nbformat_minor": 0
}