{
 "cells": [
  {
   "cell_type": "code",
   "execution_count": 66,
   "metadata": {
    "collapsed": true
   },
   "outputs": [],
   "source": [
    "import pandas as pd\n",
    "import pyarrow.parquet as pq\n",
    "import datetime"
   ]
  },
  {
   "cell_type": "code",
   "execution_count": 67,
   "outputs": [],
   "source": [
    "df = pq.read_table(source=\"/home/toliman/Desktop/257-2021-4-player-log.parquet\").to_pandas()"
   ],
   "metadata": {
    "collapsed": false,
    "pycharm": {
     "name": "#%%\n"
    }
   }
  },
  {
   "cell_type": "code",
   "execution_count": 68,
   "outputs": [
    {
     "name": "stdout",
     "output_type": "stream",
     "text": [
      "(516739, 14)\n"
     ]
    }
   ],
   "source": [
    "print(df.shape)\n",
    "new_df = pd.DataFrame(columns=('month', 'week_day', 'half_hour', 'efficiency', 'unix', 'views'), )"
   ],
   "metadata": {
    "collapsed": false,
    "pycharm": {
     "name": "#%%\n"
    }
   }
  },
  {
   "cell_type": "code",
   "execution_count": 69,
   "outputs": [
    {
     "name": "stdout",
     "output_type": "stream",
     "text": [
      "0\n"
     ]
    }
   ],
   "source": [
    "for i in range(df.shape[0]):\n",
    "    if (i % 1000 == 0):\n",
    "        print(i // 1000)\n",
    "    obj = df.loc[i]\n",
    "    in_t = datetime.datetime.fromtimestamp(obj['DateTimeInTick'] / 1000)\n",
    "    out_t = datetime.datetime.fromtimestamp(obj['DateTimeOutTick'] / 1000)\n",
    "    month_1 = in_t.month\n",
    "    month_2 = out_t.month\n",
    "    weekday_1 = in_t.weekday()\n",
    "    weekday_2 = out_t.weekday()\n",
    "    halfhour_1 = 2 * in_t.hour + 1 + int(in_t.minute >= 30)\n",
    "    halfhour_2 = 2 * in_t.hour + 1 + int(in_t.minute >= 30)\n",
    "    efficiency = obj['MacCountAll'] / obj['Duration']\n",
    "\n",
    "    new_df = new_df.append({'month': month_1, 'week_day': weekday_1, 'half_hour': halfhour_1, 'efficiency': efficiency,\n",
    "                            'unix': obj['DateTimeOutTick'], 'views': int(obj['MacCountAll'])},\n",
    "                           ignore_index=True)\n",
    "\n",
    "    if month_1 != month_2 or weekday_1 != weekday_2 or halfhour_1 != halfhour_2:\n",
    "        new_df = new_df.append(\n",
    "            {'month': month_2, 'week_day': weekday_2, 'half_hour': halfhour_2, 'efficiency': efficiency,\n",
    "             'unix': obj['DateTimeOutTick'], 'views': int(obj['MacCountAll'])},\n",
    "            ignore_index=True)\n"
   ],
   "metadata": {
    "collapsed": false,
    "pycharm": {
     "name": "#%%\n"
    }
   }
  },
  {
   "cell_type": "code",
   "execution_count": 70,
   "outputs": [
    {
     "data": {
      "text/plain": "(500, 6)"
     },
     "execution_count": 70,
     "metadata": {},
     "output_type": "execute_result"
    }
   ],
   "source": [
    "new_df.shape"
   ],
   "metadata": {
    "collapsed": false,
    "pycharm": {
     "name": "#%%\n"
    }
   }
  },
  {
   "cell_type": "code",
   "execution_count": 71,
   "outputs": [
    {
     "data": {
      "text/plain": "    month week_day half_hour efficiency           unix views\n0       4        3        10        2.4  1617242398103    12\n1       4        3        10        2.2  1617242393097    11\n2       4        3        10        2.8  1617242388097    14\n3       4        3        10        2.6  1617242383087    13\n4       4        3        10        3.4  1617242378073    17\n..    ...      ...       ...        ...            ...   ...\n495     4        3         9        2.6  1617240149763    13\n496     4        3         9        2.6  1617240144760    13\n497     4        3         9        1.8  1617240139750     9\n498     4        3         9          2  1617240134737    10\n499     4        3         9        3.4  1617240129737    17\n\n[500 rows x 6 columns]",
      "text/html": "<div>\n<style scoped>\n    .dataframe tbody tr th:only-of-type {\n        vertical-align: middle;\n    }\n\n    .dataframe tbody tr th {\n        vertical-align: top;\n    }\n\n    .dataframe thead th {\n        text-align: right;\n    }\n</style>\n<table border=\"1\" class=\"dataframe\">\n  <thead>\n    <tr style=\"text-align: right;\">\n      <th></th>\n      <th>month</th>\n      <th>week_day</th>\n      <th>half_hour</th>\n      <th>efficiency</th>\n      <th>unix</th>\n      <th>views</th>\n    </tr>\n  </thead>\n  <tbody>\n    <tr>\n      <th>0</th>\n      <td>4</td>\n      <td>3</td>\n      <td>10</td>\n      <td>2.4</td>\n      <td>1617242398103</td>\n      <td>12</td>\n    </tr>\n    <tr>\n      <th>1</th>\n      <td>4</td>\n      <td>3</td>\n      <td>10</td>\n      <td>2.2</td>\n      <td>1617242393097</td>\n      <td>11</td>\n    </tr>\n    <tr>\n      <th>2</th>\n      <td>4</td>\n      <td>3</td>\n      <td>10</td>\n      <td>2.8</td>\n      <td>1617242388097</td>\n      <td>14</td>\n    </tr>\n    <tr>\n      <th>3</th>\n      <td>4</td>\n      <td>3</td>\n      <td>10</td>\n      <td>2.6</td>\n      <td>1617242383087</td>\n      <td>13</td>\n    </tr>\n    <tr>\n      <th>4</th>\n      <td>4</td>\n      <td>3</td>\n      <td>10</td>\n      <td>3.4</td>\n      <td>1617242378073</td>\n      <td>17</td>\n    </tr>\n    <tr>\n      <th>...</th>\n      <td>...</td>\n      <td>...</td>\n      <td>...</td>\n      <td>...</td>\n      <td>...</td>\n      <td>...</td>\n    </tr>\n    <tr>\n      <th>495</th>\n      <td>4</td>\n      <td>3</td>\n      <td>9</td>\n      <td>2.6</td>\n      <td>1617240149763</td>\n      <td>13</td>\n    </tr>\n    <tr>\n      <th>496</th>\n      <td>4</td>\n      <td>3</td>\n      <td>9</td>\n      <td>2.6</td>\n      <td>1617240144760</td>\n      <td>13</td>\n    </tr>\n    <tr>\n      <th>497</th>\n      <td>4</td>\n      <td>3</td>\n      <td>9</td>\n      <td>1.8</td>\n      <td>1617240139750</td>\n      <td>9</td>\n    </tr>\n    <tr>\n      <th>498</th>\n      <td>4</td>\n      <td>3</td>\n      <td>9</td>\n      <td>2</td>\n      <td>1617240134737</td>\n      <td>10</td>\n    </tr>\n    <tr>\n      <th>499</th>\n      <td>4</td>\n      <td>3</td>\n      <td>9</td>\n      <td>3.4</td>\n      <td>1617240129737</td>\n      <td>17</td>\n    </tr>\n  </tbody>\n</table>\n<p>500 rows × 6 columns</p>\n</div>"
     },
     "execution_count": 71,
     "metadata": {},
     "output_type": "execute_result"
    }
   ],
   "source": [
    "new_df"
   ],
   "metadata": {
    "collapsed": false,
    "pycharm": {
     "name": "#%%\n"
    }
   }
  },
  {
   "cell_type": "code",
   "execution_count": 72,
   "outputs": [],
   "source": [
    "new_df.to_csv('/home/toliman/Desktop/preprocessing_data.csv')\n"
   ],
   "metadata": {
    "collapsed": false,
    "pycharm": {
     "name": "#%%\n"
    }
   }
  }
 ],
 "metadata": {
  "kernelspec": {
   "display_name": "Python 3",
   "language": "python",
   "name": "python3"
  },
  "language_info": {
   "codemirror_mode": {
    "name": "ipython",
    "version": 2
   },
   "file_extension": ".py",
   "mimetype": "text/x-python",
   "name": "python",
   "nbconvert_exporter": "python",
   "pygments_lexer": "ipython2",
   "version": "2.7.6"
  }
 },
 "nbformat": 4,
 "nbformat_minor": 0
}