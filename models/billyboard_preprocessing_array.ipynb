{
 "cells": [
  {
   "cell_type": "code",
   "execution_count": 200,
   "metadata": {
    "collapsed": true
   },
   "outputs": [],
   "source": [
    "from tensorflow.keras.models import Sequential\n",
    "from tensorflow.keras import layers\n",
    "from tensorflow.keras.losses import MSE, MAE\n",
    "from tensorflow.keras.activations import elu\n",
    "from tensorflow.keras.optimizers import Adam, RMSprop\n",
    "import numpy as np\n",
    "import pandas as pd\n",
    "import datetime\n",
    "import tqdm\n"
   ]
  },
  {
   "cell_type": "code",
   "execution_count": 201,
   "outputs": [],
   "source": [
    "def unix_to_month(int_unix):\n",
    "    return datetime.datetime.fromtimestamp(int_unix).month - 1\n",
    "\n",
    "\n",
    "def unix_to_day(int_unix):\n",
    "    return datetime.datetime.fromtimestamp(int_unix).day - 1\n",
    "\n",
    "\n",
    "def unix_to_half_hour_index(int_unix):\n",
    "    obj = datetime.datetime.fromtimestamp(int_unix)\n",
    "    return 1 + obj.hour * 2 + obj.minute // 30 - 1\n",
    "\n",
    "\n",
    "def fill_targets(data: pd.DataFrame):\n",
    "    targets = np.zeros(shape=(12, 31, 49))\n",
    "    for i in tqdm.tqdm(range(max(data.shape[0], 100))):\n",
    "        obj = data.loc[i]\n",
    "        day = unix_to_day(int(obj['unix']) // 1000)\n",
    "        half_hour = unix_to_half_hour_index(int(obj['unix']) // 1000)\n",
    "        month = unix_to_month(int(obj['unix']) // 1000)\n",
    "        targets[month][day][half_hour] += int(obj['views'])\n",
    "    return targets"
   ],
   "metadata": {
    "collapsed": false,
    "pycharm": {
     "name": "#%%\n"
    }
   }
  },
  {
   "cell_type": "code",
   "execution_count": 7,
   "outputs": [],
   "source": [
    "\n",
    "\n",
    "import pandas as pd\n",
    "\n",
    "data = pd.read_csv('/home/toliman/Desktop/holidays_new_mean_sum_dist_month.csv')"
   ],
   "metadata": {
    "collapsed": false,
    "pycharm": {
     "name": "#%%\n"
    }
   }
  },
  {
   "cell_type": "code",
   "execution_count": 8,
   "outputs": [
    {
     "data": {
      "text/plain": "         month  week_day  half_hour  efficiency           unix  views  \\\n0            2         0         10         2.2  1612144793993     11   \n1            2         0         10         1.8  1612144788977      9   \n2            2         0         10         2.2  1612144783973     11   \n3            2         0         10         1.2  1612144778970      6   \n4            2         0         10         2.2  1612144773957     11   \n...        ...       ...        ...         ...            ...    ...   \n4044482      2         0          3         0.2  1612130630600      1   \n4044483      2         0          3         0.6  1612130625587      3   \n4044484      2         0          3         0.6  1612130620580      3   \n4044485      2         0          3         0.4  1612130615577      2   \n4044486      2         0          3         1.2  1612130610570      6   \n\n         distances  mean_half_hour  mean_weekday  holidays  \n0             0.99         3995.09          9.69       0.1  \n1             0.99         3995.09          9.69       0.1  \n2             0.99         3995.09          9.69       0.1  \n3             0.99         3995.09          9.69       0.1  \n4             0.99         3995.09          9.69       0.1  \n...            ...             ...           ...       ...  \n4044482       0.99         1227.44          9.69       0.1  \n4044483       0.99         1227.44          9.69       0.1  \n4044484       0.99         1227.44          9.69       0.1  \n4044485       0.99         1227.44          9.69       0.1  \n4044486       0.99         1227.44          9.69       0.1  \n\n[4044487 rows x 10 columns]",
      "text/html": "<div>\n<style scoped>\n    .dataframe tbody tr th:only-of-type {\n        vertical-align: middle;\n    }\n\n    .dataframe tbody tr th {\n        vertical-align: top;\n    }\n\n    .dataframe thead th {\n        text-align: right;\n    }\n</style>\n<table border=\"1\" class=\"dataframe\">\n  <thead>\n    <tr style=\"text-align: right;\">\n      <th></th>\n      <th>month</th>\n      <th>week_day</th>\n      <th>half_hour</th>\n      <th>efficiency</th>\n      <th>unix</th>\n      <th>views</th>\n      <th>distances</th>\n      <th>mean_half_hour</th>\n      <th>mean_weekday</th>\n      <th>holidays</th>\n    </tr>\n  </thead>\n  <tbody>\n    <tr>\n      <th>0</th>\n      <td>2</td>\n      <td>0</td>\n      <td>10</td>\n      <td>2.2</td>\n      <td>1612144793993</td>\n      <td>11</td>\n      <td>0.99</td>\n      <td>3995.09</td>\n      <td>9.69</td>\n      <td>0.1</td>\n    </tr>\n    <tr>\n      <th>1</th>\n      <td>2</td>\n      <td>0</td>\n      <td>10</td>\n      <td>1.8</td>\n      <td>1612144788977</td>\n      <td>9</td>\n      <td>0.99</td>\n      <td>3995.09</td>\n      <td>9.69</td>\n      <td>0.1</td>\n    </tr>\n    <tr>\n      <th>2</th>\n      <td>2</td>\n      <td>0</td>\n      <td>10</td>\n      <td>2.2</td>\n      <td>1612144783973</td>\n      <td>11</td>\n      <td>0.99</td>\n      <td>3995.09</td>\n      <td>9.69</td>\n      <td>0.1</td>\n    </tr>\n    <tr>\n      <th>3</th>\n      <td>2</td>\n      <td>0</td>\n      <td>10</td>\n      <td>1.2</td>\n      <td>1612144778970</td>\n      <td>6</td>\n      <td>0.99</td>\n      <td>3995.09</td>\n      <td>9.69</td>\n      <td>0.1</td>\n    </tr>\n    <tr>\n      <th>4</th>\n      <td>2</td>\n      <td>0</td>\n      <td>10</td>\n      <td>2.2</td>\n      <td>1612144773957</td>\n      <td>11</td>\n      <td>0.99</td>\n      <td>3995.09</td>\n      <td>9.69</td>\n      <td>0.1</td>\n    </tr>\n    <tr>\n      <th>...</th>\n      <td>...</td>\n      <td>...</td>\n      <td>...</td>\n      <td>...</td>\n      <td>...</td>\n      <td>...</td>\n      <td>...</td>\n      <td>...</td>\n      <td>...</td>\n      <td>...</td>\n    </tr>\n    <tr>\n      <th>4044482</th>\n      <td>2</td>\n      <td>0</td>\n      <td>3</td>\n      <td>0.2</td>\n      <td>1612130630600</td>\n      <td>1</td>\n      <td>0.99</td>\n      <td>1227.44</td>\n      <td>9.69</td>\n      <td>0.1</td>\n    </tr>\n    <tr>\n      <th>4044483</th>\n      <td>2</td>\n      <td>0</td>\n      <td>3</td>\n      <td>0.6</td>\n      <td>1612130625587</td>\n      <td>3</td>\n      <td>0.99</td>\n      <td>1227.44</td>\n      <td>9.69</td>\n      <td>0.1</td>\n    </tr>\n    <tr>\n      <th>4044484</th>\n      <td>2</td>\n      <td>0</td>\n      <td>3</td>\n      <td>0.6</td>\n      <td>1612130620580</td>\n      <td>3</td>\n      <td>0.99</td>\n      <td>1227.44</td>\n      <td>9.69</td>\n      <td>0.1</td>\n    </tr>\n    <tr>\n      <th>4044485</th>\n      <td>2</td>\n      <td>0</td>\n      <td>3</td>\n      <td>0.4</td>\n      <td>1612130615577</td>\n      <td>2</td>\n      <td>0.99</td>\n      <td>1227.44</td>\n      <td>9.69</td>\n      <td>0.1</td>\n    </tr>\n    <tr>\n      <th>4044486</th>\n      <td>2</td>\n      <td>0</td>\n      <td>3</td>\n      <td>1.2</td>\n      <td>1612130610570</td>\n      <td>6</td>\n      <td>0.99</td>\n      <td>1227.44</td>\n      <td>9.69</td>\n      <td>0.1</td>\n    </tr>\n  </tbody>\n</table>\n<p>4044487 rows × 10 columns</p>\n</div>"
     },
     "execution_count": 8,
     "metadata": {},
     "output_type": "execute_result"
    }
   ],
   "source": [
    "data"
   ],
   "metadata": {
    "collapsed": false,
    "pycharm": {
     "name": "#%%\n"
    }
   }
  },
  {
   "cell_type": "code",
   "execution_count": null,
   "outputs": [],
   "source": [
    "# print(data.columns)\n",
    "# print(data.values)\n",
    "# data = data.drop(columns=['unix', ], axis=1)\n",
    "\n",
    "targets = fill_targets(data)"
   ],
   "metadata": {
    "collapsed": false,
    "pycharm": {
     "name": "#%%\n"
    }
   }
  },
  {
   "cell_type": "code",
   "execution_count": 203,
   "outputs": [
    {
     "name": "stdout",
     "output_type": "stream",
     "text": [
      "3468.0\n",
      "4960.0\n",
      "0.0\n",
      "0.0\n",
      "6834.0\n",
      "7414.0\n",
      "3826.0\n",
      "0.0\n",
      "5998.0\n",
      "4734.0\n",
      "1109.0\n",
      "4829.0\n",
      "9771.0\n",
      "4620.0\n",
      "0.0\n",
      "7164.0\n",
      "4803.0\n",
      "4830.0\n",
      "4471.0\n",
      "5181.0\n",
      "4319.0\n",
      "3648.0\n",
      "4605.0\n",
      "4807.0\n",
      "5478.0\n",
      "7058.0\n",
      "7887.0\n",
      "4368.0\n",
      "3353.0\n",
      "5867.0\n"
     ]
    }
   ],
   "source": [
    "\n",
    "# for x in targets:\n",
    "#     print(x.max())"
   ],
   "metadata": {
    "collapsed": false,
    "pycharm": {
     "name": "#%%\n"
    }
   }
  },
  {
   "cell_type": "code",
   "execution_count": 204,
   "outputs": [],
   "source": [
    "train_y = np.zeros(shape=(data.shape[0]))"
   ],
   "metadata": {
    "collapsed": false,
    "pycharm": {
     "name": "#%%\n"
    }
   }
  },
  {
   "cell_type": "code",
   "execution_count": 205,
   "outputs": [],
   "source": [
    "for i in tqdm.tqdm(range(max(data.shape[0], 100))):\n",
    "    obj = data.loc[i]\n",
    "    day = unix_to_day(int(obj['unix']) // 1000)\n",
    "    half_hour = unix_to_half_hour_index(int(obj['unix']) // 1000)\n",
    "    month = unix_to_month(int(obj['unix']) // 1000)\n",
    "    train_y[i] = targets[month][day][half_hour]"
   ],
   "metadata": {
    "collapsed": false,
    "pycharm": {
     "name": "#%%\n"
    }
   }
  },
  {
   "cell_type": "code",
   "execution_count": 206,
   "outputs": [],
   "source": [
    "train_y -= train_y.min()\n",
    "train_y /= train_y.max()\n",
    "\n",
    "np.save('/home/toliman/Desktop/targets', targets)\n",
    "np.save('/home/toliman/Desktop/train_y', train_y)\n",
    "\n",
    "data = data.drop('unix', axis=1)"
   ],
   "metadata": {
    "collapsed": false,
    "pycharm": {
     "name": "#%%\n"
    }
   }
  },
  {
   "cell_type": "code",
   "execution_count": 208,
   "outputs": [],
   "source": [
    "train_x = data.values\n",
    "\n",
    "for i in tqdm.tqdm(range(max(train_x.shape[0], 100))):\n",
    "    train_x[i] -= train_x[i].min()\n",
    "    train_x[i] /= train_x[i].max()\n",
    "\n",
    "np.save('/home/toliman/Desktop/train_x', train_x)\n",
    "\n",
    "exit(0)"
   ],
   "metadata": {
    "collapsed": false,
    "pycharm": {
     "name": "#%%\n"
    }
   }
  },
  {
   "cell_type": "code",
   "execution_count": null,
   "outputs": [],
   "source": [
    "stats = np.zeros(shape=(49,))\n",
    "for x in targets:\n",
    "    stats += x\n",
    "\n",
    "stats /= targets.shape[0]\n",
    "\n",
    "from matplotlib import pyplot as plt\n",
    "\n",
    "plt.plot(list(range(0, 49)), stats, color='red')\n",
    "plt.show()"
   ],
   "metadata": {
    "collapsed": false,
    "pycharm": {
     "name": "#%%\n"
    }
   }
  }
 ],
 "metadata": {
  "kernelspec": {
   "display_name": "Python 3",
   "language": "python",
   "name": "python3"
  },
  "language_info": {
   "codemirror_mode": {
    "name": "ipython",
    "version": 2
   },
   "file_extension": ".py",
   "mimetype": "text/x-python",
   "name": "python",
   "nbconvert_exporter": "python",
   "pygments_lexer": "ipython2",
   "version": "2.7.6"
  }
 },
 "nbformat": 4,
 "nbformat_minor": 0
}