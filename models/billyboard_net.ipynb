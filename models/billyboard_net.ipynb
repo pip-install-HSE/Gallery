{
 "cells": [
  {
   "cell_type": "code",
   "execution_count": 260,
   "metadata": {
    "collapsed": true
   },
   "outputs": [],
   "source": [
    "from tensorflow.keras.models import Sequential\n",
    "from tensorflow.keras import layers\n",
    "from tensorflow.keras.losses import MSE, MAE\n",
    "from tensorflow.keras.activations import elu\n",
    "from tensorflow.keras.optimizers import Adam, RMSprop\n",
    "import numpy as np\n",
    "import pandas as pd\n",
    "import datetime"
   ]
  },
  {
   "cell_type": "code",
   "execution_count": 261,
   "outputs": [],
   "source": [
    "train_x = np.load('/home/toliman/Desktop/train_x.npy')\n",
    "train_y = np.load('/home/toliman/Desktop/train_y.npy')\n",
    "targets = np.load('/home/toliman/Desktop/targets.npy')"
   ],
   "metadata": {
    "collapsed": false,
    "pycharm": {
     "name": "#%%\n"
    }
   }
  },
  {
   "cell_type": "code",
   "execution_count": 265,
   "outputs": [
    {
     "data": {
      "text/plain": "array([[5.00614504e-04, 0.00000000e+00, 2.50307252e-03, ...,\n        1.00000000e+00, 2.42547727e-03, 2.50307252e-05],\n       [5.00614504e-04, 0.00000000e+00, 2.50307252e-03, ...,\n        1.00000000e+00, 2.42547727e-03, 2.50307252e-05],\n       [5.00614504e-04, 0.00000000e+00, 2.50307252e-03, ...,\n        1.00000000e+00, 2.42547727e-03, 2.50307252e-05],\n       ...,\n       [1.62940755e-03, 0.00000000e+00, 2.44411132e-03, ...,\n        1.00000000e+00, 7.89447957e-03, 8.14703774e-05],\n       [1.62940755e-03, 0.00000000e+00, 2.44411132e-03, ...,\n        1.00000000e+00, 7.89447957e-03, 8.14703774e-05],\n       [1.62940755e-03, 0.00000000e+00, 2.44411132e-03, ...,\n        1.00000000e+00, 7.89447957e-03, 8.14703774e-05]])"
     },
     "execution_count": 265,
     "metadata": {},
     "output_type": "execute_result"
    }
   ],
   "source": [
    "train_x"
   ],
   "metadata": {
    "collapsed": false,
    "pycharm": {
     "name": "#%%\n"
    }
   }
  },
  {
   "cell_type": "code",
   "execution_count": null,
   "outputs": [],
   "source": [
    "from sklearn.model_selection import train_test_split\n",
    "\n",
    "x_train, x_val, y_train, y_val = train_test_split(train_x, train_y, shuffle=False)"
   ],
   "metadata": {
    "collapsed": false,
    "pycharm": {
     "name": "#%%\n"
    }
   }
  },
  {
   "cell_type": "code",
   "execution_count": null,
   "outputs": [],
   "source": [
    "network = Sequential(\n",
    "    [\n",
    "        layers.Dense(64, input_shape=(train_x.shape[1],), activation='relu'),\n",
    "        layers.Dense(96, activation='relu'),\n",
    "        layers.Dense(128, activation='relu'),\n",
    "        layers.Dense(128, activation='relu'),\n",
    "        layers.Dense(64, activation='relu'),\n",
    "        layers.Dense(32, activation='relu'),\n",
    "        layers.Dense(16, activation='relu'),\n",
    "        layers.Dense(1, activation='sigmoid'),\n",
    "    ]\n",
    ")\n",
    "\n",
    "network.summary()"
   ],
   "metadata": {
    "collapsed": false,
    "pycharm": {
     "name": "#%%\n"
    }
   }
  },
  {
   "cell_type": "code",
   "execution_count": 211,
   "outputs": [],
   "source": [
    "from tensorflow.keras.metrics import RootMeanSquaredError\n",
    "\n",
    "network.compile(\n",
    "    optimizer=RMSprop(learning_rate=.00025),\n",
    "    loss=MAE,\n",
    "    metrics=[RootMeanSquaredError(), ],\n",
    ")"
   ],
   "metadata": {
    "collapsed": false,
    "pycharm": {
     "name": "#%%\n"
    }
   }
  },
  {
   "cell_type": "code",
   "execution_count": 212,
   "outputs": [],
   "source": [
    "network.fit(\n",
    "    x_train,\n",
    "    y_train,\n",
    "    batch_size=128,\n",
    "    epochs=30,\n",
    "    validation_data=(x_val, y_val,),\n",
    ")\n",
    "\n",
    "network.save('billyboard.v4.h5')"
   ],
   "metadata": {
    "collapsed": false,
    "pycharm": {
     "name": "#%%\n"
    }
   }
  },
  {
   "cell_type": "code",
   "execution_count": 229,
   "outputs": [
    {
     "name": "stdout",
     "output_type": "stream",
     "text": [
      "[349795 253029 112955 108423 224600  86995 423299 109119 147683 173496\n",
      " 187887   9343 194283  20197 382489 391888  66360  68550 489220 132546\n",
      "  83820  71058 491387  99442 291193 422894 485736 341267 456496  27314\n",
      "  71392 459739 429273 224606 476291 338507  55158 197054 194459  35023\n",
      " 484883  61474 100778 212618 376866 171441 262929 270567 350401  42420\n",
      " 452781 386460 355716 251974  45767 237757  16995 465413 151510 154770\n",
      " 440688 346089 297889 207564 175458 395055 336879 101973 422317 230391\n",
      " 124257 478372 365413 310627   2504 304970 360332 162628 456752 189483\n",
      " 192969 324301 309918  73370  67636 315480 461972  53516  94870 271119\n",
      " 237473 132765 491170  38607  61414 154737 292968  35977 259437 307459]\n"
     ]
    },
    {
     "data": {
      "text/plain": "[array([0.01867449], dtype=float32),\n array([-0.523291], dtype=float32),\n array([-0.47723606], dtype=float32),\n array([-0.20820607], dtype=float32),\n array([-0.45991397], dtype=float32),\n array([-0.40131956], dtype=float32),\n array([-0.41170713], dtype=float32),\n array([-0.23011386], dtype=float32),\n array([-0.24742055], dtype=float32),\n array([-0.3967101], dtype=float32),\n array([-0.18114886], dtype=float32),\n array([-0.32363036], dtype=float32),\n array([-0.44319892], dtype=float32),\n array([-0.35930017], dtype=float32),\n array([-0.22344264], dtype=float32),\n array([-0.26143992], dtype=float32),\n array([-0.39245582], dtype=float32),\n array([-0.15782848], dtype=float32),\n array([-0.41229364], dtype=float32),\n array([-0.44706666], dtype=float32),\n array([-0.37973174], dtype=float32),\n array([-0.45624548], dtype=float32),\n array([-0.34998807], dtype=float32),\n array([-0.48426077], dtype=float32),\n array([-0.3599795], dtype=float32),\n array([-0.24499516], dtype=float32),\n array([-0.30863917], dtype=float32),\n array([-0.09666558], dtype=float32),\n array([-0.45405757], dtype=float32),\n array([-0.53531957], dtype=float32),\n array([-0.3904443], dtype=float32),\n array([-0.13286646], dtype=float32),\n array([-0.38020855], dtype=float32),\n array([-0.45991397], dtype=float32),\n array([-0.2896746], dtype=float32),\n array([-0.47042677], dtype=float32),\n array([-0.1625797], dtype=float32),\n array([-0.34540078], dtype=float32),\n array([-0.44319892], dtype=float32),\n array([-0.5081758], dtype=float32),\n array([-0.2639301], dtype=float32),\n array([-0.41364804], dtype=float32),\n array([-0.5051512], dtype=float32),\n array([-0.05701834], dtype=float32),\n array([-0.24402592], dtype=float32),\n array([-0.39910227], dtype=float32),\n array([-0.52887964], dtype=float32),\n array([-0.32302877], dtype=float32),\n array([-0.30557135], dtype=float32),\n array([-0.5233902], dtype=float32),\n array([-0.2143034], dtype=float32),\n array([-0.39847103], dtype=float32),\n array([-0.47577906], dtype=float32),\n array([-0.45773315], dtype=float32),\n array([-0.38411322], dtype=float32),\n array([-0.30863917], dtype=float32),\n array([-0.4326323], dtype=float32),\n array([-0.46925262], dtype=float32),\n array([-0.29027724], dtype=float32),\n array([-0.39696148], dtype=float32),\n array([-0.49331626], dtype=float32),\n array([-0.45358467], dtype=float32),\n array([-0.2719543], dtype=float32),\n array([-0.4377036], dtype=float32),\n array([-0.47706354], dtype=float32),\n array([-0.3634887], dtype=float32),\n array([-0.3639362], dtype=float32),\n array([-0.15404774], dtype=float32),\n array([-0.40561756], dtype=float32),\n array([-0.35369515], dtype=float32),\n array([-0.45908093], dtype=float32),\n array([-0.44706666], dtype=float32),\n array([-0.50656885], dtype=float32),\n array([-0.4252357], dtype=float32),\n array([0.00145464], dtype=float32),\n array([-0.21603563], dtype=float32),\n array([-0.34770325], dtype=float32),\n array([-0.34667444], dtype=float32),\n array([-0.47042677], dtype=float32),\n array([-0.32079846], dtype=float32),\n array([-0.41659722], dtype=float32),\n array([-0.19717981], dtype=float32),\n array([-0.35317314], dtype=float32),\n array([-0.50820005], dtype=float32),\n array([-0.46703798], dtype=float32),\n array([-0.16952069], dtype=float32),\n array([-0.12959927], dtype=float32),\n array([-0.52399576], dtype=float32),\n array([-0.3154375], dtype=float32),\n array([-0.2793736], dtype=float32),\n array([-0.284338], dtype=float32),\n array([-0.37371877], dtype=float32),\n array([-0.46074796], dtype=float32),\n array([-0.5306423], dtype=float32),\n array([-0.41364807], dtype=float32),\n array([-0.40832967], dtype=float32),\n array([-0.31590548], dtype=float32),\n array([-0.5128455], dtype=float32),\n array([-0.34492162], dtype=float32),\n array([-0.19735885], dtype=float32)]"
     },
     "execution_count": 229,
     "metadata": {},
     "output_type": "execute_result"
    }
   ],
   "source": [
    "x = np.random.choice(train_x.shape[0], 100, replace=False)"
   ],
   "metadata": {
    "collapsed": false,
    "pycharm": {
     "name": "#%%\n"
    }
   }
  },
  {
   "cell_type": "code",
   "execution_count": null,
   "outputs": [],
   "source": [
    "pred = network.predict(train_x[x])\n",
    "\n",
    "ar = train_y[x]\n",
    "\n",
    "print(list(zip(pred, ar)))"
   ],
   "metadata": {
    "collapsed": false,
    "pycharm": {
     "name": "#%%\n"
    }
   }
  },
  {
   "cell_type": "code",
   "execution_count": 214,
   "outputs": [],
   "source": [],
   "metadata": {
    "collapsed": false,
    "pycharm": {
     "name": "#%%\n"
    }
   }
  }
 ],
 "metadata": {
  "kernelspec": {
   "display_name": "Python 3",
   "language": "python",
   "name": "python3"
  },
  "language_info": {
   "codemirror_mode": {
    "name": "ipython",
    "version": 2
   },
   "file_extension": ".py",
   "mimetype": "text/x-python",
   "name": "python",
   "nbconvert_exporter": "python",
   "pygments_lexer": "ipython2",
   "version": "2.7.6"
  }
 },
 "nbformat": 4,
 "nbformat_minor": 0
}